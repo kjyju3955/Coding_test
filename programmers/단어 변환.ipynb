{
 "cells": [
  {
   "cell_type": "markdown",
   "metadata": {},
   "source": [
    "# 단어 변환"
   ]
  },
  {
   "cell_type": "markdown",
   "metadata": {},
   "source": [
    "## 문제\n",
    "두 개의 단어 begin, target과 단어의 집합 words가 존재. 아래와 같은 규칙을 이용하여 begin에서 target으로 변환하는 가장 짧은 변환 과정을 찾으려고 함.\n",
    " - 한 번에 한 개의 알파벳만 변경 가능\n",
    " - words에 있는 단어로만 변환 가능\n",
    "두 개의 단어 begin, target과 단어의 집합 words가 매개변수로 주어질 때, 최소 몇 단계의 과정을 거쳐 begin을 target으로 변환할 수 있는지 return.\n",
    "<br><br>\n",
    "input : begin = 문자열, target = 문자열, words = 문자열 배열, output : 정수\n",
    "\n",
    "#### <조건>\n",
    " - 각 단어는 알파벳 소문자로만 이루어져 있음\n",
    " - 각 단어의 길이는 3 이상 10 이하이며 모든 단어의 길이는 같음\n",
    " - words에는 3개 이상 50개 이하의 단어가 있으며 중복되는 단어는 없음\n",
    " - begin과 target은 같지 않음\n",
    " - 변환할 수 없는 경우에는 0를 return\n",
    " \n",
    "#### <예시>\n",
    "input : begin = \"hit\", target = \"cog\", words = [\"hot\", \"dot\", \"dog\", \"lot\", \"log\", \"cog\"]\n",
    "<br><br>\n",
    "result : 4\n",
    "<br><br>\n",
    " - \"hit\" -> \"hot\" -> \"dot\" -> \"dog\" -> \"cog\"와 같이 4단계를 거쳐 변환 가능\n",
    " - 따라서, 4 return"
   ]
  },
  {
   "cell_type": "markdown",
   "metadata": {},
   "source": [
    "## 풀이\n",
    " - 깊이 우선 탐색 활용\n",
    " - target이 words에 없을 경우에는 경로를 찾을 수 없기에 초반에 0 return\n",
    " - words에 시작 단어도 담은 상태로 한 개의 알파벳만 다른 단어들을 찾아서 딕셔너리에 저장\n",
    "   - words에 있는 word를 돌면서 단어의 알파벳을 비교해보고 두 알파벳이 다른 개수를 count에 저장\n",
    "   - count의 개수가 1개일 때 다음으로 변경이 가능한 단어이기에 word_list에 저장\n",
    "   - 모든 변경 가능한 단어를 저장하고 나면 graph에 word를 key값으로 word_list를 value로 저장\n",
    " - graph를 생성하고 나면 깊이우선 탐색을 이용해서 경로 탐색\n",
    "   - 기존의 깊이 우선 탐색과 코드는 동일하나 queue를 정렬해주는 방식 추가\n",
    "   - queue에 저장된 단어중에서 target과 다른 알파벳의 개수가 적은 순으로 정렬해 준 후에 탐색 진행\n",
    " - 만약 node값이 target값과 같아진다면 최단 경로를 구한 것이기에 visited의 길이를 return"
   ]
  },
  {
   "cell_type": "code",
   "execution_count": 1,
   "metadata": {},
   "outputs": [],
   "source": [
    "def solution(begin, target, words):\n",
    "    if target not in words:\n",
    "        return 0\n",
    "    \n",
    "    words = [begin] + words\n",
    "    \n",
    "    graph = dict()\n",
    "    \n",
    "    for word in words:\n",
    "        word_list = []\n",
    "        for w in words:\n",
    "            count = 0\n",
    "            for i in range(len(w)):\n",
    "                if word[i] != w[i]: count += 1\n",
    "            if count == 1: word_list.append(w)\n",
    "                \n",
    "        graph[word] = word_list\n",
    "    \n",
    "    return find_path(graph, begin, target)\n",
    "    \n",
    "    \n",
    "def find_path(graph, start, end):\n",
    "    queue, visited = [start], []\n",
    "    \n",
    "    while queue:\n",
    "        queue = sorted(queue, key=lambda x: len(set(list(x)+list(end))))\n",
    "        node = queue.pop(0)\n",
    "        if node == end: return len(visited)\n",
    "        if node not in visited:\n",
    "            visited.append(node)\n",
    "            queue.extend(graph[node])"
   ]
  },
  {
   "cell_type": "code",
   "execution_count": 2,
   "metadata": {},
   "outputs": [
    {
     "data": {
      "text/plain": [
       "4"
      ]
     },
     "execution_count": 2,
     "metadata": {},
     "output_type": "execute_result"
    }
   ],
   "source": [
    "begin = \"hit\"\n",
    "target = \"cog\"\n",
    "words = [\"hot\", \"dot\", \"dog\", \"lot\", \"log\", \"cog\"]\n",
    "\n",
    "solution(begin, target, words)"
   ]
  }
 ],
 "metadata": {
  "kernelspec": {
   "display_name": "Python 3",
   "language": "python",
   "name": "python3"
  },
  "language_info": {
   "codemirror_mode": {
    "name": "ipython",
    "version": 3
   },
   "file_extension": ".py",
   "mimetype": "text/x-python",
   "name": "python",
   "nbconvert_exporter": "python",
   "pygments_lexer": "ipython3",
   "version": "3.8.5"
  }
 },
 "nbformat": 4,
 "nbformat_minor": 4
}
