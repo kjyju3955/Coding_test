{
 "cells": [
  {
   "cell_type": "markdown",
   "metadata": {},
   "source": [
    "# N개의 최소공배수"
   ]
  },
  {
   "cell_type": "markdown",
   "metadata": {},
   "source": [
    "## 문제\n",
    "두 수의 최소공배수(Least Common Multiple)란 입력된 두 수의 배수 중 공통이 되는 가장 작은 숫자를 의미. 정의를 확장해서, n개의 수의 최소공배수는 n 개의 수들의 배수 중 공통이 되는 가장 작은 숫자가 됨. n개의 숫자를 담은 배열 arr이 입력되었을 때 이 수들의 최소공배수를 반환하는 함수, solution을 완성.\n",
    "<br><br>\n",
    "input : 정수 배열, output : 정수\n",
    "\n",
    "#### <조건>\n",
    " - arr은 길이 1이상, 15이하인 배열\n",
    " - arr의 원소는 100 이하인 자연\n",
    " \n",
    "#### <예시>\n",
    "input : [2,6,8,14]\t\n",
    "<br><br>\n",
    "result : 168\n",
    "\n",
    "https://programmers.co.kr/learn/courses/30/lessons/12953"
   ]
  },
  {
   "cell_type": "markdown",
   "metadata": {},
   "source": [
    "## 풀이\n",
    " - a,b,c의 정수가 있다면 a와 b의 최소공배수를 구해서 다시 c와의 최소공배수를 구하는 방식의 풀이\n",
    " - gcd라는 최대공약수를 구하는 함수 작성\n",
    " - lcm이라는 최소공배수를 구하는 함수 작성\n",
    " - arr의 길이가 1개가 될 때까지 두 개를 뽑아서 최소공배수를 구해 다시 배열에 넣어주는 과정 반복\n",
    " - 반복문이 끝나면 배열에 들어있는 결과를 return"
   ]
  },
  {
   "cell_type": "code",
   "execution_count": 1,
   "metadata": {},
   "outputs": [],
   "source": [
    "def solution(arr):\n",
    "    while len(arr) >= 2:\n",
    "        num1 = arr.pop()\n",
    "        num2 = arr.pop()\n",
    "        arr.append(lcm(num1, num2))\n",
    "        \n",
    "    return int(arr[0])\n",
    "        \n",
    "def gcd(num1, num2):\n",
    "    while num2 != 0:\n",
    "        temp = num1 % num2\n",
    "        num1 = num2\n",
    "        num2 = temp\n",
    "    return abs(num1)\n",
    "\n",
    "def lcm(num1, num2):\n",
    "    g_value = gcd(num1, num2)\n",
    "    if g_value == 0: return 0\n",
    "    return abs((num1*num2)/g_value)"
   ]
  },
  {
   "cell_type": "code",
   "execution_count": 2,
   "metadata": {},
   "outputs": [
    {
     "data": {
      "text/plain": [
       "144"
      ]
     },
     "execution_count": 2,
     "metadata": {},
     "output_type": "execute_result"
    }
   ],
   "source": [
    "arr = [3,4,9,16]\n",
    "\n",
    "solution(arr)"
   ]
  }
 ],
 "metadata": {
  "kernelspec": {
   "display_name": "Python 3",
   "language": "python",
   "name": "python3"
  },
  "language_info": {
   "codemirror_mode": {
    "name": "ipython",
    "version": 3
   },
   "file_extension": ".py",
   "mimetype": "text/x-python",
   "name": "python",
   "nbconvert_exporter": "python",
   "pygments_lexer": "ipython3",
   "version": "3.8.5"
  }
 },
 "nbformat": 4,
 "nbformat_minor": 4
}
