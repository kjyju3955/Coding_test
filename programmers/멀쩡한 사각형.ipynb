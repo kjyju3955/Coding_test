{
 "cells": [
  {
   "cell_type": "markdown",
   "id": "3cf46881",
   "metadata": {},
   "source": [
    "# 멀쩡한 사각형"
   ]
  },
  {
   "attachments": {
    "image.png": {
     "image/png": "[encoded data removed]"
    }
   },
   "cell_type": "markdown",
   "id": "365212be",
   "metadata": {},
   "source": [
    "## 문제\n",
    "가로 길이가 Wcm, 세로 길이가 Hcm인 직사각형 종이가 있음 <br>\n",
    "종이에는 가로, 세로 방향과 평행하게 격자 형태로 선이 그어져 있으며, 모든 격자칸은 1cm x 1cm 크기 <br>\n",
    "정사각형으로 잘라 사용할 예정이었는데, 누군가가 이 종이를 대각선 꼭지점 2개를 잇는 방향으로 잘라 놓음 <br>\n",
    "새로운 종이를 구할 수 없어 잘라진 종이에서 사용 가능한 정사각형만 사용하기로 함, 이때 사용 가능한 정사각형의 개수를 return \n",
    "<br><br>\n",
    "input : w = 숫자, h = 숫자, output : 숫자\n",
    "\n",
    "#### <조건>\n",
    " - W, H : 1억 이하의 자연수\n",
    " \n",
    "#### <예시>\n",
    "input : w = 8, h = 12\n",
    "<br><br>\n",
    "result : 80\n",
    "<br><br>\n",
    "  ![image.png](attachment:image.png)\n",
    " - 가로가 8, 세로가 12인 직사각형을 대각선 방향으로 자르면 총 16개 정사각형을 사용할 수 없음\n",
    " - 원래 직사각형에서는 96개의 정사각형을 만들 수 있었으므로, 96 - 16 = 80 을 반환\n",
    " \n",
    "https://programmers.co.kr/learn/courses/30/lessons/62048"
   ]
  },
  {
   "cell_type": "markdown",
   "id": "6ebbfe26",
   "metadata": {},
   "source": [
    "## 풀이\n",
    " - 사라지는 정사각형의 갯수에 대한 규칙을 탐색\n",
    " - w측에서 없어지는 정사각형의 개수인 w와 h측에서 없어지는 정사각형 개수인 h를 더함\n",
    " - 중복되서 세어지는 정사각형의 개수를 빼줌\n",
    " - 이때 중복되는 정사각형의 개수 = 최소공배수를 이용\n",
    " - w,h에 대한 find_num함수를 이용해서 최소공배수를 구함\n",
    " - 사용할 수 없는 정사각형의 개수를 구함\n",
    " - 원래의 정사각형의 개수에서 사용할 수 없는 정사각형의 개수를 빼서 return"
   ]
  },
  {
   "cell_type": "code",
   "execution_count": 1,
   "id": "1045a7ac",
   "metadata": {},
   "outputs": [],
   "source": [
    "def solution(w,h):\n",
    "    return w*h-(w+h-find_num(w,h))\n",
    "    \n",
    "    \n",
    "def find_num(w,h):\n",
    "    if h > w:\n",
    "        w,h = h,w\n",
    "        \n",
    "    while(h!=0):\n",
    "        w = w % h\n",
    "        w,h = h,w\n",
    "    \n",
    "    return w"
   ]
  },
  {
   "cell_type": "code",
   "execution_count": 2,
   "id": "16c4a3aa",
   "metadata": {},
   "outputs": [
    {
     "data": {
      "text/plain": [
       "80"
      ]
     },
     "execution_count": 2,
     "metadata": {},
     "output_type": "execute_result"
    }
   ],
   "source": [
    "w = 8\n",
    "h = 12\n",
    "\n",
    "solution(w,h)"
   ]
  }
 ],
 "metadata": {
  "kernelspec": {
   "display_name": "Python 3",
   "language": "python",
   "name": "python3"
  },
  "language_info": {
   "codemirror_mode": {
    "name": "ipython",
    "version": 3
   },
   "file_extension": ".py",
   "mimetype": "text/x-python",
   "name": "python",
   "nbconvert_exporter": "python",
   "pygments_lexer": "ipython3",
   "version": "3.8.8"
  }
 },
 "nbformat": 4,
 "nbformat_minor": 5
}
