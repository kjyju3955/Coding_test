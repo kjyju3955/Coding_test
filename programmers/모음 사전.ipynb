{
 "cells": [
  {
   "cell_type": "markdown",
   "metadata": {},
   "source": [
    "# 모음 사전"
   ]
  },
  {
   "cell_type": "markdown",
   "metadata": {},
   "source": [
    "## 문제\n",
    "사전에 알파벳 모음 'A', 'E', 'I', 'O', 'U'만을 사용하여 만들 수 있는, 길이 5 이하의 모든 단어가 수록되어 있음. 사전에서 첫 번째 단어는 \"A\"이고, 그다음은 \"AA\"이며, 마지막 단어는 \"UUUUU\". 단어 하나 word가 매개변수로 주어질 때, 이 단어가 사전에서 몇 번째 단어인지 return.\n",
    "<br><br>\n",
    "input : 문자열, output : 정수\n",
    "\n",
    "#### <조건>\n",
    " - word의 길이는 1 이상 5 이하\n",
    " - word는 알파벳 대문자 'A', 'E', 'I', 'O', 'U'로만 이루어져 있음\n",
    " \n",
    "#### <예시>\n",
    "input : \"AAAAE\"\n",
    "<br><br>\n",
    "result : 6\n",
    "<br><br>\n",
    " - 사전에서 첫 번째 단어는 \"A\"이고, 그다음은 \"AA\", \"AAA\", \"AAAA\", \"AAAAA\", \"AAAAE\", ... 와 같음\n",
    " - 따라서,\"AAAAE\"는 사전에서 6번째 단어\n",
    " \n",
    "https://programmers.co.kr/learn/courses/30/lessons/84512"
   ]
  },
  {
   "cell_type": "markdown",
   "metadata": {},
   "source": [
    "## 풀이\n",
    " - 첫번째 단어는 \"A\"이기에 1, 두번째는 2... 순으로해서 alpha 딕셔너리 생성\n",
    " - 주어진 word를 alpha에 맞춰서 숫자로 변경\n",
    " - \"A\" 부터 여러개의 경우를 직접 만들어본 결과 각 자릿수가 변할 때마다 패턴을 가지고 변하는 것을 발견\n",
    "   - 이를 num에 저장\n",
    " - answr에 단어의 길이만큼을 저장해줌\n",
    " - 각 단어의 자릿수 별로 변하는 횟수를 더해줌\n",
    "   - 이때, \"A\"인 경우에는 해당사항 없음\n",
    " - 모든 자릿수를 다 더해주고 나면 answer return"
   ]
  },
  {
   "cell_type": "code",
   "execution_count": 3,
   "metadata": {},
   "outputs": [],
   "source": [
    "def solution(word):\n",
    "    alpha = {\"A\":1, \"E\":2, \"I\":3, \"O\":4, \"U\":5}\n",
    "    wtn = [alpha[w] for w in word] \n",
    "    print(wtn)\n",
    "    num = [1+5+(5**2)+(5**3)+(5**4), 1+5+(5**2)+(5**3), 1+5+(5**2), 1+5, 1]\n",
    "    \n",
    "    answer = len(wtn)\n",
    "    for i in range(len(wtn)):\n",
    "        if wtn[i] != 1:\n",
    "            answer += (wtn[i]-1)*num[i]\n",
    "    \n",
    "    return answer"
   ]
  },
  {
   "cell_type": "code",
   "execution_count": 4,
   "metadata": {},
   "outputs": [
    {
     "name": "stdout",
     "output_type": "stream",
     "text": [
      "[1, 1, 1, 2]\n"
     ]
    },
    {
     "data": {
      "text/plain": [
       "10"
      ]
     },
     "execution_count": 4,
     "metadata": {},
     "output_type": "execute_result"
    }
   ],
   "source": [
    "word = \"AAAE\"\n",
    "\n",
    "solution(word)"
   ]
  }
 ],
 "metadata": {
  "kernelspec": {
   "display_name": "Python 3",
   "language": "python",
   "name": "python3"
  },
  "language_info": {
   "codemirror_mode": {
    "name": "ipython",
    "version": 3
   },
   "file_extension": ".py",
   "mimetype": "text/x-python",
   "name": "python",
   "nbconvert_exporter": "python",
   "pygments_lexer": "ipython3",
   "version": "3.8.5"
  }
 },
 "nbformat": 4,
 "nbformat_minor": 4
}
