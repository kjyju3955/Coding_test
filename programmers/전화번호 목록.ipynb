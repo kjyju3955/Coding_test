{
 "cells": [
  {
   "cell_type": "markdown",
   "id": "98400a30",
   "metadata": {},
   "source": [
    "# 전화번호 목록"
   ]
  },
  {
   "cell_type": "markdown",
   "id": "7c8803f1",
   "metadata": {},
   "source": [
    "## 문제\n",
    "전화번호부에 적힌 전화번호 중, 한 번호가 다른 번호의 접두어인 경우가 있는지 확인하려 함<br>\n",
    "전화번호부에 적힌 전화번호를 담은 배열 phone_book 이 solution 함수의 매개변수로 주어질 때,<br>\n",
    "어떤 번호가 다른 번호의 접두어인 경우가 있으면 false를 그렇지 않으면 true를 return \n",
    "<br><br>\n",
    "input : 문자열 배열, output : 참/거짓\n",
    "\n",
    "#### <조건>\n",
    " - phone_book의 길이는 1 이상 1,000,000 이하\n",
    " - 각 전화번호의 길이는 1 이상 20 이하\n",
    " - 같은 전화번호가 중복해서 들어있지 않음\n",
    " \n",
    "#### <예시>\n",
    "input : [\"119\", \"97674223\", \"1195524421\"]\n",
    "<br><br>\n",
    "result : false\n",
    "<br><br>\n",
    " - \"119\"는 \"1195524421\"의 접두사\n",
    " - 따라서, false return\n",
    " \n",
    "https://programmers.co.kr/learn/courses/30/lessons/42577"
   ]
  },
  {
   "cell_type": "markdown",
   "id": "2421004a",
   "metadata": {},
   "source": [
    "## 풀이\n",
    " - phone_book을 정렬해줌\n",
    " - phone_book의 길이를 num_len에 저장 <br>\n",
    "   이때, num_len의 길이가 하나면 전화번호가 하나밖에 없는 것이기애 true return\n",
    " - 아닌 경우에는 phone_book을 돌면서 앞의 전화번호와 뒤의 전화번호에서 앞의 전화번호의 길이만큼 비교\n",
    " - 이때 만약 같은게 나온다면 접두사가 되는 것이기에 False return\n",
    " - 아니라면 True return"
   ]
  },
  {
   "cell_type": "code",
   "execution_count": 7,
   "id": "66dba484",
   "metadata": {},
   "outputs": [],
   "source": [
    "def solution(phone_book):    \n",
    "    phone_book.sort(key=lambda x: x)\n",
    "    \n",
    "    num_len = set(len(i) for i in phone_book)\n",
    "    \n",
    "    if len(num_len) == 1:\n",
    "        return True\n",
    "    \n",
    "    for i in range(len(phone_book)-1):\n",
    "        if str(phone_book[i+1][:len(phone_book[i])]) == str(phone_book[i]):\n",
    "            return False\n",
    "    \n",
    "    return True"
   ]
  },
  {
   "cell_type": "code",
   "execution_count": 8,
   "id": "ef5dc5c3",
   "metadata": {},
   "outputs": [
    {
     "data": {
      "text/plain": [
       "False"
      ]
     },
     "execution_count": 8,
     "metadata": {},
     "output_type": "execute_result"
    }
   ],
   "source": [
    "phone_book = [\"119\", \"97674223\", \"1195524421\"]\n",
    "\n",
    "solution(phone_book)"
   ]
  }
 ],
 "metadata": {
  "kernelspec": {
   "display_name": "Python 3",
   "language": "python",
   "name": "python3"
  },
  "language_info": {
   "codemirror_mode": {
    "name": "ipython",
    "version": 3
   },
   "file_extension": ".py",
   "mimetype": "text/x-python",
   "name": "python",
   "nbconvert_exporter": "python",
   "pygments_lexer": "ipython3",
   "version": "3.8.8"
  }
 },
 "nbformat": 4,
 "nbformat_minor": 5
}
