{
 "cells": [
  {
   "cell_type": "markdown",
   "id": "c1c6a6ff",
   "metadata": {},
   "source": [
    "# 포켓몬"
   ]
  },
  {
   "cell_type": "markdown",
   "id": "fe1e7bbb",
   "metadata": {},
   "source": [
    "## 문제\n",
    "홍 박사님은 당신에게 자신의 연구실에 있는 총 N 마리의 폰켓몬 중에서 N/2마리를 가져가도 좋다고 함 <br>\n",
    "같은 종류의 폰켓몬은 같은 번호를 가지고 있음, 최대한 많은 종류의 폰켓몬을 포함해서 N/2마리를 선택하려 함 <br>\n",
    "N마리 폰켓몬의 종류 번호가 담긴 배열 nums가 매개변수로 주어질 때, N/2마리의 폰켓몬을 선택하는 방법 중, <br>\n",
    "가장 많은 종류의 폰켓몬을 선택하는 방법을 찾아, 그때의 폰켓몬 종류 번호의 개수를 return\n",
    "<br><br>\n",
    "input : 정수 배열, output : 정수\n",
    "\n",
    "#### <조건>\n",
    " - nums는 폰켓몬의 종류 번호가 담긴 1차원 배열\n",
    " - nums의 길이(N)는 1 이상 10,000 이하의 자연수이며, 항상 짝수\n",
    " - 폰켓몬의 종류 번호는 1 이상 200,000 이하의 자연수\n",
    " - 가장 많은 종류의 폰켓몬을 선택하는 방법이 여러 가지인 경우에도, 선택할 수 있는 폰켓몬 종류 개수의 최댓값 하나만 return\n",
    " \n",
    "#### <예시>\n",
    "input : [3, 1, 2, 3]\n",
    "<br><br>\n",
    "result : 2\n",
    "<br><br>\n",
    " - 1. 첫 번째(3번), 두 번째(1번) 폰켓몬을 선택\n",
    " - 2. 첫 번째(3번), 세 번째(2번) 폰켓몬을 선택\n",
    " - 3. 첫 번째(3번), 네 번째(3번) 폰켓몬을 선택\n",
    " - 4. 두 번째(1번), 세 번째(2번) 폰켓몬을 선택\n",
    " - 5. 두 번째(1번), 네 번째(3번) 폰켓몬을 선택\n",
    " - 6. 세 번째(2번), 네 번째(3번) 폰켓몬을 선택\n",
    " - 따라서 위 예시에서 가질 수 있는 폰켓몬 종류 수의 최댓값은 2\n",
    " \n",
    "https://programmers.co.kr/learn/courses/30/lessons/1845"
   ]
  },
  {
   "cell_type": "markdown",
   "id": "2b9f9c02",
   "metadata": {},
   "source": [
    "## 풀이\n",
    " - 만약 nums의 포켓몬의 종류가 nums의 길이의 절반보다 적다면, 포켓몬의 종류를 return <br>\n",
    "   어떤 경우가 되더라고 포켓몬의 종류 이상의 종류 개수는 얻을 수가 없어서\n",
    " - 아니라면 최대 nums의 길이의 절반만큼의 종류의 포켓몬을 얻을 수 있음"
   ]
  },
  {
   "cell_type": "code",
   "execution_count": 1,
   "id": "4a8bea86",
   "metadata": {},
   "outputs": [],
   "source": [
    "def solution(nums):\n",
    "    if len(set(nums)) < len(nums)//2:\n",
    "        return len(set(nums))\n",
    "    return len(nums)//2"
   ]
  },
  {
   "cell_type": "code",
   "execution_count": 2,
   "id": "58ff4840",
   "metadata": {},
   "outputs": [
    {
     "data": {
      "text/plain": [
       "2"
      ]
     },
     "execution_count": 2,
     "metadata": {},
     "output_type": "execute_result"
    }
   ],
   "source": [
    "nums = [3, 1, 2, 3]\n",
    "\n",
    "solution(nums)"
   ]
  }
 ],
 "metadata": {
  "kernelspec": {
   "display_name": "Python 3",
   "language": "python",
   "name": "python3"
  },
  "language_info": {
   "codemirror_mode": {
    "name": "ipython",
    "version": 3
   },
   "file_extension": ".py",
   "mimetype": "text/x-python",
   "name": "python",
   "nbconvert_exporter": "python",
   "pygments_lexer": "ipython3",
   "version": "3.8.8"
  }
 },
 "nbformat": 4,
 "nbformat_minor": 5
}
