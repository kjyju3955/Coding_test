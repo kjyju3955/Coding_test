{
 "cells": [
  {
   "cell_type": "markdown",
   "id": "459674ed",
   "metadata": {},
   "source": [
    "# 프린터"
   ]
  },
  {
   "cell_type": "markdown",
   "id": "8da54108",
   "metadata": {},
   "source": [
    "## 문제\n",
    "중요도가 높은 문서를 먼저 인쇄하는 프린터\n",
    " - 인쇄 대기목록의 가장 앞에 있는 문서(J)를 대기목록에서 꺼냅니다.\n",
    " - 나머지 인쇄 대기목록에서 J보다 중요도가 높은 문서가 한 개라도 존재하면 J를 대기목록의 가장 마지막에 넣습니다.\n",
    " - 그렇지 않으면 J를 인쇄합니다.\n",
    "현재 대기목록에 있는 문서의 중요도가 순서대로 담긴 배열 priorities와 내가 인쇄를 요청한 문서가 <br>\n",
    "현재 대기목록의 어떤 위치에 있는지를 알려주는 location이 매개변수로 주어질 때, 내가 인쇄를 요청한 문서가 <br>\n",
    "몇 번째로 인쇄되는지 return\n",
    "<br><br>\n",
    "input : priorities = 정수 배열, location = 정수, output : 정수\n",
    "\n",
    "#### <조건>\n",
    " - 현재 대기목록에는 1개 이상 100개 이하의 문서가 있음\n",
    " - 인쇄 작업의 중요도는 1~9로 표현하며 숫자가 클수록 중요하다는 뜻\n",
    " - location은 0 이상 (현재 대기목록에 있는 작업 수 - 1) 이하의 값을 가지며 대기목록의 가장 앞에 있으면 0, <br>\n",
    "   두 번째에 있으면 1로 표현\n",
    "   \n",
    "#### <예시>\n",
    "input : priorities = [2, 1, 3, 2], location = 2\n",
    "<br><br>\n",
    "result : 1\n",
    "<br><br>\n",
    " - 4개의 문서(A, B, C, D)가 순서대로 인쇄 대기목록에 있고 중요도가 2 1 3 2 라면 C D A B 순으로 인쇄\n",
    " - C는 1번째로, A는 3번째로 인쇄\n",
    " - 따라서 1 return\n",
    " \n",
    "https://programmers.co.kr/learn/courses/30/lessons/42587"
   ]
  },
  {
   "cell_type": "markdown",
   "id": "fe7271b8",
   "metadata": {},
   "source": [
    "## 풀이\n",
    " - 우선순위의 인덱스 번호를 index_num에 정의\n",
    " - 우선순위가 가장 높은 것을 max_num에 저장\n",
    " - priorities를 앞에서부터 돌면서 max_num과 비교 \n",
    " - max_num보다 크거나 같은 경우에는 해당 priorities를 pop시키구 해당 값의 인덱스 번호를 index_list에 저장\n",
    " - 반대의 경우에는 priorities의 뒤로 옮겨주고 index_num에서도 순서를 옮겨줌\n",
    " - 위의 과정을 priorities가 빌 때까지 반복\n",
    " - 반복이 끝난 뒤에는 location의 위치에 맞는 문서의 순서를 return"
   ]
  },
  {
   "cell_type": "code",
   "execution_count": 1,
   "id": "9014a77e",
   "metadata": {},
   "outputs": [],
   "source": [
    "def solution(priorities, location):\n",
    "    answer = 0\n",
    "\n",
    "    index_num = list(range(len(priorities)))\n",
    "    index_list = []\n",
    "   \n",
    "    while(priorities):\n",
    "        max_num = max(priorities)\n",
    "        if priorities[0] >= max_num:\n",
    "            priorities.pop(0)\n",
    "            index_list.append(index_num.pop(0))\n",
    "        else:\n",
    "            num = priorities.pop(0)\n",
    "            priorities.append(num)\n",
    "            index = index_num.pop(0)\n",
    "            index_num.append(index)\n",
    "            \n",
    "    answer = index_list.index(location)+1    \n",
    "    \n",
    "    return answer"
   ]
  },
  {
   "cell_type": "code",
   "execution_count": 2,
   "id": "2f1994b8",
   "metadata": {},
   "outputs": [
    {
     "data": {
      "text/plain": [
       "1"
      ]
     },
     "execution_count": 2,
     "metadata": {},
     "output_type": "execute_result"
    }
   ],
   "source": [
    "priorities = [2, 1, 3, 2]\n",
    "location = 2\n",
    "\n",
    "solution(priorities, location)"
   ]
  }
 ],
 "metadata": {
  "kernelspec": {
   "display_name": "Python 3",
   "language": "python",
   "name": "python3"
  },
  "language_info": {
   "codemirror_mode": {
    "name": "ipython",
    "version": 3
   },
   "file_extension": ".py",
   "mimetype": "text/x-python",
   "name": "python",
   "nbconvert_exporter": "python",
   "pygments_lexer": "ipython3",
   "version": "3.8.8"
  }
 },
 "nbformat": 4,
 "nbformat_minor": 5
}
