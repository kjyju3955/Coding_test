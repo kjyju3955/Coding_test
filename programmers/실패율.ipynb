{
 "cells": [
  {
   "cell_type": "markdown",
   "id": "09dc1ed2",
   "metadata": {},
   "source": [
    "# 실패율"
   ]
  },
  {
   "cell_type": "markdown",
   "id": "e1dd8a27",
   "metadata": {},
   "source": [
    "## 문제\n",
    "전체 스테이지의 개수 N, 게임을 이용하는 사용자가 현재 멈춰있는 스테이지의 번호가 담긴 배열 stages가 매개변수로 주어질 때, <br>\n",
    "실패율이 높은 스테이지부터 내림차순으로 스테이지의 번호가 담겨있는 배열을 return 하도록 solution 함수 구현\n",
    "<br><br>\n",
    "input : N, stages , output : 배열\n",
    "\n",
    "#### <조건>\n",
    " - 실패율 : 스테이지에 도달했으나 아직 클리어하지 못한 플레이어의 수 / 스테이지에 도달한 플레이어 수\n",
    " - 스테이지의 개수 N은 1 이상 500 이하의 자연수\n",
    " - tages의 길이는 1 이상 200,000 이하\n",
    " - stages에는 1 이상 N + 1 이하의 자연수가 담겨있음\n",
    " - 스테이지에 도달한 유저가 없는 경우 해당 스테이지의 실패율은 0 으로 정의\n",
    " - 만약 실패율이 같은 스테이지가 있다면 작은 번호의 스테이지가 먼저 \n",
    " \n",
    "#### <예시>\n",
    "input : N = 5, stages = [2, 1, 2, 3, 2, 4, 3, 3]\n",
    "<br><br>\n",
    "result : [4, 3, 2, 1, 5]\n",
    "<br><br>\n",
    " - 1 번 스테이지 실패율 : 1/8\n",
    " - 2 번 스테이지 실패율 : 3/7\n",
    " - 3 번 스테이지 실패율 : 2/4\n",
    " - 4번 스테이지 실패율 : 1/2\n",
    " - 5번 스테이지 실패율 : 0/1\n",
    " - 각 스테이지의 번호를 실패율의 내림차순으로 정렬\n",
    " \n",
    "https://programmers.co.kr/learn/courses/30/lessons/42889"
   ]
  },
  {
   "cell_type": "markdown",
   "id": "dcde412e",
   "metadata": {},
   "source": [
    "## 풀이\n",
    " - N 단계의 stages를 돌면서 해당 stage에 도달한 유저를 std에 저장\n",
    " - 해당 stage에 도달한 유저가 없으면 0을 저장해주고<br>\n",
    "   아닌 경우에는 stage에 도달했으나 클리어하지 못한 플레이어의 수 / 도달한 유저의 수를 stage의 번호와 함께 저장\n",
    " - 앞에서 구한 유저의 수를 기준으로 내림차순 정렬\n",
    " - stage번호만 return"
   ]
  },
  {
   "cell_type": "code",
   "execution_count": 89,
   "id": "72dd0b72",
   "metadata": {},
   "outputs": [],
   "source": [
    "def solution(N, stages):\n",
    "    answer = []\n",
    "    \n",
    "    for i in range(N):\n",
    "        std = [j for j in stages if j>= i+1]\n",
    "        answer.append((0,i+1) if len(std) == 0 else (stages.count(i+1)/len(std), i+1))\n",
    "   \n",
    "    return list(i[1] for i in sorted(answer, key = lambda x: x[0], reverse=True))"
   ]
  },
  {
   "cell_type": "code",
   "execution_count": 92,
   "id": "d9ec43a1",
   "metadata": {},
   "outputs": [
    {
     "data": {
      "text/plain": [
       "[4, 3, 2, 1, 5]"
      ]
     },
     "execution_count": 92,
     "metadata": {},
     "output_type": "execute_result"
    }
   ],
   "source": [
    "N = 5\n",
    "stages = [2, 1, 2, 3, 2, 4, 3, 3]\n",
    "\n",
    "solution(N, stages)"
   ]
  }
 ],
 "metadata": {
  "kernelspec": {
   "display_name": "Python 3",
   "language": "python",
   "name": "python3"
  },
  "language_info": {
   "codemirror_mode": {
    "name": "ipython",
    "version": 3
   },
   "file_extension": ".py",
   "mimetype": "text/x-python",
   "name": "python",
   "nbconvert_exporter": "python",
   "pygments_lexer": "ipython3",
   "version": "3.8.8"
  }
 },
 "nbformat": 4,
 "nbformat_minor": 5
}
