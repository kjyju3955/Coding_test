{
 "cells": [
  {
   "cell_type": "markdown",
   "id": "1305cef5",
   "metadata": {},
   "source": [
    "# 약수의 개수와 덧셈"
   ]
  },
  {
   "cell_type": "markdown",
   "id": "96e64c13",
   "metadata": {},
   "source": [
    "## 문제\n",
    "두 정수 left와 right가 매개변수로 주어짐. left부터 right까지의 모든 수들 중에서, 약수의 개수가 짝수인 수는 더하고, <br>\n",
    "약수의 개수가 홀수인 수는 뺀 수를 return\n",
    "<br><br>\n",
    "input : left = 정수, right = 정수, output : 정수\n",
    "\n",
    "#### <조건>\n",
    " - 1 ≤ left ≤ right ≤ 1,000\n",
    " \n",
    "#### <예시>\n",
    "input : left = 13, right = 17\n",
    "<br><br>\n",
    "result : 43\n",
    "<br><br>\n",
    "\n",
    "수|약수|약수의 개수\n",
    ":---:|:---:|:---:\n",
    "13|1,13|2\n",
    "14|1,2,7,14|4\n",
    "15|1,3,5,15|4\n",
    "16|1,2,4,8,16|5\n",
    "17|1,17|2\n",
    "\n",
    " - 따라서, 13 + 14 + 15 - 16 + 17 = 43을 return \n",
    "\n",
    "https://programmers.co.kr/learn/courses/30/lessons/77884"
   ]
  },
  {
   "cell_type": "markdown",
   "id": "881f489f",
   "metadata": {},
   "source": [
    "## 풀이\n",
    " - 약수의 개수를 구해주는 count_num함수 선언\n",
    " - left에서 right의 범위까지의 숫자를 count_num에 넣어서 갯수를 구해줌\n",
    " - 갯수가 짝수일 경우에는 그냥 숫자를, 음수일 경우에는 -숫자를 answer에 넣어줌\n",
    " - answer의 합을 return"
   ]
  },
  {
   "cell_type": "code",
   "execution_count": 11,
   "id": "1adb1ed3",
   "metadata": {},
   "outputs": [],
   "source": [
    "def solution(left, right):\n",
    "    answer = [i if count_num(i) % 2 == 0 else -i for i in range(left, right+1)]\n",
    "    \n",
    "    return sum(answer)\n",
    "def count_num(num):\n",
    "    count = 1\n",
    "    for i in range(1, num):\n",
    "        if num % i == 0:\n",
    "            count += 1\n",
    "            \n",
    "    return count"
   ]
  },
  {
   "cell_type": "code",
   "execution_count": 12,
   "id": "d022ef3a",
   "metadata": {},
   "outputs": [
    {
     "data": {
      "text/plain": [
       "1"
      ]
     },
     "execution_count": 12,
     "metadata": {},
     "output_type": "execute_result"
    }
   ],
   "source": [
    "left = 1\n",
    "right = 2\n",
    "\n",
    "solution(left, right)"
   ]
  },
  {
   "cell_type": "code",
   "execution_count": 13,
   "id": "3d7aec87",
   "metadata": {},
   "outputs": [],
   "source": [
    "# 약수가 홀 수개이면 제곱근이다 라는 성질을 사용했다고함 \n",
    "\n",
    "def solution(left, right):\n",
    "    answer = 0\n",
    "    for i in range(left,right+1):\n",
    "        if int(i**0.5)==i**0.5:\n",
    "            answer -= i\n",
    "        else:\n",
    "            answer += i\n",
    "    return answer"
   ]
  }
 ],
 "metadata": {
  "kernelspec": {
   "display_name": "Python 3",
   "language": "python",
   "name": "python3"
  },
  "language_info": {
   "codemirror_mode": {
    "name": "ipython",
    "version": 3
   },
   "file_extension": ".py",
   "mimetype": "text/x-python",
   "name": "python",
   "nbconvert_exporter": "python",
   "pygments_lexer": "ipython3",
   "version": "3.8.8"
  }
 },
 "nbformat": 4,
 "nbformat_minor": 5
}
