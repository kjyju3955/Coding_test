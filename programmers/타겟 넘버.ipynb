{
 "cells": [
  {
   "cell_type": "markdown",
   "id": "9a0b99e0",
   "metadata": {},
   "source": [
    "# 타겟 넘버"
   ]
  },
  {
   "cell_type": "markdown",
   "id": "e098824e",
   "metadata": {},
   "source": [
    "## 문제\n",
    "n개의 음이 아닌 정수가 있음. 이 수를 적절히 더하거나 빼서 타겟 넘버를 만들려고 함<br>\n",
    "사용할 수 있는 숫자가 담긴 배열 numbers, 타겟 넘버 target이 매개변수로 주어질 때 숫자를 적절히 <br>\n",
    "더하고 빼서 타겟 넘버를 만드는 방법의 수를 return \n",
    "<br><br>\n",
    "input : numbers = 정수 배열, target = 정수, output : 정수\n",
    "\n",
    "#### <조건>\n",
    " - 주어지는 숫자의 개수는 2개 이상 20개 이하\n",
    " - 각 숫자는 1 이상 50 이하인 자연수\n",
    " - 타겟 넘버는 1 이상 1000 이하인 자연수\n",
    " \n",
    "#### <예시>\n",
    "input : numbers = [1, 1, 1, 1, 1], target = 3\n",
    "<br><br>\n",
    "result : 5\n",
    "<br><br>\n",
    " - -1+1+1+1+1 = 3\n",
    " - +1-1+1+1+1 = 3\n",
    " - +1+1-1+1+1 = 3\n",
    " - +1+1+1-1+1 = 3\n",
    " - +1+1+1+1-1 = 3\n",
    " - 다섯 가지의 방법 사용 가능 \n",
    " \n",
    "https://programmers.co.kr/learn/courses/30/lessons/43165"
   ]
  },
  {
   "cell_type": "markdown",
   "id": "64209384",
   "metadata": {},
   "source": [
    "## 풀이\n",
    "### 1.\n",
    " - numbers의 합에서 target을 뺀 값을 나누기 2 한 값만 빼주면 target을 만들 수 있음\n",
    " - numbers가 0개부터 numbers의 길이만큼 쓰일 수 있기 때문에 반복\n",
    " - itertools을 사용해서 numbers에 해당 개수만큼의 모든 조합을 탐색 <br>\n",
    "   조합의 합이 target과 같으면 경우의 수를 1개 추가\n",
    " - 모든 경우를 다 돌고 난 후에 얻은 경우의 수를 return\n",
    " \n",
    "### 2.\n",
    " - 재귀를 이용해서 작성\n",
    " - 재귀를 돌면서 numbers의 두 번째 수와 첫 번째 수를 더하는 경우와 빼는 경우로 갈래를 나누어서 반복 수행\n",
    " - 이때, numbers가 비거나 target의 수가 맞게되면 1 <br>\n",
    "   target은 맞지 않지만 numbers가 비면 0\n",
    " - 재귀는 공부 더 해야할 듯...ㅠㅜ"
   ]
  },
  {
   "cell_type": "code",
   "execution_count": 2,
   "id": "cd318bef",
   "metadata": {},
   "outputs": [],
   "source": [
    "# 1.\n",
    "\n",
    "from itertools import combinations\n",
    "\n",
    "def solution(numbers, target):\n",
    "    target = (sum(numbers) - target)//2\n",
    "    answer = 0\n",
    "    \n",
    "    for i in range(len(numbers)):\n",
    "        for j in combinations(numbers, i):\n",
    "            if sum(j) == target:\n",
    "                answer += 1\n",
    "    \n",
    "    return answer"
   ]
  },
  {
   "cell_type": "code",
   "execution_count": 4,
   "id": "d3212044",
   "metadata": {},
   "outputs": [],
   "source": [
    "# 2.\n",
    "\n",
    "def solution(numbers, target):\n",
    "    if not numbers and target == 0:\n",
    "        return 1\n",
    "    elif not numbers:\n",
    "        return 0\n",
    "    \n",
    "    return solution(numbers[1:], target + numbers[0]) + solution(numbers[1:], target - numbers[0])"
   ]
  },
  {
   "cell_type": "code",
   "execution_count": 5,
   "id": "7d4a44cb",
   "metadata": {},
   "outputs": [
    {
     "data": {
      "text/plain": [
       "2"
      ]
     },
     "execution_count": 5,
     "metadata": {},
     "output_type": "execute_result"
    }
   ],
   "source": [
    "numbers = [1,1,2,4]\n",
    "target = 4\n",
    "\n",
    "solution(numbers, target)"
   ]
  },
  {
   "cell_type": "code",
   "execution_count": 6,
   "id": "95262d48",
   "metadata": {},
   "outputs": [],
   "source": [
    "# product를 이용하면 데카르트 곱을 나타낼 수 있다..?\n",
    "# 두 개 이상의 리스트의 모든 조합을 구해주는 모듈이 있다.. 신기..\n",
    "\n",
    "from itertools import product\n",
    "\n",
    "def solution(numbers, target):\n",
    "    return list(map(sum, product(*(list((i, -i) for i in numbers))))).count(target)"
   ]
  }
 ],
 "metadata": {
  "kernelspec": {
   "display_name": "Python 3",
   "language": "python",
   "name": "python3"
  },
  "language_info": {
   "codemirror_mode": {
    "name": "ipython",
    "version": 3
   },
   "file_extension": ".py",
   "mimetype": "text/x-python",
   "name": "python",
   "nbconvert_exporter": "python",
   "pygments_lexer": "ipython3",
   "version": "3.8.8"
  }
 },
 "nbformat": 4,
 "nbformat_minor": 5
}
