{
 "cells": [
  {
   "cell_type": "markdown",
   "id": "1f986296",
   "metadata": {},
   "source": [
    "# 괄호 변환"
   ]
  },
  {
   "cell_type": "markdown",
   "id": "7821331e",
   "metadata": {},
   "source": [
    "## 문제\n",
    "소스를 컴파일하여 로그를 보니 대부분 소스 코드 내 작성된 괄호가 개수는 맞지만 짝이 맞지 않은 형태로 작성되어<br>\n",
    "오류가 나는 것을 알게 되었다. 소스 코드에 작성된 모든 괄호를 뽑아서 올바른 순서대로 배치된 괄호 문자열을<br>\n",
    "알려주는 프로그램을 다음과 같이 개발하고자 함\n",
    "<br><br>\n",
    "input : 문자열, output : 문자열\n",
    "\n",
    "#### <규칙>\n",
    " 1. 입력이 빈 문자열인 경우, 빈 문자열을 반환\n",
    " 2. 문자열 w를 두 \"균형잡힌 괄호 문자열\" u, v로 분리\n",
    "    단, u는 \"균형잡힌 괄호 문자열\"로 더 이상 분리할 수 없어야 하며, v는 빈 문자열이 될 수 있음\n",
    " 3. 문자열 u가 \"올바른 괄호 문자열\" 이라면 문자열 v에 대해 1단계부터 다시 수행<br>\n",
    "    3-1. 수행한 결과 문자열을 u에 이어 붙인 후 반환\n",
    " 4. 문자열 u가 \"올바른 괄호 문자열\"이 아니라면 아래 과정을 수행<br>\n",
    "    4-1. 빈 문자열에 첫 번째 문자로 '('를 붙임<br>\n",
    "    4-2. 문자열 v에 대해 1단계부터 재귀적으로 수행한 결과 문자열을 이어 붙임<br>\n",
    "    4-3. ')'를 다시 붙임<br>\n",
    "    4-4. u의 첫 번째와 마지막 문자를 제거하고, 나머지 문자열의 괄호 방향을 뒤집어서 뒤에 붙임<br>\n",
    "    4-5. 생성된 문자열을 반환\n",
    "    \n",
    "#### <조건>\n",
    " - p는 '(' 와 ')' 로만 이루어진 문자열이며 길이는 2 이상 1,000 이하인 짝수\n",
    " - 문자열 p를 이루는 '(' 와 ')' 의 개수는 항상 같음\n",
    " - 만약 p가 이미 \"올바른 괄호 문자열\"이라면 그대로 return 하면 됨\n",
    " \n",
    "#### <예시>\n",
    "input : \"()))((()\"\n",
    "<br><br>\n",
    "result : \"()(())()\"\n",
    "<br><br>\n",
    " - \n",
    " \n",
    "https://programmers.co.kr/learn/courses/30/lessons/60058"
   ]
  },
  {
   "cell_type": "markdown",
   "id": "82fac1b7",
   "metadata": {},
   "source": [
    "## 풀이\n",
    "### 1.\n",
    " - check_p함수를 통해서 문자열이 \"올바른 괄호 문자열\"인지 판별\n",
    "   맞다면 바로 p return\n",
    " - \"균형잡힌 괄호 문자열\"일 경우에는 remake_p 함수 실행\n",
    " - 규칙 2번 실행 단, 들어온 문자열이 \"\"일 경우에는 바로 return\n",
    " - 규칙 3,4 번을 판별하기 위해서 문자열 u를 check_p함수를 통해서 \"올바른 괄호 문자열\"인지 판별\n",
    " - 맞을 경우 기존의 문자열에 이어붙임\n",
    " - 아닐 경우 규칙 4 실행\n",
    " - 모든 문자열을 검사할 때까지 재귀를 통해서 반복 후 return\n",
    " \n",
    "### 2.\n",
    " - 1의 방식과 비슷하지만 코드길이를 더 줄이고 파이썬닉한 방식 활용\n",
    " - 문자열을 돌면서 각각 \")\", \"(\"를 count로 저장\n",
    " - 0이 되는 순간 최소 단위의 \"균형잡힌 괄호 문자열\"이 되기에 이를 기준으로 재귀로 반복<br>\n",
    "   이때, \"(\"의 갯수보다는 \")\"의 갯수가 많은 경우에는 \"올바른 괄호 문자열\"이 될 수 없기에 규칙 4번을 실행하게 해줌<br>\n",
    "   그렇지 않은 경우에는 \"올바른 괄호 문자열\"로 볼 수 있기에 규칙 3번을 실행하게 해줌"
   ]
  },
  {
   "cell_type": "code",
   "execution_count": 202,
   "id": "a11f676e",
   "metadata": {},
   "outputs": [],
   "source": [
    "# 1\n",
    "\n",
    "def solution(p):\n",
    "    if not check_p(p):\n",
    "        p = remake_p(p)\n",
    "        \n",
    "    return p\n",
    "\n",
    "def check_p(p):\n",
    "    check = [p[0]]\n",
    "    \n",
    "    if ord(check[-1]) != 41:\n",
    "        for i in range(1, len(p)):\n",
    "            if check and ord(check[-1]) - ord(p[i]) == 0:\n",
    "                check.append(p[i])\n",
    "            elif check and ord(check[-1]) - ord(p[i]) != 0:\n",
    "                check.pop(0)\n",
    "            else:\n",
    "                return False\n",
    "                \n",
    "        if not check:\n",
    "            return True\n",
    "    \n",
    "    return False\n",
    "            \n",
    "def remake_p(str2):\n",
    "    if not str2:\n",
    "        return \"\"\n",
    "    \n",
    "    str1 = str2[0]\n",
    "    count = 1\n",
    "    \n",
    "    for i in range(1, len(str2)+1):\n",
    "        if count == 0:\n",
    "            str1 = str2[:i]\n",
    "            str2 = str2[i:]\n",
    "            break\n",
    "        if str1[-1] == str2[i]:\n",
    "            count += 1\n",
    "            continue\n",
    "        count -= 1\n",
    "   \n",
    "    if check_p(str1):\n",
    "        str1 += remake_p(str2)\n",
    "        \n",
    "        return str1\n",
    "    else:\n",
    "        std = \"(\" + remake_p(str2) + \")\"\n",
    "      \n",
    "        input_str = list(str1[1:-1])\n",
    "        \n",
    "        if input_str:\n",
    "            for i in range(len(input_str)):\n",
    "                if input_str[i] == \")\":\n",
    "                    input_str[i] = \"(\"\n",
    "                else:\n",
    "                    input_str[i] = \")\"\n",
    "                \n",
    "        std += ''.join(input_str)\n",
    "        \n",
    "        return std"
   ]
  },
  {
   "cell_type": "code",
   "execution_count": 203,
   "id": "7f53e0dc",
   "metadata": {},
   "outputs": [],
   "source": [
    "# 2\n",
    "\n",
    "def solution(p):\n",
    "    if not p:\n",
    "        return \"\"\n",
    "    \n",
    "    check = True\n",
    "    count = 0\n",
    "    \n",
    "    for i in range(len(p)):\n",
    "        if p[i] == \"(\":\n",
    "            count += 1\n",
    "        else:\n",
    "            count -= 1\n",
    "        \n",
    "        if count < 0:\n",
    "            check = False\n",
    "        \n",
    "        if count == 0:\n",
    "            if check:\n",
    "                return p[:i+1] + solution(p[i+1:])\n",
    "            else:\n",
    "                return \"(\" + solution(p[i+1:]) + \")\" + ''.join([\"(\" if i == \")\" else \")\" for i in p[1:i]])"
   ]
  },
  {
   "cell_type": "code",
   "execution_count": 204,
   "id": "6eab046c",
   "metadata": {},
   "outputs": [
    {
     "data": {
      "text/plain": [
       "'()'"
      ]
     },
     "execution_count": 204,
     "metadata": {},
     "output_type": "execute_result"
    }
   ],
   "source": [
    "p = \")(\"\n",
    "\n",
    "solution(p)"
   ]
  }
 ],
 "metadata": {
  "kernelspec": {
   "display_name": "Python 3",
   "language": "python",
   "name": "python3"
  },
  "language_info": {
   "codemirror_mode": {
    "name": "ipython",
    "version": 3
   },
   "file_extension": ".py",
   "mimetype": "text/x-python",
   "name": "python",
   "nbconvert_exporter": "python",
   "pygments_lexer": "ipython3",
   "version": "3.8.8"
  }
 },
 "nbformat": 4,
 "nbformat_minor": 5
}
