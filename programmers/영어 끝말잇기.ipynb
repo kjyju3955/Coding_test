{
 "cells": [
  {
   "cell_type": "markdown",
   "metadata": {},
   "source": [
    "# 영어 끝말잇기"
   ]
  },
  {
   "cell_type": "markdown",
   "metadata": {},
   "source": [
    "## 문제\n",
    "1부터 n까지 번호가 붙어있는 n명의 사람이 영어 끝말잇기를 하고 있음. 영어 끝말잇기는 다음과 같은 규칙\n",
    " - 1번부터 번호 순서대로 한 사람씩 차례대로 단어를 말함\n",
    " - 마지막 사람이 단어를 말한 다음에는 다시 1번부터 시작\n",
    " - 앞사람이 말한 단어의 마지막 문자로 시작하는 단어를 말해야 함\n",
    " - 이전에 등장했던 단어는 사용할 수 없음\n",
    " - 한 글자인 단어는 인정되지 않음\n",
    "사람의 수 n과 사람들이 순서대로 말한 단어 words 가 매개변수로 주어질 때, 가장 먼저 탈락하는 사람의 번호와 그 사람이 자신의 몇 번째 차례에 탈락하는지를 구해서 return \n",
    "<br><br>\n",
    "input : n = 정수, words = 문자열 배열, output : 정수 배열\n",
    "\n",
    "#### <조건>\n",
    " - 끝말잇기에 참여하는 사람의 수 n은 2 이상 10 이하의 자연수\n",
    " - words는 끝말잇기에 사용한 단어들이 순서대로 들어있는 배열이며, 길이는 n 이상 100 이하\n",
    " - 단어의 길이는 2 이상 50 이하\n",
    " - 모든 단어는 알파벳 소문자\n",
    " - 끝말잇기에 사용되는 단어의 뜻(의미)은 신경 쓰지 않으셔도 됨\n",
    " - 정답은 [ 번호, 차례 ] 형태로 return \n",
    " - 만약 주어진 단어들로 탈락자가 생기지 않는다면, [0, 0]을 return\n",
    " \n",
    "#### <예시>\n",
    "input : n = 3, words = [\"tank\", \"kick\", \"know\", \"wheel\", \"land\", \"dream\", \"mother\", \"robot\", \"tank\"]\n",
    "<br><br>\n",
    "result : [3, 3]\n",
    "<br><br>\n",
    " - 1번 사람 : tank, wheel, mother\n",
    " - 2번 사람 : kick, land, robot\n",
    " - 3번 사람 : know, dream, tank\n",
    " - 3번 사람이 자신의 세 번째 차례에 말한 tank라는 단어가 1번 사람이 자신의 첫 번째 차례에 말한 tank와 같으므로 3번 사람이 자신의 세 번째 차례로 말을 할 때 처음 탈락자가 나옴\n",
    " \n",
    "https://programmers.co.kr/learn/courses/30/lessons/12981"
   ]
  },
  {
   "cell_type": "markdown",
   "metadata": {},
   "source": [
    "## 풀이\n",
    " - words를 돌면서 이전 word의 마지막 알파벳과 현재 word의 첫 문자열이 같지 않거나, set을 이용해서 길이를 비교했을 때 길이가 다른 경우라면 끝말잇기에서 탈락자가 생긴 것이기에 이때 return을 처리\n",
    " - 현재의 index를 n으로 나눈 값의 나머지가 참여하는 사람의 번호가 됨\n",
    "   - 이때, 나머지가 0이 되는 경우는 n으로 저장\n",
    " - 현재 index를 n으로 나눈 값의 몫이 차례가 됨\n",
    " - 만약 words를 다 돌았는데도 조건에 만족하지 못한다면 탈락자가 없는 것이기에 [0,0] return"
   ]
  },
  {
   "cell_type": "code",
   "execution_count": 1,
   "metadata": {},
   "outputs": [],
   "source": [
    "def solution(n, words):\n",
    "    for i in range(1, len(words)):\n",
    "        if words[i-1][-1] != words[i][0] or len(words[:i+1]) != len(set(words[:i+1])):\n",
    "            return [(i+1)%n if (i+1)%n != 0 else n, (i+n)//n]\n",
    "        \n",
    "    return [0, 0]"
   ]
  },
  {
   "cell_type": "code",
   "execution_count": 2,
   "metadata": {},
   "outputs": [
    {
     "data": {
      "text/plain": [
       "[3, 3]"
      ]
     },
     "execution_count": 2,
     "metadata": {},
     "output_type": "execute_result"
    }
   ],
   "source": [
    "n = 3\n",
    "words = [\"tank\", \"kick\", \"know\", \"wheel\", \"land\", \"dream\", \"mother\", \"robot\", \"tank\"]\n",
    "\n",
    "solution(n, words)"
   ]
  }
 ],
 "metadata": {
  "kernelspec": {
   "display_name": "Python 3",
   "language": "python",
   "name": "python3"
  },
  "language_info": {
   "codemirror_mode": {
    "name": "ipython",
    "version": 3
   },
   "file_extension": ".py",
   "mimetype": "text/x-python",
   "name": "python",
   "nbconvert_exporter": "python",
   "pygments_lexer": "ipython3",
   "version": "3.8.5"
  }
 },
 "nbformat": 4,
 "nbformat_minor": 4
}
