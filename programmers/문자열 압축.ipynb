{
 "cells": [
  {
   "cell_type": "markdown",
   "id": "27bfc7f7",
   "metadata": {},
   "source": [
    "# 문자열 압축"
   ]
  },
  {
   "cell_type": "markdown",
   "id": "cdcec4ef",
   "metadata": {},
   "source": [
    "## 문제\n",
    "문자열에서 같은 값이 연속해서 나타나는 것을 그 문자의 개수와 반복되는 값으로 표현하여 더 짧은 문자열로 줄여서 표현해라 <br>\n",
    "이때 압축률을 높이기 위해서 문자열을 1개 이상의 단위로 잘라서 압축하여 더 짧은 문자열로 표현할 수 있는지 방법을 찾아봐라\n",
    "<br><br>\n",
    "input : s , output : int\n",
    "#### <조건>\n",
    " 1. s의 길이는 1 이상 1,000 이하\n",
    " 2. s는 알파벳 소문자로만 이루어짐\n",
    "#### <예시>\n",
    "input : s = \"abcabcabcabcdededededede\"\n",
    "<br><br>\n",
    "result : 14\n",
    "<br><br>\n",
    " 1. 문자열을 2개 단위로 자르면 \"abcabcabcabc6de\" 가 됨 -> 15\n",
    " 2. 문자열을 3개 단위로 자르면 \"4abcdededededede\" 가 됨 -> 16\n",
    " 3. 자열을 4개 단위로 자르면 \"abcabcabcabc3dede\" 가 됨 -> 17\n",
    " 4. 문자열을 6개 단위로 자를 경우 \"2abcabc2dedede\"가 되며, 이때의 길이가 14로 가장 짧음 -> 14\n",
    " \n",
    "https://programmers.co.kr/learn/courses/30/lessons/60057"
   ]
  },
  {
   "cell_type": "markdown",
   "id": "48b5df33",
   "metadata": {},
   "source": [
    "## 풀이\n",
    " - find_patteren함수를 이용해서 문자열에서 가능한 패턴의 수를 모두 탐색\n",
    " - 패턴이 없는 경우에는 바로 문자열의 길이만큼 출력\n",
    " - 패턴이 존재한다면 문자열을 돌면서 해당길이의 패턴이 존재하는지 탐색\n",
    " - 반복되는 패턴은 압축해서 표시해줌\n",
    " - 탐색하면서 반복되는 패턴을 압축한 문자열의 길이를 s_list에 추가\n",
    " - 가장 짧은 문자열의 길이를 return"
   ]
  },
  {
   "cell_type": "code",
   "execution_count": 9,
   "id": "ac9628da",
   "metadata": {},
   "outputs": [],
   "source": [
    "# 문자열 압축\n",
    "\n",
    "import math\n",
    "\n",
    "def solution(s):\n",
    "    pattern = find_pattern(s)\n",
    "    print(pattern)\n",
    "    \n",
    "    if not pattern:\n",
    "        return len(s)\n",
    "    \n",
    "    count = 1\n",
    "    s_list = list()\n",
    "    \n",
    "    for i in pattern:\n",
    "        result_s = \"\"\n",
    "        cmp_s = \"\"\n",
    "        for j in range(0, len(s), i):\n",
    "            if cmp_s != s[j:j+i]:\n",
    "                result_s += cmp_s\n",
    "                if count > 1:\n",
    "                    result_s += str(count)\n",
    "                    count = 1\n",
    "            else:\n",
    "                count += 1\n",
    "            cmp_s = s[j:j+i]  \n",
    "        result_s += cmp_s \n",
    "        if count > 1:\n",
    "            result_s += str(count)\n",
    "            count = 1\n",
    "        s_list.append(len(result_s))\n",
    "        \n",
    "    return min(s_list)\n",
    "        \n",
    "def find_pattern(s):\n",
    "    length = list()\n",
    "    \n",
    "    for i in range(len(s)):\n",
    "        length += list(i for i in range(1, math.ceil(len(s)/2+1)) if s[:i] == s[i:2*i])\n",
    "        s = s[1:]\n",
    "    \n",
    "    return list(set(length))"
   ]
  },
  {
   "cell_type": "code",
   "execution_count": 10,
   "id": "661bb74a",
   "metadata": {},
   "outputs": [
    {
     "name": "stdout",
     "output_type": "stream",
     "text": [
      "[2, 3, 4, 6]\n"
     ]
    },
    {
     "data": {
      "text/plain": [
       "14"
      ]
     },
     "execution_count": 10,
     "metadata": {},
     "output_type": "execute_result"
    }
   ],
   "source": [
    "s = \"abcabcabcabcdededededede\"\n",
    "\n",
    "solution(s)"
   ]
  }
 ],
 "metadata": {
  "kernelspec": {
   "display_name": "Python 3",
   "language": "python",
   "name": "python3"
  },
  "language_info": {
   "codemirror_mode": {
    "name": "ipython",
    "version": 3
   },
   "file_extension": ".py",
   "mimetype": "text/x-python",
   "name": "python",
   "nbconvert_exporter": "python",
   "pygments_lexer": "ipython3",
   "version": "3.8.8"
  }
 },
 "nbformat": 4,
 "nbformat_minor": 5
}
