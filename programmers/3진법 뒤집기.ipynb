{
 "cells": [
  {
   "cell_type": "markdown",
   "id": "f5818246",
   "metadata": {},
   "source": [
    "# 3진법 뒤집기"
   ]
  },
  {
   "cell_type": "markdown",
   "id": "98a57631",
   "metadata": {},
   "source": [
    "## 문제\n",
    "자연수 n이 매개변수로 주어짐. n을 3진법 상에서 앞뒤로 뒤집은 후, 이를 다시 10진법으로 표현한 수를 return\n",
    "<br><br>\n",
    "input : 정수, output : 정수\n",
    "\n",
    "#### <조건>\n",
    " - n은 1 이상 100,000,000 이하인 자연수\n",
    " \n",
    "#### <예시>\n",
    "input : 45\n",
    "<br><br>\n",
    "result : 7\n",
    "<br><br>\n",
    "\n",
    " n(10진법)|n(3진법)|앞뒤 반전(3진법)|10진법으로 표현\n",
    " :---:|:---:|:---:|:---:\n",
    " 45|1200|0021|7\n",
    " \n",
    " - 따라서 7을 return\n",
    " \n",
    "https://programmers.co.kr/learn/courses/30/lessons/68935"
   ]
  },
  {
   "cell_type": "markdown",
   "id": "9680796a",
   "metadata": {},
   "source": [
    "## 풀이\n",
    " - n을 입력 받아서 3진법으로 변환해줌\n",
    " - 변환해주고 난 후에 바로 10진법으로 표현을 해줌 <br>\n",
    "   문자열의 인덱스 번호에 3의 i승을 곱하는 방식으로  10진법으로 표현해서 return"
   ]
  },
  {
   "cell_type": "code",
   "execution_count": 28,
   "id": "91dab77b",
   "metadata": {},
   "outputs": [],
   "source": [
    "def solution(n):\n",
    "    answer = ''\n",
    "    \n",
    "    while n:\n",
    "        answer = str(n%3) + answer\n",
    "        n //= 3\n",
    "\n",
    "    num = 0\n",
    "    for i in range(len(answer)):\n",
    "        num += int(answer[i])*(3**i)\n",
    "        \n",
    "    return num"
   ]
  },
  {
   "cell_type": "code",
   "execution_count": 31,
   "id": "7ffce33c",
   "metadata": {},
   "outputs": [
    {
     "data": {
      "text/plain": [
       "7"
      ]
     },
     "execution_count": 31,
     "metadata": {},
     "output_type": "execute_result"
    }
   ],
   "source": [
    "n = 45\n",
    "\n",
    "solution(n)"
   ]
  },
  {
   "cell_type": "code",
   "execution_count": 32,
   "id": "789e1677",
   "metadata": {},
   "outputs": [],
   "source": [
    "# 3진법을 10진법으로 바꿔주는 int()라는 함수가 존재함...와우"
   ]
  },
  {
   "cell_type": "code",
   "execution_count": 30,
   "id": "98d80803",
   "metadata": {},
   "outputs": [],
   "source": [
    "def solution(n):\n",
    "    answer = ''\n",
    "    \n",
    "    while n:\n",
    "        answer += str(n%3) \n",
    "        n //= 3\n",
    "\n",
    "    return int(answer, 3)"
   ]
  }
 ],
 "metadata": {
  "kernelspec": {
   "display_name": "Python 3",
   "language": "python",
   "name": "python3"
  },
  "language_info": {
   "codemirror_mode": {
    "name": "ipython",
    "version": 3
   },
   "file_extension": ".py",
   "mimetype": "text/x-python",
   "name": "python",
   "nbconvert_exporter": "python",
   "pygments_lexer": "ipython3",
   "version": "3.8.8"
  }
 },
 "nbformat": 4,
 "nbformat_minor": 5
}
