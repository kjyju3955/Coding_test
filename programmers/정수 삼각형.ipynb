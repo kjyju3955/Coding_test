{
 "cells": [
  {
   "cell_type": "markdown",
   "metadata": {},
   "source": [
    "# 정수 삼각형"
   ]
  },
  {
   "attachments": {},
   "cell_type": "markdown",
   "metadata": {},
   "source": [
    "## 문제\n",
    "삼각형의 정보가 담긴 배열 triangle이 매개변수로 주어질 때, 거쳐간 숫자의 최댓값을 return\n",
    "<br><br>\n",
    "input : 2차원 정수 배열, output : 정수\n",
    "\n",
    "#### <조건>\n",
    " - 삼각형의 높이는 1 이상 500 이하\n",
    " - 삼각형을 이루고 있는 숫자는 0 이상 9,999 이하의 정수\n",
    " \n",
    "#### <예시>\n",
    "input : [[7], [3, 8], [8, 1, 0], [2, 7, 4, 4], [4, 5, 2, 6, 5]]\n",
    "<br><br>\n",
    "result : 30\n",
    "<br><br>\n",
    " - 7->3->8->7->5 순으로 가면 거쳐간 수의 합이 제일 큼\n",
    " \n",
    "https://programmers.co.kr/learn/courses/30/lessons/43105"
   ]
  },
  {
   "cell_type": "markdown",
   "metadata": {},
   "source": [
    "## 풀이\n",
    " - 위에서 부터 피라미드를 한층씩 내려오면서 위의 값을 더해주고, 마지막 밑단에서 가장 큰 값을 찾으면 답이 나옴\n",
    " - 삼각형의 가장자리는 가운데와 계산을 다르게 해줘야 하는데 이런 불편함을 막기 위해서 가장자리에 0을 추가해줌\n",
    " - 내려올 때마다 위층과 연결된 2개의 숫자중 더 큰 값을 골라서 더해줌\n",
    " - 모든 층을 내려올 떄까지 반복\n",
    " - 가장 밑에서 최대값을 return"
   ]
  },
  {
   "cell_type": "code",
   "execution_count": 7,
   "metadata": {},
   "outputs": [],
   "source": [
    "def solution(triangle):\n",
    "    triangle = list([0] + i + [0] for i in triangle)\n",
    "\n",
    "    for i in range(len(triangle)-1):\n",
    "        for j in range(len(triangle[i])-1):\n",
    "            triangle[i+1][j+1] += max(triangle[i][j], triangle[i][j+1])\n",
    "   \n",
    "    return max(triangle[-1])"
   ]
  },
  {
   "cell_type": "code",
   "execution_count": 8,
   "metadata": {},
   "outputs": [
    {
     "data": {
      "text/plain": [
       "30"
      ]
     },
     "execution_count": 8,
     "metadata": {},
     "output_type": "execute_result"
    }
   ],
   "source": [
    "triangle = [[7], [3, 8], [8, 1, 0], [2, 7, 4, 4], [4, 5, 2, 6, 5]]\n",
    "\n",
    "solution(triangle)"
   ]
  }
 ],
 "metadata": {
  "kernelspec": {
   "display_name": "Python 3",
   "language": "python",
   "name": "python3"
  },
  "language_info": {
   "codemirror_mode": {
    "name": "ipython",
    "version": 3
   },
   "file_extension": ".py",
   "mimetype": "text/x-python",
   "name": "python",
   "nbconvert_exporter": "python",
   "pygments_lexer": "ipython3",
   "version": "3.8.5"
  }
 },
 "nbformat": 4,
 "nbformat_minor": 4
}
