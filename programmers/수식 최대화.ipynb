{
 "cells": [
  {
   "cell_type": "markdown",
   "id": "da041ae9",
   "metadata": {},
   "source": [
    "# 수식 최대화"
   ]
  },
  {
   "cell_type": "markdown",
   "id": "e7defb5e",
   "metadata": {},
   "source": [
    "## 문제\n",
    "해커톤 대회에 참가하는 모든 참가자들에게는 숫자들과 3가지의 연산문자(+, -, \\*) 만으로 이루어진 연산 수식이 전달되며,<br>\n",
    "참가자의 미션은 전달받은 수식에 포함된 연산자의 우선순위를 자유롭게 재정의하여 만들 수 있는 가장 큰 숫자를 제출 <br>\n",
    "단, 연산자의 우선순위를 새로 정의할 때, 같은 순위의 연산자는 없어야 함<br>\n",
    "만약 계산된 결과가 음수라면 해당 숫자의 절댓값으로 변환하여 제출\n",
    "<br><br>\n",
    "input : 문자열, output : 정수\n",
    "\n",
    "#### <조건> \n",
    " - expression은 길이가 3 이상 100 이하인 문자열\n",
    " - 잘못된 연산식은 입력으로 주어지지 않음 <br>\n",
    "   즉, \"402+-561*\"처럼 잘못된 수식은 올바른 중위표기법이 아니므로 주어지지 않\n",
    " - expression의 피연산자(operand)는 0 이상 999 이하의 숫자\n",
    " - \"-56+100\"처럼 피연산자가 음수인 수식도 입력으로 주어지지 않음\n",
    " - 같은 연산자끼리는 앞에 있는 것의 우선순위가 더 높음\n",
    " \n",
    "#### <예시>\n",
    "input : \"100-200\\*300-500+20\"\n",
    "<br><br>\n",
    "result : 60420\n",
    "<br><br>\n",
    " - (* > + > -) 로 연산자 우선순위를 정했을 때, 가장 큰 절댓값을 얻을 수 있음\n",
    " - 100-200\\*300-500+20 = 100-(200\\*300)-500+20 = 100-60000-(500+20) = (100-60000)-520 = (-59900-520) = -60420\n",
    " - 따라서, 우승 시 받을 수 있는 상금은 |-60420| = 60420 \n",
    " \n",
    "https://programmers.co.kr/learn/courses/30/lessons/67257"
   ]
  },
  {
   "cell_type": "markdown",
   "id": "f4d2aa87",
   "metadata": {},
   "source": [
    "## 풀이\n",
    " - expression 에서 연산자만 뽑아내 조합할 수 있는 모든 경우를 찾아냄\n",
    " - 모든 경우를 전부 계산해서 절대값이 가장 큰 수를 찾음\n",
    " - 계산하는 함수 = find_num\n",
    " - expression을 숫자를 괄호로 묶어줌\n",
    " - 각 연산자가 사용된 횟수를 exp라는 딕셔너리에 저장\n",
    " - exp를 돌면서 정규식을 용해서 숫자를 계산하고 expression을 갱신해줌\n",
    " - 모든 연산자를 순서에 맞게 계산하고 난 뒤에 괄호를 제거하고 int형으로 변환해서 return\n",
    " - return 한 최종 계산 중에서 큰 수를 계속해서 갱신해줌\n",
    " - 모든 가능성의 연산자 우선순위를 수행하고 난 후에 answer를 return"
   ]
  },
  {
   "cell_type": "code",
   "execution_count": 279,
   "id": "41d298da",
   "metadata": {},
   "outputs": [],
   "source": [
    "import re\n",
    "import itertools\n",
    "\n",
    "def solution(expression):\n",
    "    answer = 0\n",
    "    exp_list = list(itertools.permutations(list(set(re.sub('[0-9]+', '', expression)))))\n",
    "\n",
    "    while(exp_list):\n",
    "        exp = exp_list.pop()\n",
    " \n",
    "        answer=max(answer,abs(find_num(exp, expression)))\n",
    "        \n",
    "    return answer\n",
    "        \n",
    "def find_num(exp, expression):\n",
    "    expression = re.sub('[0-9]+', '(\\g<0>)', expression)\n",
    "    exp = {i: expression.count(i) for i in exp}\n",
    "    \n",
    "    for key, value in exp.items():\n",
    "        if key != '-': key = '\\\\' + key\n",
    "    \n",
    "        for i in range(value):\n",
    "            cal_list = re.findall('\\('+'-?[0-9]+'+'\\)'+key +'\\('+'-?[0-9]+'+'\\)', expression)\n",
    "            if(cal_list):\n",
    "                expression = expression.replace(cal_list[0], '('+str(eval(cal_list[0]))+')')\n",
    "            \n",
    "    \n",
    "    return int(expression[1:-1])"
   ]
  },
  {
   "cell_type": "code",
   "execution_count": 280,
   "id": "0725030e",
   "metadata": {},
   "outputs": [
    {
     "data": {
      "text/plain": [
       "60420"
      ]
     },
     "execution_count": 280,
     "metadata": {},
     "output_type": "execute_result"
    }
   ],
   "source": [
    "expression = \"100-200*300-500+20\"\n",
    "\n",
    "solution(expression)"
   ]
  }
 ],
 "metadata": {
  "kernelspec": {
   "display_name": "Python 3",
   "language": "python",
   "name": "python3"
  },
  "language_info": {
   "codemirror_mode": {
    "name": "ipython",
    "version": 3
   },
   "file_extension": ".py",
   "mimetype": "text/x-python",
   "name": "python",
   "nbconvert_exporter": "python",
   "pygments_lexer": "ipython3",
   "version": "3.8.8"
  }
 },
 "nbformat": 4,
 "nbformat_minor": 5
}
