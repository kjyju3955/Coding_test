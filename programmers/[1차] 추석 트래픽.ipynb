{
 "cells": [
  {
   "cell_type": "markdown",
   "id": "fa4589ed",
   "metadata": {},
   "source": [
    "# [1차] 추석 트래픽"
   ]
  },
  {
   "cell_type": "markdown",
   "id": "60d272bf",
   "metadata": {},
   "source": [
    "## 문제\n",
    "로그 데이터를 분석한 후 초당 최대 처리량을 계산, 이때 초당 최대 처리량은 요청의 응답 완료 여부에 관계없이 <br>\n",
    "임의 시간부터 1초(=1,000밀리초)간 처리하는 요청의 최대 개수\n",
    "<br><br>\n",
    "input : 문자열 리스트, output : 숫자\n",
    "#### <조건>\n",
    " - 로그 문자열 2016-09-15 03:10:33.020 0.011s은 \"2016년 9월 15일 오전 3시 10분 33.010초\"부터\n",
    "   \"2016년 9월 15일 오전 3시 10분 33.020초\"까지 \"0.011초\" 동안 처리된 요청을 의미\n",
    " - 처리시간은 0.001 ≦ T ≦ 3.000\n",
    " - lines 배열은 응답완료시간 S를 기준으로 오름차순 정렬되어 있음\n",
    " \n",
    "#### <예시>\n",
    "input : [\"2016-09-15 01:00:04.002 2.0s\", \"2016-09-15 01:00:07.000 2s\"]\n",
    "<br><br>\n",
    "result : 2\n",
    "<br><br>\n",
    " - 첫 번째 로그는 01:00:02.003 ~ 01:00:04.002에서 2초 동안 처리되었음\n",
    " - 두 번째 로그는 01:00:05.001 ~ 01:00:07.000에서 2초 동안 처리됨\n",
    " - 첫 번째 로그가 끝나는 시점과 두 번째 로그가 시작하는 시점의 구간인 01:00:04.002 ~ 01:00:05.001 1초 동안 최대 2개가 됨\n",
    " \n",
    "https://programmers.co.kr/learn/courses/30/lessons/17676"
   ]
  },
  {
   "cell_type": "markdown",
   "id": "9a8f4668",
   "metadata": {},
   "source": [
    "## 풀이\n",
    " - lines을 공백 단위로 잘라서 각 로그의 시작 시간과 끝 시간을 구해 묶어서 저장\n",
    " - lines에 저장된 로그들을 차례로 이후의 로그들과 비교해주며 1초 이내에 수행된 로그의 갯수를 answer에 저장\n",
    " - 그 중에서 가장 큰 값을 return"
   ]
  },
  {
   "cell_type": "code",
   "execution_count": 1,
   "id": "6c328cb6",
   "metadata": {},
   "outputs": [],
   "source": [
    "def solution(lines): \n",
    "    answer = []\n",
    "    lines = list(i.split() for i in lines)\n",
    "    start_time = list(float(i[1][:2])*3600 + float(i[1][3:5])*60 + float(i[1][6:]) + 0.001 - float(i[2][:-1]) for i in lines)\n",
    "    end_time = list(float(i[1][:2])*3600 + float(i[1][3:5])*60 + float(i[1][6:]) for i in lines)\n",
    "    \n",
    "    lines = list((a,b) for a,b in zip(start_time, end_time))\n",
    "\n",
    "    while(lines):\n",
    "        std = lines.pop(0)[1]\n",
    "        count = 1\n",
    "        \n",
    "        for i in lines:\n",
    "            if i[0] - std < float(1):\n",
    "                count += 1\n",
    "                continue\n",
    "            \n",
    "        answer.append(count)\n",
    "        \n",
    "    return max(answer)"
   ]
  },
  {
   "cell_type": "code",
   "execution_count": 2,
   "id": "788e9b0e",
   "metadata": {},
   "outputs": [
    {
     "data": {
      "text/plain": [
       "1"
      ]
     },
     "execution_count": 2,
     "metadata": {},
     "output_type": "execute_result"
    }
   ],
   "source": [
    "lines = [\"2016-09-15 01:00:04.001 2.0s\", \"2016-09-15 01:00:07.000 2s\"]\n",
    "\n",
    "solution(lines)"
   ]
  }
 ],
 "metadata": {
  "kernelspec": {
   "display_name": "Python 3",
   "language": "python",
   "name": "python3"
  },
  "language_info": {
   "codemirror_mode": {
    "name": "ipython",
    "version": 3
   },
   "file_extension": ".py",
   "mimetype": "text/x-python",
   "name": "python",
   "nbconvert_exporter": "python",
   "pygments_lexer": "ipython3",
   "version": "3.8.8"
  }
 },
 "nbformat": 4,
 "nbformat_minor": 5
}
