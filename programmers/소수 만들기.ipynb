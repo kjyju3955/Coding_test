{
 "cells": [
  {
   "cell_type": "markdown",
   "id": "70d9a2e3",
   "metadata": {},
   "source": [
    "# 소수 만들기"
   ]
  },
  {
   "cell_type": "markdown",
   "id": "9b72a19b",
   "metadata": {},
   "source": [
    "## 문제\n",
    "주어진 숫자 중 3개의 수를 더했을 때 소수가 되는 경우의 개수를 구하려고 함<br>\n",
    "숫자들이 들어있는 배열 nums가 매개변수로 주어질 때, nums에 있는 숫자들 중 서로 다른 3개를 골라 더했을 때 <br>\n",
    "소수가 되는 경우의 개수를 return\n",
    "<br><br>\n",
    "input : 숫자 문자열, output : 숫자\n",
    "\n",
    "#### <조건>\n",
    " - nums에 들어있는 숫자의 개수는 3개 이상 50개 이하\n",
    " - nums의 각 원소는 1 이상 1,000 이하의 자연수이며, 중복되지 않음\n",
    " \n",
    "#### <예시>\n",
    "input : [1,2,3,4]\n",
    "<br><br>\n",
    "result : 1\n",
    "<br><br>\n",
    " - [1,2,4]를 이용해서 7을 만들 수 있습니다.\n",
    " \n",
    "https://programmers.co.kr/learn/courses/30/lessons/12977"
   ]
  },
  {
   "cell_type": "markdown",
   "id": "8ab6ce64",
   "metadata": {},
   "source": [
    "## 풀이\n",
    " - is_prime_number라는 소수인지 판별해주는 함수 생성\n",
    " - itertools의 combinations라이브러리를 활용해서 주어진 정수배열을 3개씩 묶는 경우의 수를 모두 구함\n",
    " - 경우의 수를 is_prime_number를 이용해서 소수 판별을 해주고 소수인 경우 리스트에 추가\n",
    " - 추가된 리스트의 소수의 개수를 구해서 return"
   ]
  },
  {
   "cell_type": "code",
   "execution_count": 1,
   "id": "6a74522c",
   "metadata": {},
   "outputs": [],
   "source": [
    "from itertools import combinations\n",
    " \n",
    "def solution(nums):\n",
    "    return len(list(i for i in combinations(nums, 3) if is_prime_number(i)))\n",
    "    \n",
    "def is_prime_number(x):\n",
    "    x = sum(x)\n",
    "    for i in range(2, x):\n",
    "        if x%i == 0:\n",
    "            return False\n",
    "    \n",
    "    return True"
   ]
  },
  {
   "cell_type": "code",
   "execution_count": 2,
   "id": "60cc008b",
   "metadata": {},
   "outputs": [
    {
     "data": {
      "text/plain": [
       "1"
      ]
     },
     "execution_count": 2,
     "metadata": {},
     "output_type": "execute_result"
    }
   ],
   "source": [
    "nums = [1,2,3,4]\n",
    "\n",
    "solution(nums)"
   ]
  }
 ],
 "metadata": {
  "kernelspec": {
   "display_name": "Python 3",
   "language": "python",
   "name": "python3"
  },
  "language_info": {
   "codemirror_mode": {
    "name": "ipython",
    "version": 3
   },
   "file_extension": ".py",
   "mimetype": "text/x-python",
   "name": "python",
   "nbconvert_exporter": "python",
   "pygments_lexer": "ipython3",
   "version": "3.8.8"
  }
 },
 "nbformat": 4,
 "nbformat_minor": 5
}
