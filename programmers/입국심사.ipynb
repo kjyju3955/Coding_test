{
 "cells": [
  {
   "cell_type": "markdown",
   "id": "87d1d313",
   "metadata": {},
   "source": [
    "# 입국심사"
   ]
  },
  {
   "cell_type": "markdown",
   "id": "0a436ff2",
   "metadata": {},
   "source": [
    "## 문제"
   ]
  },
  {
   "cell_type": "markdown",
   "id": "7d041974",
   "metadata": {},
   "source": [
    "n명이 입국심사를 위해서 줄을 서서 기다리고 있다. <br>\n",
    "각 입국심사대에 있는 심사관마다 걸리는 시간이 다르다. <br>\n",
    "한 심사대에서는 최대 한명만 심사 가능할 때 모든 사람이 심사를 받는데 걸리는 시간을 최소로 하고자 한다. <br>\n",
    "이때 걸리는 시간의 최솟값을 return해라\n",
    "\n",
    "input : n, times\n",
    "output : 모든 사람이 입국심사하는데 소요되는 최소 시간\n",
    "\n",
    "#### <조건>\n",
    " - 1<=n<=1,000,000,000\n",
    " - 입국심사관이 심사하는데 걸리는 시간(time)은 1<=time<=1,000,000,000\n",
    " - 1<= 심사관 수 <= 100,000\n",
    " \n",
    "#### <예시>\n",
    "n = 6 <br>\n",
    "times = [7,10]\n",
    "<br><br>\n",
    "result = 28\n",
    "<br><br>\n",
    " 1. 가장 첫 두 사람은 바로 심사를 받으러 감\n",
    " 2. 7분이 되었을 때, 첫 번째 심사대가 비고 3번째 사람이 심사를 받음\n",
    " 3. 10분이 되었을 때, 두 번째 심사대가 비고 4번째 사람이 심사를 받음\n",
    " 4. 14분이 되었을 때, 첫 번째 심사대가 비고 5번째 사람이 심사를 받음\n",
    " 5. 20분이 되었을 때, 두 번째 심사대가 비지만 6번째 사람이 그곳에서 심사를 받지 않고 1분을 더 기다린 <br>후에 첫번 째\n",
    "    심사대에서 심사를 받으면 28분에 모든 사람의 심사가 끝남\n",
    "    \n",
    "https://programmers.co.kr/learn/courses/30/lessons/43238"
   ]
  },
  {
   "cell_type": "markdown",
   "id": "b9d48149",
   "metadata": {},
   "source": [
    "## 풀이"
   ]
  },
  {
   "cell_type": "markdown",
   "id": "774f48b1",
   "metadata": {},
   "source": [
    "### 1. \n",
    " - time 하나가 최대 n명까지 심사가 가능하기에 모든 times의 시간을 n까지 곱하는 리스트 생성\n",
    " - 리스트를 작은 순으로 정렬\n",
    " - n번째 순서의 시간을 선택 => n명을 심사할 때 걸리는 가장 작은 수 탐색 가능\n",
    " <br><br>\n",
    " 9개중 3개 통과 (테스트 케이스 2417.66ms - 나머지는 시간초과)\n",
    " \n",
    "### 2. \n",
    " - 1번과 방식은 비슷\n",
    " - 사람 한명이 들어올 때마다 미리 각 심사대에서 통과를 받는 경우의 시간을 구해봄\n",
    " - 가장 짧게 걸리는 경우를 선택해서 모든 사람이 다 통과할 때까지 누적\n",
    " <br><br>\n",
    " 9개중 3개 통과 (테스트 케이스 531.73ms - 시간이 감소 하지만 나머지는 시간초과) \n",
    " \n",
    "### 3.\n",
    " - 이분탐색 활용\n",
    " - 1부터 시간이 가장 오래 걸리는 심사대만 사람들이 통과할 경우를 범위로 잡음\n",
    " - 범위의 중간값을 잡고 중간값에서 사람들이 통과하는 수를 계산\n",
    " - 탐색이 끝날 때까지 반복해서 계산\n",
    " - 최종으로 나온 start값이 최소 값이기에 답으로 추출\n",
    " <br><br>\n",
    " 통과"
   ]
  },
  {
   "cell_type": "code",
   "execution_count": 193,
   "id": "7c95b982",
   "metadata": {},
   "outputs": [],
   "source": [
    "# 1.\n",
    "\n",
    "def solution(n, times):\n",
    "    return sorted(list(i*j for i in times for j in range(1, n+1)))[n-1]"
   ]
  },
  {
   "cell_type": "code",
   "execution_count": 194,
   "id": "fa80450a",
   "metadata": {},
   "outputs": [],
   "source": [
    "# 2.\n",
    "\n",
    "def solution(n, times):\n",
    "    answer = [0] * len(times)\n",
    "    \n",
    "    for i in range(n):\n",
    "        std = list(a+t for a,t in zip(answer, times))\n",
    "        idx = std.index(min(std))\n",
    "        answer[idx] += times[idx]\n",
    "        \n",
    "    return answer[idx]"
   ]
  },
  {
   "cell_type": "code",
   "execution_count": 277,
   "id": "a52c2182",
   "metadata": {},
   "outputs": [],
   "source": [
    "# 3.\n",
    "\n",
    "def solution(n, times):\n",
    "    times = sorted(times)\n",
    "    answer = 0\n",
    "    start, end = 1, times[-1] * n\n",
    "\n",
    "    while start < end:\n",
    "        mid = (start + end) // 2\n",
    "        \n",
    "        total = sum(mid//i for i in times)\n",
    "        \n",
    "        if total >= n:\n",
    "            end = mid\n",
    "        else:\n",
    "            start = mid + 1\n",
    "            \n",
    "    answer = start\n",
    "    \n",
    "    return answer"
   ]
  },
  {
   "cell_type": "code",
   "execution_count": 278,
   "id": "9a07913c",
   "metadata": {},
   "outputs": [
    {
     "name": "stdout",
     "output_type": "stream",
     "text": [
      "1 30 60\n",
      "1 15 30\n",
      "16 23 30\n",
      "24 27 30\n",
      "28 29 30\n",
      "28 28 29\n"
     ]
    },
    {
     "data": {
      "text/plain": [
       "28"
      ]
     },
     "execution_count": 278,
     "metadata": {},
     "output_type": "execute_result"
    }
   ],
   "source": [
    "n = 6\n",
    "times =  [7,10]\n",
    "\n",
    "solution(n, times)"
   ]
  }
 ],
 "metadata": {
  "kernelspec": {
   "display_name": "Python 3",
   "language": "python",
   "name": "python3"
  },
  "language_info": {
   "codemirror_mode": {
    "name": "ipython",
    "version": 3
   },
   "file_extension": ".py",
   "mimetype": "text/x-python",
   "name": "python",
   "nbconvert_exporter": "python",
   "pygments_lexer": "ipython3",
   "version": "3.8.8"
  }
 },
 "nbformat": 4,
 "nbformat_minor": 5
}
