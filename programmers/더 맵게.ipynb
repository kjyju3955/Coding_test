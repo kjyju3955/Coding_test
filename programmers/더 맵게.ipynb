{
 "cells": [
  {
   "cell_type": "markdown",
   "id": "664717cb",
   "metadata": {},
   "source": [
    "# 더 맵게"
   ]
  },
  {
   "cell_type": "markdown",
   "id": "8c01d195",
   "metadata": {},
   "source": [
    "## 문제\n",
    "음식의 스코빌 지수를 K 이상으로 만들기 위해 스코빌 지수가 가장 낮은 두 개의 음식을 아래와 같이 특별한 방법으로 <br>\n",
    "섞어 새로운 음식을 만듦<br>\n",
    " : 섞은 음식의 스코빌 지수 = 가장 맵지 않은 음식의 스코빌 지수 + (두 번째로 맵지 않은 음식의 스코빌 지수 * 2) <br>\n",
    "모든 음식의 스코빌 지수가 K 이상이 될 때까지 반복하여 섞음<br>\n",
    "음식의 스코빌 지수를 담은 배열 scoville과 원하는 스코빌 지수 K가 주어질 때, 모든 음식의 스코빌 지수를 K 이상으로<br>\n",
    "만들기 위해 섞어야 하는 최소 횟수를 return\n",
    "<br><br>\n",
    "input : scoville = 정수 배열, K = 정수, output : 정수\n",
    "\n",
    "#### <조건>\n",
    " - scoville의 길이는 2 이상 1,000,000 이하\n",
    " - K는 0 이상 1,000,000,000 이하\n",
    " - scoville의 원소는 각각 0 이상 1,000,000 이하\n",
    " - 모든 음식의 스코빌 지수를 K 이상으로 만들 수 없는 경우에는 -1을 return\n",
    " \n",
    "#### <예시>\n",
    "input : scoville = [1, 2, 3, 9, 10, 12], K = 7\n",
    "<br><br>\n",
    "result : 2\n",
    "<br><br>\n",
    " - 스코빌 지수가 1인 음식과 2인 음식을 섞으면 새로운 음식의 스코빌 지수 = 1 + (2 * 2) = 5 <br>\n",
    "   가진 음식의 스코빌 지수 = [5, 3, 9, 10, 12]\n",
    " - 스코빌 지수가 3인 음식과 5인 음식을 섞으면 새로운 음식의 스코빌 지수 = 3 + (5 * 2) = 13 <br>\n",
    "   가진 음식의 스코빌 지수 = [13, 9, 10, 120]\n",
    " - 모든 음식의 스코빌 지수가 7 이상이 되었고 이때 섞은 횟수는 2회\n",
    " \n",
    "https://programmers.co.kr/learn/courses/30/lessons/42626"
   ]
  },
  {
   "cell_type": "markdown",
   "id": "883301c2",
   "metadata": {},
   "source": [
    "## 풀이\n",
    " - 모든 scoville를 다 합쳐야 K를 넘는 경우도 있을 수 있기에 scoville를 누적해서 길이가 1이 될 때까지 더해줌\n",
    " - 만약 길이가 1이 되기 전에 K를 넘는 경우에는 바로 answer를 return 해줌\n",
    " - scoville에서 2개의 정수를 뽑아주고 이를 공식에 맞게 계산해서 다시 넣어줌 ( 반복 )\n",
    " - 반복할 때마다 횟수를 +1 해줌\n",
    " - 반복문이 종료되었는데도 남은 숫자가 K보다 작다면 -1을 return 아니면 반복 횟수를 return"
   ]
  },
  {
   "cell_type": "code",
   "execution_count": 1,
   "id": "da0e9219",
   "metadata": {},
   "outputs": [],
   "source": [
    "import heapq\n",
    "\n",
    "def solution(scoville, K):\n",
    "    answer = 0\n",
    "    count = 0\n",
    "    scoville.sort()\n",
    "    while(len(scoville) > 1):\n",
    "        if scoville[0] >= K:\n",
    "            answer = count\n",
    "            return answer\n",
    "        \n",
    "        num1 = heapq.heappop(scoville)\n",
    "        num2 = heapq.heappop(scoville)\n",
    "    \n",
    "        heapq.heappush(scoville, num1+(num2*2))\n",
    "        \n",
    "        print(scoville)\n",
    "        \n",
    "        count += 1\n",
    "        \n",
    "    if scoville[0] < K:\n",
    "        answer = -1\n",
    "    else:\n",
    "        answer = count\n",
    "        \n",
    "    return answer"
   ]
  },
  {
   "cell_type": "code",
   "execution_count": 2,
   "id": "399b2225",
   "metadata": {},
   "outputs": [
    {
     "name": "stdout",
     "output_type": "stream",
     "text": [
      "[3, 5, 10, 12, 9]\n",
      "[9, 12, 10, 13]\n"
     ]
    },
    {
     "data": {
      "text/plain": [
       "2"
      ]
     },
     "execution_count": 2,
     "metadata": {},
     "output_type": "execute_result"
    }
   ],
   "source": [
    "scoville = [1, 3, 2, 9, 10, 12]\n",
    "K = 7\n",
    "\n",
    "solution(scoville, K)"
   ]
  }
 ],
 "metadata": {
  "kernelspec": {
   "display_name": "Python 3",
   "language": "python",
   "name": "python3"
  },
  "language_info": {
   "codemirror_mode": {
    "name": "ipython",
    "version": 3
   },
   "file_extension": ".py",
   "mimetype": "text/x-python",
   "name": "python",
   "nbconvert_exporter": "python",
   "pygments_lexer": "ipython3",
   "version": "3.8.8"
  }
 },
 "nbformat": 4,
 "nbformat_minor": 5
}
