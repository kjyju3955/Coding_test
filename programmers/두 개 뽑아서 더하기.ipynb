{
 "cells": [
  {
   "cell_type": "markdown",
   "id": "0fd7d53f",
   "metadata": {},
   "source": [
    "# 두 개 뽑아서 더하기"
   ]
  },
  {
   "cell_type": "markdown",
   "id": "78f25b84",
   "metadata": {},
   "source": [
    "## 문제\n",
    "정수 배열 numbers가 주어짐. numbers에서 서로 다른 인덱스에 있는 두 개의 수를 뽑아 더해서 만들 수 있는 모든 수를 <br>\n",
    "배열에 오름차순으로 담아 return\n",
    "<br><br>\n",
    "input : 정수 배열, output : 정수 배열\n",
    " \n",
    "#### <조건>\n",
    " - numbers의 길이는 2 이상 100 이하\n",
    " - numbers의 모든 수는 0 이상 100 이하\n",
    " \n",
    "#### <예시>\n",
    "input : [2,1,3,4,1]\t\n",
    "<br><br>\n",
    "result : [2,3,4,5,6,7]\n",
    "<br><br>\n",
    " - 2 = 1 + 1 (1이 numbers에 두 개 있습니다.)\n",
    " - 3 = 2 + 1 \n",
    " - 4 = 1 + 3\n",
    " - 5 = 1 + 4 = 2 + 3\n",
    " - 6 = 2 + 4 \n",
    " - 7 = 3 + 4\n",
    " - 따라서 [2,3,4,5,6,7] 을 return\n",
    " \n",
    "https://programmers.co.kr/learn/courses/30/lessons/68644"
   ]
  },
  {
   "cell_type": "markdown",
   "id": "d0f5f1ef",
   "metadata": {},
   "source": [
    "## 풀이\n",
    " - itertools에 있는 combinations을 활용\n",
    " - numbers에 2개로 만들 수 있는 조합을 생성\n",
    " - 이들의 합을 set()에 넣어서 중복 제거\n",
    " - 다시 list()로 만들어서 정렬한 뒤에 return"
   ]
  },
  {
   "cell_type": "code",
   "execution_count": 1,
   "id": "53424e84",
   "metadata": {},
   "outputs": [],
   "source": [
    "import itertools \n",
    "\n",
    "def solution(numbers):\n",
    "    return sorted(list(set(sum(i) for i in itertools.combinations(numbers, 2))))"
   ]
  },
  {
   "cell_type": "code",
   "execution_count": 2,
   "id": "808f8f81",
   "metadata": {},
   "outputs": [
    {
     "data": {
      "text/plain": [
       "[2, 3, 4, 5, 6, 7]"
      ]
     },
     "execution_count": 2,
     "metadata": {},
     "output_type": "execute_result"
    }
   ],
   "source": [
    "numbers = [2,1,3,4,1]\n",
    "\n",
    "solution(numbers)"
   ]
  }
 ],
 "metadata": {
  "kernelspec": {
   "display_name": "Python 3",
   "language": "python",
   "name": "python3"
  },
  "language_info": {
   "codemirror_mode": {
    "name": "ipython",
    "version": 3
   },
   "file_extension": ".py",
   "mimetype": "text/x-python",
   "name": "python",
   "nbconvert_exporter": "python",
   "pygments_lexer": "ipython3",
   "version": "3.8.8"
  }
 },
 "nbformat": 4,
 "nbformat_minor": 5
}
