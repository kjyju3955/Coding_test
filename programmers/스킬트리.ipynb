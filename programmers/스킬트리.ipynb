{
 "cells": [
  {
   "cell_type": "markdown",
   "metadata": {},
   "source": [
    "# 스킬트리"
   ]
  },
  {
   "cell_type": "markdown",
   "metadata": {},
   "source": [
    "## 문제\n",
    "선행 스킬이란 어떤 스킬을 배우기 전에 먼저 배워야 하는 스킬. 예를 들어 선행 스킬 순서가 스파크 → 라이트닝 볼트 → 썬더일때, 썬더를 배우려면 먼저 라이트닝 볼트를 배워야 하고, 라이트닝 볼트를 배우려면 먼저 스파크를 배워야 함. 위 순서에 없는 다른 스킬(힐링 등)은 순서에 상관없이 배울 수 있음. 선행 스킬 순서 skill과 유저들이 만든 스킬트리1를 담은 배열 skill_trees가 매개변수로 주어질 때, 가능한 스킬트리 개수를 return.\n",
    "<br><br>\n",
    "input : skill = 문자열, skill_trees = 문자열 배열, output : 정수\n",
    "\n",
    "#### <조건>\n",
    " - 스킬은 알파벳 대문자로 표기하며, 모든 문자열은 알파벳 대문자로만 이루어짐\n",
    " - 스킬 순서와 스킬트리는 문자열로 표기\n",
    "   - 예를 들어, C → B → D 라면 \"CBD\"로 표기\n",
    " - 선행 스킬 순서 skill의 길이는 1 이상 26 이하이며, 스킬은 중복해 주어지지 않음\n",
    " - skill_trees는 길이 1 이상 20 이하인 배열\n",
    " - skill_trees의 원소는 스킬을 나타내는 문자열\n",
    "   - skill_trees의 원소는 길이가 2 이상 26 이하인 문자열이며, 스킬이 중복해 주어지지 않음\n",
    "   \n",
    "#### <예시>\n",
    "input : skill = \"CBD\", skill_tress = [\"BACDE\", \"CBADF\", \"AECB\", \"BDA\"]\n",
    "<br><br>\n",
    "result : 2\n",
    "<br><br>\n",
    " - \"BACDE\": B 스킬을 배우기 전에 C 스킬을 먼저 배워야 함. 불가능한 스킬트리\n",
    " - \"CBADF\": 가능한 스킬트리\n",
    " - \"AECB\": 가능한 스킬트리\n",
    " - \"BDA\": B 스킬을 배우기 전에 C 스킬을 먼저 배워야 함. 불가능한 스킬트리\n",
    " - 따라서, 2개의 스킬트리가 가능\n",
    " \n",
    "https://programmers.co.kr/learn/courses/30/lessons/49993"
   ]
  },
  {
   "cell_type": "markdown",
   "metadata": {},
   "source": [
    "## 풀이\n",
    " - 처리해주기 앞서 만약 skill에 없는 것들로만 skill_tree가 이루어진 경우 허용이 가능하기에 찾아서 수를 answer에 저장\n",
    " - 만약 skill에서 제일 처음에 배워야 하는 스킬이 skill_tree에 없다면 불가능한 스킬트리이기에 고려하지 않음\n",
    " - skill_trees를 돌면서 skill에 있는 스킬일 경우만 찾아 queue라는 문자열에 저장\n",
    " - skill_trees에 있는 스킬트리 하나를 모두 확인하고 나면 queue에있는 문자열과 skill을 비교해서 같을 경우에 가능한 스킬트리로 간주\n",
    "   - 이때 skill에서 queue길이 만큼만 비교\n",
    " - skill_trees의 모든 스킬트리를 다 확인하고 나서 answer를 return"
   ]
  },
  {
   "cell_type": "code",
   "execution_count": 1,
   "metadata": {},
   "outputs": [],
   "source": [
    "def solution(skill, skill_trees):\n",
    "    answer = len([i for i in skill_trees if len(set(i+skill)) == len(skill)+len(i)])\n",
    "    skill_trees = [i for i in skill_trees if skill[0] in i]\n",
    "    \n",
    "    for tree in skill_trees:\n",
    "        queue = \"\"\n",
    "        for i in tree:\n",
    "            if i in skill: queue += i\n",
    "                \n",
    "        if queue == skill[:len(queue)]: answer += 1\n",
    "        \n",
    "    return answer"
   ]
  },
  {
   "cell_type": "code",
   "execution_count": 2,
   "metadata": {},
   "outputs": [
    {
     "data": {
      "text/plain": [
       "2"
      ]
     },
     "execution_count": 2,
     "metadata": {},
     "output_type": "execute_result"
    }
   ],
   "source": [
    "skill = \"CBD\"\n",
    "skill_trees = [\"BACDE\", \"CBADF\", \"AECB\", \"BDA\"]\n",
    "\n",
    "solution(skill, skill_trees)"
   ]
  }
 ],
 "metadata": {
  "kernelspec": {
   "display_name": "Python 3",
   "language": "python",
   "name": "python3"
  },
  "language_info": {
   "codemirror_mode": {
    "name": "ipython",
    "version": 3
   },
   "file_extension": ".py",
   "mimetype": "text/x-python",
   "name": "python",
   "nbconvert_exporter": "python",
   "pygments_lexer": "ipython3",
   "version": "3.8.5"
  }
 },
 "nbformat": 4,
 "nbformat_minor": 4
}
