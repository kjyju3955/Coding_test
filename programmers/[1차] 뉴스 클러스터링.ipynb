{
 "cells": [
  {
   "cell_type": "markdown",
   "id": "b9f2430f",
   "metadata": {},
   "source": [
    "# [1차] 뉴스 클러스터링"
   ]
  },
  {
   "cell_type": "markdown",
   "id": "11f4d0fd",
   "metadata": {},
   "source": [
    "## 문제\n",
    "유사한 기사를 묶는 기준을 정하기 위해서 논문과 자료를 조사하던 튜브는 \"자카드 유사도\"라는 방법 발견<br>\n",
    "이를 이용하여 문자열 사이의 유사도를 계산하는데 이용<br>\n",
    "문자열 \"FRANCE\"와 \"FRENCH\"가 주어졌을 때, 이를 두 글자씩 끊어서 \"자카드 유사도\"를 이용\n",
    "<br><br>\n",
    "input : str1 = 문자열, str2 = 문자, output : 숫자\n",
    "\n",
    "#### <조건>\n",
    " - 각 문자열의 길이는 2 이상, 1,000 이하\n",
    " - 입력으로 들어온 문자열은 두 글자씩 끊어서 다중집합의 원소로 만듬 <br>\n",
    "   영문자로 된 글자 쌍만 유효하고, 기타 공백이나 숫자, 특수 문자가 들어있는 경우는 그 글자 쌍을 버림\n",
    " - 다중집합 원소 사이를 비교할 때, 대문자와 소문자의 차이는 무시\n",
    " - 집합 A와 집합 B가 모두 공집합일 경우에는 나눗셈이 정의되지 않으니 따로 J(A, B) = 1\n",
    " - 출력을 할 때는 자카드 유사도 값에 65536를 곱하고 정수만 return\n",
    " \n",
    "#### <예시>\n",
    "input : str1 = \"FRANCE\", str2 = \"FRENCH\"\n",
    "<br><br>\n",
    "result : 0.25\n",
    "<br><br>\n",
    " - {FR, RA, AN, NC, CE}, {FR, RE, EN, NC, CH}로 나눌 수 있음\n",
    " - 교집합은 {FR, NC}, 합집합은 {FR, RA, AN, NC, CE, RE, EN, CH}\n",
    " - 두 문자열 사이의 자카드 유사도 J(\"FRANCE\", \"FRENCH\") = 2/8 = 0.25 return \n",
    " \n",
    "https://programmers.co.kr/learn/courses/30/lessons/17677"
   ]
  },
  {
   "cell_type": "markdown",
   "id": "4a4f3048",
   "metadata": {},
   "source": [
    "## 풀이\n",
    "\n",
    "### 1.\n",
    " - 대문자와 소문자를 구별하지 않기에 모든 문자열의 조각을 upper()을 사용해서 대문자로 변경\n",
    " - 알파벳이 아닌 경우에는 문자열 조각을 사용하지 않기에 자를 때 처리를 해줌\n",
    " - 두 문자열중 짧은 문자열을 short_list, 긴 문자열을 long_list로 처리해줌\n",
    " - 짧은 문자열을 기준으로 긴 문자열에도 있는 값을 뽑아서 교집합을 구함\n",
    " - 합집합은 두 문자열을 더한 후에 교집합을 빼줌\n",
    " - 두 문자열이 공집합인 경우에는 자카드 유사도는 1이게 처리해줌\n",
    " - 자카드 유사도에서 65536을 곱하고 난 후 정수 값을 return \n",
    " \n",
    "### 2.\n",
    " - 1의 방식을 조금 간단하게 수정\n",
    " - 1과 같이 두 문자열을 쪼개면서 알파벳인 것만 남김, 이때 모두 대문자로 변경\n",
    " - 두 문자열을 set()으로 변경해서 두 문자열에 존재하는 모든 문자열 조각을 구해서 std에 저장\n",
    " - 이때 std에 아무것도 없으면 두 문자열이 비어있는 것이기에 자카드 유사도를 1로 처리\n",
    " - std를 돌면서 합집합의 경우에는 두 문자열에 해당 문자 조각의 개수 중에서 큰 개수만큼의 문자열 조각을 넣어줌\n",
    " - 교집합의 경우에는 두문자열에 해당 문자 조각의 개수 중에서 작은 개수 만큼의 문자열 조각을 넣어줌"
   ]
  },
  {
   "cell_type": "code",
   "execution_count": 138,
   "id": "d9ddcaf4",
   "metadata": {},
   "outputs": [],
   "source": [
    "# 1\n",
    "\n",
    "def solution(str1, str2):\n",
    "    str1 = [str1[i:i+2].upper() for i in range(len(str1)-1) if 65 <= ord(str1[i].upper()) <= 90 and 65 <= ord(str1[i+1].upper()) <= 90]\n",
    "    str2 = [str2[i:i+2].upper() for i in range(len(str2)-1) if 65 <= ord(str2[i].upper()) <= 90 and 65 <= ord(str2[i+1].upper()) <= 90]\n",
    "    \n",
    "    short_list = (str1 if len(str1) < len(str2) else str2)\n",
    "    long_list = (str1 if len(str1) >= len(str2) else str2).copy()\n",
    "    \n",
    "    inter_list = []\n",
    "    for i in short_list:\n",
    "        if i in long_list:\n",
    "            inter_list.append(i)\n",
    "            long_list.remove(i)\n",
    "    \n",
    "    union_list = str1 + str2\n",
    "\n",
    "    for i in inter_list: union_list.remove(i)\n",
    "        \n",
    "    if not inter_list and not union_list: return 65536\n",
    "    \n",
    "    return int(len(inter_list)/len(union_list)*65536)"
   ]
  },
  {
   "cell_type": "code",
   "execution_count": 152,
   "id": "4b9062ad",
   "metadata": {},
   "outputs": [],
   "source": [
    "# 2\n",
    "\n",
    "def solution(str1, str2):\n",
    "    str1 = [str1[i:i+2].upper() for i in range(len(str1)-1) if str1[i:i+2].isalpha()]\n",
    "    str2 = [str2[i:i+2].upper() for i in range(len(str2)-1) if str2[i:i+2].isalpha()]\n",
    "    \n",
    "    std = set(str1) | set(str2)\n",
    "    \n",
    "    if not std: return 65536\n",
    "    \n",
    "    union = []\n",
    "    inter = []\n",
    "    \n",
    "    for i in std:\n",
    "        union.extend([i] * max(str1.count(i), str2.count(i)))\n",
    "        inter.extend([i] * min(str1.count(i), str2.count(i)))\n",
    "        \n",
    "    return int(len(inter)/len(union)*65536)"
   ]
  },
  {
   "cell_type": "code",
   "execution_count": 153,
   "id": "664d9440",
   "metadata": {},
   "outputs": [
    {
     "data": {
      "text/plain": [
       "0"
      ]
     },
     "execution_count": 153,
     "metadata": {},
     "output_type": "execute_result"
    }
   ],
   "source": [
    "str1 = \"ABC\"\n",
    "str2 = \"DEF\"\n",
    "\n",
    "solution(str1, str2)"
   ]
  }
 ],
 "metadata": {
  "kernelspec": {
   "display_name": "Python 3",
   "language": "python",
   "name": "python3"
  },
  "language_info": {
   "codemirror_mode": {
    "name": "ipython",
    "version": 3
   },
   "file_extension": ".py",
   "mimetype": "text/x-python",
   "name": "python",
   "nbconvert_exporter": "python",
   "pygments_lexer": "ipython3",
   "version": "3.8.8"
  }
 },
 "nbformat": 4,
 "nbformat_minor": 5
}
