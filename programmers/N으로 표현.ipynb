{
 "cells": [
  {
   "cell_type": "markdown",
   "id": "cc0e8dec",
   "metadata": {},
   "source": [
    "# N으로 표현"
   ]
  },
  {
   "cell_type": "markdown",
   "id": "2e5a9675",
   "metadata": {},
   "source": [
    "## 문제\n",
    "숫자 N과 number가 주어질 때, N과 사칙연산만 사용해서 표현 할 수 있는 방법 중 N 사용횟수의 최솟값을 return\n",
    "<br><br>\n",
    "input : N = 정수, number = 정수, output : 정수\n",
    "\n",
    "#### <조건>\n",
    " - N은 1 이상 9 이하\n",
    " - number는 1 이상 32,000 이하\n",
    " - 수식에는 괄호와 사칙연산만 가능하며 나누기 연산에서 나머지는 무시\n",
    " - 최솟값이 8보다 크면 -1을 return\n",
    " \n",
    "#### <예시>\n",
    "input : N = 5, number = 12\n",
    "<br><br>\n",
    "result : 4\n",
    "<br><br>\n",
    " - 12 = 5 + 5 + (5 / 5) + (5 / 5) => 6\n",
    " - 12 = 55 / 5 + 5 / 5 => 5\n",
    " - 12 = (55 + 5) / 5 => 4\n",
    " - 이중 가장 작은 경우는 4\n",
    " \n",
    "https://programmers.co.kr/learn/courses/30/lessons/42895"
   ]
  },
  {
   "cell_type": "markdown",
   "id": "c049eedd",
   "metadata": {},
   "source": [
    "## 풀이\n",
    " - 최대 8개까지만 인정을 해주기 때문에 주어진 N을 1개 사용했을 때 부터 8개 사용했을 때까지 숫자들의 연속을 num_list에 저장\n",
    " - number가 단순 숫자의 연속이었을 때는 연산을 안하는 것이 가장 이득이기에 체크하고 길이를 바로 return \n",
    " - 수식을 대입할 수 있는 개수는 괄호를 제외하고 최대 7개 이기 때문에 1-7번을 반복하면서 숫자 개수로 만들 수 있는 모든 <br>\n",
    "   숫자들을 만들어서 저장 <br>\n",
    "   이때, 나누기는 분모가 0이면 안됨을 조건을 추가해줌\n",
    " - 사용하는 숫자의 개수마다 만들어진 모든 경우의 숫자들이 number와 같은지 체크\n",
    " - 같으면 해당 사용한 숫자의 개수를 return\n",
    " - 반복하면서 사용하는 숫자의 개수가 같은 num_list의 인덱스에서 중복되는 숫자들은 제거\n",
    " - 최대 개수만큼 다 돌았지만 찾지 못한 경우에는최솟값이 8보다 큰 경우기에 -1 return"
   ]
  },
  {
   "cell_type": "code",
   "execution_count": 12,
   "id": "f69ab67a",
   "metadata": {},
   "outputs": [],
   "source": [
    "def solution(N, number):\n",
    "    num_list = list([int(str(N)*i)] for i in range(1, 9))\n",
    "    print(num_list)\n",
    "    \n",
    "    if [number] in num_list:\n",
    "        return len(str(number))\n",
    "        \n",
    "    for i in range(1, 8):\n",
    "        for j in range(i):\n",
    "            for a in num_list[j]:\n",
    "                for b in num_list[i-j-1]:\n",
    "                    num_list[i].append(a+b)\n",
    "                    num_list[i].append(a-b)\n",
    "                    num_list[i].append(a*b)\n",
    "                    if b != 0:\n",
    "                        num_list[i].append(a//b)\n",
    "                    \n",
    "        if number in num_list[i]:\n",
    "            return i+1\n",
    "        num_list[i] = list(set(num_list[i]))\n",
    "    \n",
    "    return -1"
   ]
  },
  {
   "cell_type": "code",
   "execution_count": 13,
   "id": "69fba99e",
   "metadata": {},
   "outputs": [
    {
     "name": "stdout",
     "output_type": "stream",
     "text": [
      "[[5], [55], [555], [5555], [55555], [555555], [5555555], [55555555]]\n"
     ]
    },
    {
     "data": {
      "text/plain": [
       "4"
      ]
     },
     "execution_count": 13,
     "metadata": {},
     "output_type": "execute_result"
    }
   ],
   "source": [
    "N = 5\n",
    "number = 12\n",
    "\n",
    "solution(N, number)"
   ]
  }
 ],
 "metadata": {
  "kernelspec": {
   "display_name": "Python 3",
   "language": "python",
   "name": "python3"
  },
  "language_info": {
   "codemirror_mode": {
    "name": "ipython",
    "version": 3
   },
   "file_extension": ".py",
   "mimetype": "text/x-python",
   "name": "python",
   "nbconvert_exporter": "python",
   "pygments_lexer": "ipython3",
   "version": "3.8.8"
  }
 },
 "nbformat": 4,
 "nbformat_minor": 5
}
