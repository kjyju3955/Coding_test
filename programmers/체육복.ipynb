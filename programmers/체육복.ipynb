{
 "cells": [
  {
   "cell_type": "markdown",
   "id": "01bd3620",
   "metadata": {},
   "source": [
    "# 체육복"
   ]
  },
  {
   "cell_type": "markdown",
   "id": "667f6c24",
   "metadata": {},
   "source": [
    "## 문제\n",
    "점심시간에 도둑이 들어, 일부 학생이 체육복을 도난당함 <br>\n",
    "다행히 여벌 체육복이 있는 학생이 이들에게 체육복을 빌려주려 함 <br>\n",
    "학생들의 번호는 체격 순으로 매겨져 있어, 바로 앞번호의 학생이나 바로 뒷번호의 학생에게만 체육복을 빌려줄 수 있음 <br>\n",
    "전체 학생의 수 n, 체육복을 도난당한 학생들의 번호가 담긴 배열 lost, 여벌의 체육복을 가져온 학생들의 번호가 <br>\n",
    "담긴 배열 reserve가 매개변수로 주어질 때, 체육수업을 들을 수 있는 학생의 최댓값을 return \n",
    "<br><br>\n",
    "input : n = 정수, lost = 정수 배열, reserve = 정수 배열, output : 정수\n",
    "\n",
    "#### <조건>\n",
    " - 전체 학생의 수는 2명 이상 30명 이하\n",
    " - 체육복을 도난당한 학생의 수는 1명 이상 n명 이하이고 중복되는 번호는 없음\n",
    " - 여벌의 체육복을 가져온 학생의 수는 1명 이상 n명 이하이고 중복되는 번호는 없음\n",
    " - 여벌 체육복이 있는 학생만 다른 학생에게 체육복을 빌려줄 수 있음\n",
    " - 여벌 체육복을 가져온 학생이 체육복을 도난당했을 수 있음 <br>\n",
    "   이때 이 학생은 체육복을 하나만 도난당했다고 가정하며, 남은 체육복이 하나이기에 다른 학생에게는 체육복을 빌려줄 수 없음\n",
    "   \n",
    "#### <예시>\n",
    "input : n = 5, lost = [2, 4], reserve = [1, 3, 5]\n",
    "<br><br>\n",
    "result : 5\n",
    "<br><br>\n",
    " - 1번 학생이 2번 학생에게 체육복을 빌려줌\n",
    " - 번 학생이나 5번 학생이 4번 학생에게 체육복을 빌려줌\n",
    " - 학생 5명이 체육수업을 들을 수 있음\n",
    " \n",
    "https://programmers.co.kr/learn/courses/30/lessons/42862"
   ]
  },
  {
   "cell_type": "markdown",
   "id": "05c8b8b4",
   "metadata": {},
   "source": [
    "## 풀이\n",
    " - 여분의 체육복이 있어도 도난을 당할 수 있기 때문에 이 인원을 제외한 인원을 따로 저장 <br>\n",
    "   체육복을 도난 당했어도 체육복을 빌려줄 수 있는 인원 = rereserve <br>\n",
    "   여분이 있는 학생이 도난을 당하면 자가 복구가 가능하기에 정말 체육복이 없는 인원 = relost\n",
    " - answer를 총 인원에서 현재 체육복을 소유하고 있는 인원으로 저장\n",
    " - 혹시나 하는 상황에 대비해서 relost, rereserve정렬\n",
    " - 체육복을 빌려줄 수 있는 사람들의 번호와 앞뒤 번호를 reserve_dict에 저장\n",
    " - reserve_dict을 돌면서 빌려줄 수 있는 학생이 체육복이 없을 경우에는 빌려주고 answer를 +1 해주는 과정을 반복\n",
    " - 최종 answer를 return"
   ]
  },
  {
   "cell_type": "code",
   "execution_count": 4,
   "id": "6befa0bc",
   "metadata": {},
   "outputs": [],
   "source": [
    "def solution(n, lost, reserve):\n",
    "    rereserve = list(i for i in reserve if i not in lost)\n",
    "    relost = list(i for i in lost if i not in reserve)\n",
    "\n",
    "    answer = n - len(relost)\n",
    "    \n",
    "    relost.sort()\n",
    "    rereserve.sort()\n",
    "    \n",
    "    reserve_dict = dict(zip(rereserve, list((i-1, i+1) for i in rereserve)))\n",
    "    \n",
    "    reserve_dict_copy = reserve_dict.copy()\n",
    "    \n",
    "    for i in reserve_dict_copy:\n",
    "        if reserve_dict[i][0] in relost:\n",
    "            relost.remove(reserve_dict[i][0])  \n",
    "            answer += 1\n",
    "        elif reserve_dict[i][1] in relost:\n",
    "            relost.remove(reserve_dict[i][1])\n",
    "            answer += 1\n",
    "        del reserve_dict[i]\n",
    "                \n",
    "    return answer"
   ]
  },
  {
   "cell_type": "code",
   "execution_count": 5,
   "id": "926a9231",
   "metadata": {},
   "outputs": [
    {
     "data": {
      "text/plain": [
       "5"
      ]
     },
     "execution_count": 5,
     "metadata": {},
     "output_type": "execute_result"
    }
   ],
   "source": [
    "n = 5\n",
    "lost = [2, 4]\n",
    "reserve = [1, 3, 5]\n",
    "\n",
    "solution(n, lost, reserve)"
   ]
  }
 ],
 "metadata": {
  "kernelspec": {
   "display_name": "Python 3",
   "language": "python",
   "name": "python3"
  },
  "language_info": {
   "codemirror_mode": {
    "name": "ipython",
    "version": 3
   },
   "file_extension": ".py",
   "mimetype": "text/x-python",
   "name": "python",
   "nbconvert_exporter": "python",
   "pygments_lexer": "ipython3",
   "version": "3.8.8"
  }
 },
 "nbformat": 4,
 "nbformat_minor": 5
}
