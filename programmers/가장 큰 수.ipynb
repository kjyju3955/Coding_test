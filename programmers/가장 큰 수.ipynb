{
 "cells": [
  {
   "cell_type": "markdown",
   "metadata": {},
   "source": [
    "# 가장 큰 수"
   ]
  },
  {
   "cell_type": "markdown",
   "metadata": {},
   "source": [
    "## 문제\n",
    "0 또는 양의 정수가 담긴 배열 numbers가 매개변수로 주어질 때, 순서를 재배치하여 만들 수 있는 가장 큰 수를 문자열로 바꾸어 return\n",
    "<br><br>\n",
    "input : 정수 배열, output : 문자열\n",
    "\n",
    "#### <조건>\n",
    " - numbers의 길이는 1 이상 100,000 이하\n",
    " - numbers의 원소는 0 이상 1,000 이하\n",
    " - 정답이 너무 클 수 있으니 문자열로 바꾸어 return\n",
    " \n",
    "#### <예시>\n",
    "input : [6, 10, 2]\n",
    "<br><br>\n",
    "result : '6210'\n",
    "<br><br>\n",
    " - [6102, 6210, 1062, 1026, 2610, 2106]를 만들 수 있음\n",
    " - 이중 가장 큰 수는 6210\n",
    " \n",
    "https://programmers.co.kr/learn/courses/30/lessons/42746"
   ]
  },
  {
   "cell_type": "markdown",
   "metadata": {},
   "source": [
    "## 풀이\n",
    " - 들어온 number가 모두 0이면 그냥 0을 return\n",
    " - numbers의 각 숫자를 최소공배수만큼 나열했을 때 큰 순서데로 나열하면 가장 큰 수의 조합이 나올 것이라는 가정\n",
    " - number의 길이를 find_lcm함수에 넘겨서 각 숫자들 길이의 최소공배수를 구함\n",
    " - find_num함수를 이용해서 각 숫자들을 최소공배수의 길이만큼 반복되게 만들어줌\n",
    " - 이때 index_list에 각 숫자들이 들어온 인덱스 정보와 반복하게 만들어준 숫자를 튜플 형식으로 저장해주고\n",
    " - index_list에서 반복해서 만들어준 숫자가 큰 순으로 정렬\n",
    " - 원래의 numbers와 비교하면서 index_list에서 숫자가 큰 순으로 정렬해서 return"
   ]
  },
  {
   "cell_type": "code",
   "execution_count": 7,
   "metadata": {},
   "outputs": [],
   "source": [
    "def solution(numbers):\n",
    "    answer = ''\n",
    "    \n",
    "    if set(numbers) == {0}:\n",
    "        return '0'\n",
    "\n",
    "    numbers = [str(number) for number in numbers]\n",
    "    \n",
    "    number_len = [len(number) for number in numbers]\n",
    "    \n",
    "    lcm = find_lcm(number_len)\n",
    "\n",
    "    origin_list = numbers.copy()\n",
    "    \n",
    "    index_list = find_num(lcm, numbers)\n",
    "\n",
    "    for i in range(len(origin_list)):\n",
    "        answer += origin_list[index_list[i][0]]\n",
    "        \n",
    "    return answer \n",
    "\n",
    "def find_lcm(arr):\n",
    "    from math import gcd                            \n",
    "    answer = arr[0]                                 \n",
    "\n",
    "    for num in arr:                                \n",
    "        answer = answer*num // gcd(answer, num)     \n",
    "\n",
    "    return answer\n",
    "\n",
    "def find_num(lcm, numbers):\n",
    "    for i in range(len(numbers)):\n",
    "        if len(numbers[i]) <= lcm:\n",
    "            count = (lcm-len(numbers[i])) // len(numbers[i])\n",
    "            remain = (lcm-len(numbers[i])) % len(numbers[i])\n",
    "            numbers[i] = numbers[i] + (numbers[i] * count)\n",
    "            numbers[i] = numbers[i] + numbers[i][:remain]\n",
    "    enf\n",
    "    index_list = list(enumerate(numbers))\n",
    "    index_list.sort(key=lambda x: x[1], reverse=True)\n",
    "    \n",
    "    return index_list"
   ]
  },
  {
   "cell_type": "code",
   "execution_count": 8,
   "metadata": {},
   "outputs": [
    {
     "name": "stdout",
     "output_type": "stream",
     "text": [
      "2\n",
      "['66', '10', '22']\n",
      "[(0, '66'), (2, '22'), (1, '10')]\n"
     ]
    },
    {
     "data": {
      "text/plain": [
       "'6210'"
      ]
     },
     "execution_count": 8,
     "metadata": {},
     "output_type": "execute_result"
    }
   ],
   "source": [
    "numbers = [6, 10, 2]\n",
    "\n",
    "solution(numbers)"
   ]
  }
 ],
 "metadata": {
  "kernelspec": {
   "display_name": "Python 3",
   "language": "python",
   "name": "python3"
  },
  "language_info": {
   "codemirror_mode": {
    "name": "ipython",
    "version": 3
   },
   "file_extension": ".py",
   "mimetype": "text/x-python",
   "name": "python",
   "nbconvert_exporter": "python",
   "pygments_lexer": "ipython3",
   "version": "3.8.5"
  }
 },
 "nbformat": 4,
 "nbformat_minor": 4
}
