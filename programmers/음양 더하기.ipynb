{
 "cells": [
  {
   "cell_type": "markdown",
   "id": "95c25419",
   "metadata": {},
   "source": [
    "# 음양 더하기"
   ]
  },
  {
   "cell_type": "markdown",
   "id": "a8dfaece",
   "metadata": {},
   "source": [
    "## 문제\n",
    "정수들의 절댓값을 차례대로 담은 정수 배열 absolutes와 이 정수들의 부호를 차례대로 담은 불리언 배열 signs가 매개변수로 주어짐 <br>\n",
    "실제 정수들의 합을 구하여 return\n",
    "<br><br>\n",
    "input : absolutes = 리스트, signs = 리스트, output : 숫자\n",
    "\n",
    "#### <조건>\n",
    " - absolutes의 길이는 1 이상 1,000 이하\n",
    " - absolutes의 모든 수는 각각 1 이상 1,000 이하\n",
    " - igns의 길이는 absolutes의 길이와 같음\n",
    " \n",
    "#### <예시>\n",
    "input : absolutes = [4,7,12], signs = [true,false,true]\n",
    "<br><br>\n",
    "result : 9\n",
    "<br><br>\n",
    " - signs가 [true,false,true] 이므로, 실제 수들의 값은 각각 4, -7, 12\n",
    " - 따라서 세 수의 합인 9를 return\n",
    "\n",
    "https://programmers.co.kr/learn/courses/30/lessons/76501"
   ]
  },
  {
   "cell_type": "markdown",
   "id": "13d7a03b",
   "metadata": {},
   "source": [
    "## 풀이\n",
    " - signs를 True일 경우에는 1로 False일 경우에는 -1로 변환시킴\n",
    " - zip()을 이용해서 absolutes와 변환시킨 signs를 곱해주고\n",
    " - sum()을 해준 후에 return"
   ]
  },
  {
   "cell_type": "code",
   "execution_count": 1,
   "id": "e3296530",
   "metadata": {},
   "outputs": [],
   "source": [
    "def solution(absolutes, signs):\n",
    "    signs = list(1 if i == True else -1 for i in signs)\n",
    "    \n",
    "    return sum(list(a * b for a, b in zip(absolutes, signs)))"
   ]
  },
  {
   "cell_type": "code",
   "execution_count": 2,
   "id": "b5b02107",
   "metadata": {},
   "outputs": [
    {
     "data": {
      "text/plain": [
       "9"
      ]
     },
     "execution_count": 2,
     "metadata": {},
     "output_type": "execute_result"
    }
   ],
   "source": [
    "absolutes = [4,7,12]\n",
    "signs = [True,False,True]\n",
    "\n",
    "solution(absolutes, signs)"
   ]
  }
 ],
 "metadata": {
  "kernelspec": {
   "display_name": "Python 3",
   "language": "python",
   "name": "python3"
  },
  "language_info": {
   "codemirror_mode": {
    "name": "ipython",
    "version": 3
   },
   "file_extension": ".py",
   "mimetype": "text/x-python",
   "name": "python",
   "nbconvert_exporter": "python",
   "pygments_lexer": "ipython3",
   "version": "3.8.8"
  }
 },
 "nbformat": 4,
 "nbformat_minor": 5
}
