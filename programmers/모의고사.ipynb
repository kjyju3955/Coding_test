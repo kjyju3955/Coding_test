{
 "cells": [
  {
   "cell_type": "markdown",
   "metadata": {},
   "source": [
    "# 모의고사"
   ]
  },
  {
   "cell_type": "markdown",
   "metadata": {},
   "source": [
    "## 문제\n",
    "수포자 삼인방은 모의고사에 수학 문제를 전부 찍으려 함. 삼인방은 찍는 패턴이 정해져 있음<br>\n",
    "1번 문제부터 마지막 문제까지의 정답이 순서대로 들은 배열 answers가 주어졌을 때, 가장 많은 문제를 맞힌 사람이 누구인지 배열에 담아 return\n",
    "<br><br>\n",
    "input : 정수 배열, output : 정수 배열\n",
    "\n",
    "#### <조건>\n",
    " - 1번 수포자가 찍는 방식: 1, 2, 3, 4, 5, 1, 2, 3, 4, 5, ...\n",
    " - 2번 수포자가 찍는 방식: 2, 1, 2, 3, 2, 4, 2, 5, 2, 1, 2, 3, 2, 4, 2, 5, ...\n",
    " - 3번 수포자가 찍는 방식: 3, 3, 1, 1, 2, 2, 4, 4, 5, 5, 3, 3, 1, 1, 2, 2, 4, 4, 5, 5, ...\n",
    " - 시험은 최대 10,000 문제\n",
    " - 문제의 정답은 1, 2, 3, 4, 5중 하나\n",
    " - 가장 높은 점수를 받은 사람이 여럿일 경우, return하는 값을 오름차순 정렬\n",
    " \n",
    "#### <예시>\n",
    "input : [1,2,3,4,5]\n",
    "<br><br>\n",
    "result : [1]\n",
    "<br><br>\n",
    " - 수포자 1은 모든 문제를 맞힘\n",
    " - 수포자 2는 모든 문제를 틀림\n",
    " - 수포자 2는 모든 문제를 틀림\n",
    " - 따라서 가장 문제를 많이 맞힌 사람은 수포자 1\n",
    " \n",
    "https://programmers.co.kr/learn/courses/30/lessons/42840"
   ]
  },
  {
   "cell_type": "markdown",
   "metadata": {},
   "source": [
    "## 풀이\n",
    " - 삼인방의 찍기 패턴을 num_list에 저장\n",
    " - 제공되는 답을 돌면서 삼인방의 찍기 패턴에 맞을 경우에 점수를 올려주는 com_score함수 선언\n",
    " - 각 수포자의 score를 구해서 수포자0,1,2로 각자의 점수를 매칭시켜줌\n",
    " - 점수를 기준으로 내림차순으로 정렬\n",
    " - 제일 첫 번째 수포자가 점수가 제일 큼 <br>\n",
    "   이때, 점수가 같은 경우도 있을 수 있기에 비교해주면서 같은 경우에 answer에 추가\n",
    " - 점수가 가장 높은 수포자들을 오름차순으로 정렬해서 return"
   ]
  },
  {
   "cell_type": "code",
   "execution_count": 9,
   "metadata": {},
   "outputs": [],
   "source": [
    "def solution(answers):\n",
    "    ans_len = len(answers)\n",
    "    \n",
    "    num_list = [[1,2,3,4,5], [2,1,2,3,2,4,2,5], [3,3,1,1,2,2,4,4,5,5]]\n",
    "    \n",
    "    score = [key for key in enumerate(list(com_score(num, answers) for num in num_list))]\n",
    "\n",
    "    score.sort(key=lambda x: x[1], reverse=True)\n",
    "    \n",
    "    best_score = score[0][1]\n",
    "            \n",
    "    answer = list(i[0]+1 for i in score if i[1]==best_score)\n",
    "    \n",
    "    return sorted(answer)\n",
    "\n",
    "\n",
    "def com_score(arr, answers):\n",
    "    score = 0\n",
    "    \n",
    "    for i in range(len(answers)):\n",
    "        if arr[i%len(arr)] == answers[i]:\n",
    "            score += 1\n",
    "            \n",
    "    return score"
   ]
  },
  {
   "cell_type": "code",
   "execution_count": 10,
   "metadata": {},
   "outputs": [
    {
     "data": {
      "text/plain": [
       "[1]"
      ]
     },
     "execution_count": 10,
     "metadata": {},
     "output_type": "execute_result"
    }
   ],
   "source": [
    "answers = [1,2,3,4,5]\n",
    "\n",
    "solution(answers)"
   ]
  }
 ],
 "metadata": {
  "kernelspec": {
   "display_name": "Python 3",
   "language": "python",
   "name": "python3"
  },
  "language_info": {
   "codemirror_mode": {
    "name": "ipython",
    "version": 3
   },
   "file_extension": ".py",
   "mimetype": "text/x-python",
   "name": "python",
   "nbconvert_exporter": "python",
   "pygments_lexer": "ipython3",
   "version": "3.8.5"
  }
 },
 "nbformat": 4,
 "nbformat_minor": 4
}
