{
 "cells": [
  {
   "cell_type": "code",
   "execution_count": 1,
   "metadata": {},
   "outputs": [],
   "source": [
    "# 신규 아이디 추천\n",
    "# 문제 설명"
   ]
  },
  {
   "cell_type": "code",
   "execution_count": 2,
   "metadata": {},
   "outputs": [],
   "source": [
    "# 정규식 사용 x\n"
   ]
  },
  {
   "cell_type": "code",
   "execution_count": 4,
   "metadata": {},
   "outputs": [],
   "source": [
    "# 정규식 사용\n",
    "\n",
    "import re\n",
    "\n",
    "def solution(new_id):\n",
    "    no_input = \"~!@#$%^&*()=+[{]}:?,<>/\"\n",
    "    new_id = ''.join(list(i.lower() for i in new_id if i not in no_input))\n",
    "    new_id = re.sub('\\.+','.',new_id)\n",
    "    new_id = re.sub('^[.]|[.]$','',new_id)\n",
    "    new_id = 'a' if not new_id else new_id[:15]\n",
    "    new_id = re.sub('[.]$','',new_id)\n",
    "    new_id = new_id if len(new_id) > 2 else new_id + new_id[-1]*(3-len(new_id))\n",
    "    \n",
    "    return new_id"
   ]
  },
  {
   "cell_type": "code",
   "execution_count": 5,
   "metadata": {},
   "outputs": [
    {
     "data": {
      "text/plain": [
       "'bat.y.abcdefghi'"
      ]
     },
     "execution_count": 5,
     "metadata": {},
     "output_type": "execute_result"
    }
   ],
   "source": [
    "new_id = \"...!@BaT#*..y.abcdefghijklm\"\n",
    "\n",
    "solution(new_id)"
   ]
  },
  {
   "cell_type": "code",
   "execution_count": null,
   "metadata": {},
   "outputs": [],
   "source": []
  }
 ],
 "metadata": {
  "kernelspec": {
   "display_name": "Python 3",
   "language": "python",
   "name": "python3"
  },
  "language_info": {
   "codemirror_mode": {
    "name": "ipython",
    "version": 3
   },
   "file_extension": ".py",
   "mimetype": "text/x-python",
   "name": "python",
   "nbconvert_exporter": "python",
   "pygments_lexer": "ipython3",
   "version": "3.8.5"
  }
 },
 "nbformat": 4,
 "nbformat_minor": 4
}
