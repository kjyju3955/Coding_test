{
 "cells": [
  {
   "cell_type": "markdown",
   "id": "041aa953",
   "metadata": {},
   "source": [
    "# 예산"
   ]
  },
  {
   "cell_type": "markdown",
   "id": "78cb9017",
   "metadata": {},
   "source": [
    "## 문제\n",
    "S사에서는 각 부서에 필요한 물품을 지원해 주기 위해 부서별로 물품을 구매하는데 필요한 금액을 조사함. <br>\n",
    "그러나, 전체 예산이 정해져 있기 때문에 모든 부서의 물품을 구매해 줄 수는 없음.<br>\n",
    "그래서 최대한 많은 부서의 물품을 구매해 줄 수 있도록 하려고 함 <br>\n",
    "부서별로 신청한 금액이 들어있는 배열 d와 예산 budget이 매개변수로 주어질 때, 최대 몇 개의 부서에 물품을 지원할 수 있는지 return\n",
    "<br><br>\n",
    "inpurt : d = 정수 배열, budget = 정수, output : 정수\n",
    "\n",
    "#### <조건>\n",
    " - 물품을 구매해 줄 때는 각 부서가 신청한 금액만큼을 모두 지원해 줘야 함\n",
    " - d는 부서별로 신청한 금액이 들어있는 배열이며, 길이(전체 부서의 개수)는 1 이상 100 이하\n",
    " - d의 각 원소는 부서별로 신청한 금액을 나타내며, 부서별 신청 금액은 1 이상 100,000 이하의 자연수\n",
    " - budget은 예산을 나타내며, 1 이상 10,000,000 이하의 자연수\n",
    " \n",
    "#### <예시>\n",
    "input : d = [1,3,2,5,4], budget = 9\n",
    "<br><br>\n",
    "result : 3\n",
    "<br><br>\n",
    " - 1원, 2원, 3원을 신청한 부서의 물품을 구매해주려면 6원이 필요\n",
    " - 1원, 2원, 5원을 신청한 부서의 물품을 구매해주려면 8원이 필요\n",
    " - 1원, 3원, 4원을 신청한 부서의 물품을 구매해주려면 8원이 필요\n",
    " - 1원, 3원, 5원을 신청한 부서의 물품을 구매해주려면 9원이 필요\n",
    " - 3개 부서보다 더 많은 부서의 물품을 구매해 줄 수는 없으므로 최대 3개 부서의 물품을 구매해 줄 수 있음\n",
    " \n",
    "https://programmers.co.kr/learn/courses/30/lessons/12982"
   ]
  },
  {
   "cell_type": "markdown",
   "id": "f8cc811b",
   "metadata": {},
   "source": [
    "## 풀이\n",
    " ### 1.\n",
    "  - itertools의 combinations을 이용해서 1부터 len(d)까지의 모든 조합을 구함\n",
    "  - 각 조합의 합을 구한 뒤에 합의 최소가 되는 값만 d_list에 저장\n",
    "  - 각 조합의 최소 금액이 budget보다 크게되는 순간 이전의 갯수만 가능한 것이기에 이를 찾아서 return\n",
    "  \n",
    "    => 시간초과 <br>\n",
    "    => combinations를 생성하는데 시간이 너무 많이 소요 - 다른 방법을 찾아볼 것\n",
    "    \n",
    " ### 2.\n",
    "  - d를 정렬해서 단순하게 앞에서부터 하나씩 더해가면서 budget을 넘나 안넘나 확인\n",
    "  - 넘게 되는 순간 index의 번호를 return \n",
    "  - 모든 d를 다 돌아서 return할게 없으면 모든 요구를 다 들어줘도 예산 수용이 가능하니 총 길이 return"
   ]
  },
  {
   "cell_type": "code",
   "execution_count": 25,
   "id": "5ea82de5",
   "metadata": {},
   "outputs": [],
   "source": [
    "# 1.\n",
    "\n",
    "import itertools\n",
    "\n",
    "def solution(d, budget):\n",
    "    d_list = [min([sum(i) for i in itertools.combinations(d, num+1)]) for num in range(len(d))]\n",
    "    print(d_list)\n",
    "    \n",
    "    for i in range(len(d_list)):\n",
    "        if d_list[i] > budget:\n",
    "            return i\n",
    "        \n",
    "    return len(d)"
   ]
  },
  {
   "cell_type": "code",
   "execution_count": 27,
   "id": "d14b8325",
   "metadata": {},
   "outputs": [],
   "source": [
    "# 2.\n",
    "\n",
    "def solution(d, budget):\n",
    "    d = sorted(d)\n",
    "    std = 0\n",
    "    \n",
    "    for i in range(len(d)):\n",
    "        if std + d[i] > budget:\n",
    "            return i\n",
    "        \n",
    "        std += d[i]\n",
    "        \n",
    "    return len(d)"
   ]
  },
  {
   "cell_type": "code",
   "execution_count": 28,
   "id": "31173dc4",
   "metadata": {},
   "outputs": [
    {
     "data": {
      "text/plain": [
       "4"
      ]
     },
     "execution_count": 28,
     "metadata": {},
     "output_type": "execute_result"
    }
   ],
   "source": [
    "d = [2,2,3,3]\n",
    "budget = 10\n",
    "\n",
    "solution(d, budget)"
   ]
  }
 ],
 "metadata": {
  "kernelspec": {
   "display_name": "Python 3",
   "language": "python",
   "name": "python3"
  },
  "language_info": {
   "codemirror_mode": {
    "name": "ipython",
    "version": 3
   },
   "file_extension": ".py",
   "mimetype": "text/x-python",
   "name": "python",
   "nbconvert_exporter": "python",
   "pygments_lexer": "ipython3",
   "version": "3.8.8"
  }
 },
 "nbformat": 4,
 "nbformat_minor": 5
}
