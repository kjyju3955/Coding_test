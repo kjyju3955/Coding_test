{
 "cells": [
  {
   "cell_type": "markdown",
   "metadata": {},
   "source": [
    "# 디스크 컨트롤러"
   ]
  },
  {
   "attachments": {},
   "cell_type": "markdown",
   "metadata": {},
   "source": [
    "## 문제\n",
    "각 작업에 대해 [작업이 요청되는 시점, 작업의 소요시간]을 담은 2차원 배열 jobs가 매개변수로 주어질 때, <br>\n",
    "작업의 요청부터 종료까지 걸린 시간의 평균을 가장 줄이는 방법으로 처리하면 평균이 얼마가 되는지 return\n",
    "<br><br>\n",
    "input : 2차원 정수 배열, output : 정수 \n",
    "\n",
    "#### <조건>\n",
    " - return 할 때 소수점 이하의 수는 버림\n",
    " - jobs의 길이는 1 이상 500 이하\n",
    " - jobs의 각 행은 하나의 작업에 대한 [작업이 요청되는 시점, 작업의 소요시간]\n",
    " - 각 작업에 대해 작업이 요청되는 시간은 0 이상 1,000 이하\n",
    " - 각 작업에 대해 작업의 소요시간은 1 이상 1,000 이하\n",
    " - 하드디스크가 작업을 수행하고 있지 않을 때에는 먼저 요청이 들어온 작업부터 처리\n",
    " \n",
    "#### <예시>\n",
    "input : [[0, 3], [1, 9], [2, 6]]\n",
    "<br><br>\n",
    "result : 9\n",
    "<br><br>\n",
    " - 요청이 들어온 순서대로 처리 / 이 때 각 작업의 요청부터 종료까지 걸린 시간의 평균은 10ms(= (3 + 11 + 16) / 3)\n",
    "   - A: 3ms 시점에 작업 완료 (요청에서 종료까지 : 3ms)\n",
    "   - B: 1ms부터 대기하다가, 3ms 시점에 작업을 시작해서 12ms 시점에 작업 완료(요청에서 종료까지 : 11ms)\n",
    "   - C: 2ms부터 대기하다가, 12ms 시점에 작업을 시작해서 18ms 시점에 작업 완료(요청에서 종료까지 : 16ms)\n",
    "\n",
    " - A → C → B의 순서로 처리하면 각 작업의 요청부터 종료까지 걸린 시간의 평균은 9ms(= (3 + 7 + 17) / 3)\n",
    "   - A: 3ms 시점에 작업 완료(요청에서 종료까지 : 3ms)\n",
    "   - C: 2ms부터 대기하다가, 3ms 시점에 작업을 시작해서 9ms 시점에 작업 완료(요청에서 종료까지 : 7ms)\n",
    "   - B: 1ms부터 대기하다가, 9ms 시점에 작업을 시작해서 18ms 시점에 작업 완료(요청에서 종료까지 : 17ms)\n",
    " \n",
    " - 따라서, 9 return\n",
    " \n",
    "https://programmers.co.kr/learn/courses/30/lessons/42627"
   ]
  },
  {
   "cell_type": "markdown",
   "metadata": {},
   "source": [
    "## 풀이\n",
    " - 요청이 들어왔을 때 중간에 비는 시간이 없는 요청들끼리 묶어서 처리하는 방식\n",
    " - test라는 중간에 비는 시간이 없는 요청 묶음의 소요시간을 측정하는 함수 만들어줌\n",
    "   - jobs를 정렬해주고 가장 일찍 들어온 요청이 끝나기 전에 들어오는 요청들을 std에 저장\n",
    "   - std를 정렬해주고, std가 없다면 요청이 끝나기 전에 들어오는 요청이 없는 것이기에 따로 처리하지 않고, work_time과 jobs return\n",
    "   - std가 있다면 그 길이만큼 work_time을 누적해서 더해주고 jobs도 제거해주고 난 후에 return\n",
    " - 모든 Jobs을 수행할때까지 반복하면서 시간을 누적해줌\n",
    " - 누적시간의 평균을 구해서 return "
   ]
  },
  {
   "cell_type": "code",
   "execution_count": 3,
   "metadata": {},
   "outputs": [],
   "source": [
    "def solution(jobs):\n",
    "    num = len(jobs)\n",
    "    time_list = 0\n",
    "    \n",
    "    while(jobs):\n",
    "        time, jobs = test(jobs)\n",
    "        time_list += time\n",
    "    \n",
    "         \n",
    "    return time_list // num\n",
    "\n",
    "def test(jobs):\n",
    "    count = 1\n",
    "    \n",
    "    jobs.sort()\n",
    "    \n",
    "    num = len(jobs)\n",
    "    \n",
    "    first = jobs.pop(0)\n",
    "    \n",
    "    work_time = first[1]\n",
    "    total_time = first[1] + first[0]\n",
    "    \n",
    "    while(count != num):\n",
    "        std = []\n",
    "        count += 1\n",
    "        \n",
    "        for i in range(len(jobs)):\n",
    "            if total_time > jobs[i][0]:\n",
    "                std.append(jobs[i])\n",
    "        std.sort(key=lambda x: x[1])        \n",
    "        \n",
    "        if len(std): \n",
    "            work_time = work_time + (total_time - std[0][0] + std[0][1])\n",
    "            total_time += std[0][1]\n",
    "            jobs.remove(std[0])\n",
    "            \n",
    "        else:\n",
    "            break\n",
    "    return work_time, jobs"
   ]
  },
  {
   "cell_type": "code",
   "execution_count": 4,
   "metadata": {},
   "outputs": [
    {
     "data": {
      "text/plain": [
       "9"
      ]
     },
     "execution_count": 4,
     "metadata": {},
     "output_type": "execute_result"
    }
   ],
   "source": [
    "jobs = [[0, 3], [1, 9], [2, 6]]\n",
    "\n",
    "solution(jobs)"
   ]
  }
 ],
 "metadata": {
  "kernelspec": {
   "display_name": "Python 3",
   "language": "python",
   "name": "python3"
  },
  "language_info": {
   "codemirror_mode": {
    "name": "ipython",
    "version": 3
   },
   "file_extension": ".py",
   "mimetype": "text/x-python",
   "name": "python",
   "nbconvert_exporter": "python",
   "pygments_lexer": "ipython3",
   "version": "3.8.5"
  }
 },
 "nbformat": 4,
 "nbformat_minor": 4
}
