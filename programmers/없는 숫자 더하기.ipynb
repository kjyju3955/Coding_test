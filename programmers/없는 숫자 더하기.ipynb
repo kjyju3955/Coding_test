{
 "cells": [
  {
   "cell_type": "markdown",
   "id": "cebbea4d",
   "metadata": {},
   "source": [
    "# 없는 숫자 더하기"
   ]
  },
  {
   "cell_type": "markdown",
   "id": "fd99aa74",
   "metadata": {},
   "source": [
    "## 문제\n",
    "0부터 9까지의 숫자 중 일부가 들어있는 배열 numbers가 매개변수로 주어짐.<br>\n",
    "numbers에서 찾을 수 없는 0부터 9까지의 숫자를 모두 찾아 더한 수를 return\n",
    "<br><br>\n",
    "input : 리스트, output : 숫자\n",
    "\n",
    "#### <조건>\n",
    " - 1 ≤ numbers의 길이 ≤ 9\n",
    " - 0 ≤ numbers의 모든 수 ≤ 9\n",
    " - numbers의 모든 수는 서로 다름\n",
    " \n",
    "#### <예시>\n",
    "input : [1,2,3,4,6,7,8,0]\n",
    "<br><br>\n",
    "result : 14\n",
    "<br><br>\n",
    " - 5, 9가 numbers에 없으므로, 5 + 9 = 14를 return\n",
    " \n",
    "https://programmers.co.kr/learn/courses/30/lessons/86051"
   ]
  },
  {
   "cell_type": "markdown",
   "id": "f5febf04",
   "metadata": {},
   "source": [
    "## 풀이\n",
    " - 모든 수가 있는 경우인 0부터 9까지 수가 있는 경우에서\n",
    " - 주어진 numbers배열을 set()으로 변환하여 뺌\n",
    " - 그 후, 더해주고 return"
   ]
  },
  {
   "cell_type": "code",
   "execution_count": 1,
   "id": "f3fac389",
   "metadata": {},
   "outputs": [],
   "source": [
    "def solution(numbers):\n",
    "    return sum(set(range(0, 10)) - set(numbers))"
   ]
  },
  {
   "cell_type": "code",
   "execution_count": 2,
   "id": "d8019067",
   "metadata": {},
   "outputs": [
    {
     "data": {
      "text/plain": [
       "14"
      ]
     },
     "execution_count": 2,
     "metadata": {},
     "output_type": "execute_result"
    }
   ],
   "source": [
    "numbers = [1,2,3,4,6,7,8,0]\n",
    "\n",
    "solution(numbers)"
   ]
  }
 ],
 "metadata": {
  "kernelspec": {
   "display_name": "Python 3",
   "language": "python",
   "name": "python3"
  },
  "language_info": {
   "codemirror_mode": {
    "name": "ipython",
    "version": 3
   },
   "file_extension": ".py",
   "mimetype": "text/x-python",
   "name": "python",
   "nbconvert_exporter": "python",
   "pygments_lexer": "ipython3",
   "version": "3.8.8"
  }
 },
 "nbformat": 4,
 "nbformat_minor": 5
}
