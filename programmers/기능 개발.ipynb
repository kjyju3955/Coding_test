{
 "cells": [
  {
   "cell_type": "markdown",
   "id": "a0c634c3",
   "metadata": {},
   "source": [
    "# 기능 개발"
   ]
  },
  {
   "cell_type": "markdown",
   "id": "64e9a213",
   "metadata": {},
   "source": [
    "## 문제\n",
    "각 기능은 진도가 100%일 때 서비스에 반영가능, 또, 각 기능의 개발속도는 모두 다르기 때문에 <br>\n",
    "뒤에 있는 기능이 앞에 있는 기능보다 먼저 개발될 수 있고, 이때 뒤에 있는 기능은 앞에 있는 기능이 배포될 때 함께 배포 <br>\n",
    "먼저 배포되어야 하는 순서대로 작업의 진도가 적힌 정수 배열 progresses와 각 작업의 개발 속도가 적힌 정수 배열<br>\n",
    "speeds가 주어질 때 각 배포마다 몇 개의 기능이 배포되는지를 return\n",
    "<br><br>\n",
    "input : progressess = 정수 배열, speeds = 정수 배열, output : 정수 배열\n",
    "\n",
    "#### <조건>\n",
    " - 작업의 개수(progresses, speeds배열의 길이)는 100개 이하\n",
    " - 작업 진도는 100 미만의 자연수\n",
    " - 작업 속도는 100 이하의 자연수\n",
    " - 배포는 하루에 한 번만 할 수 있으며, 하루의 끝에 이루어진다고 가정<br>\n",
    "   예를 들어 진도율이 95%인 작업의 개발 속도가 하루에 4%라면 배포는 2일 뒤\n",
    "   \n",
    "#### <예시>\n",
    "input : progressess = [93, 30, 55], speeds =  [1, 30, 5]\n",
    "<br><br>\n",
    "result : [2, 1]\n",
    "<br><br>\n",
    " - 첫 번째 기능은 93% 완료되어 있고 하루에 1%씩 작업이 가능하므로 7일간 작업 후 배포가 가능\n",
    " - 두 번째 기능은 30%가 완료되어 있고 하루에 30%씩 작업이 가능하므로 3일간 작업 후 배포가 가능 <br>\n",
    "   하지만 이전 첫 번째 기능이 아직 완성된 상태가 아니기 때문에 첫 번째 기능이 배포되는 7일째 배포\n",
    " - 세 번째 기능은 55%가 완료되어 있고 하루에 5%씩 작업이 가능하므로 9일간 작업 후 배포가 가능\n",
    " - 따라서 7일째에 2개의 기능, 9일째에 1개의 기능이 배포\n",
    " \n",
    "https://programmers.co.kr/learn/courses/30/lessons/42586"
   ]
  },
  {
   "cell_type": "markdown",
   "id": "7ec19341",
   "metadata": {},
   "source": [
    "## 풀이\n",
    " - 각 기능마다 작업 속도를 기준으로 며칠이 걸려야 배포가 가능해지는 계산해서 remain_day에 저장\n",
    " - 첫 기능을 기준으로 remain_day에 소요되는 시간이 첫 기능 배포 이전에 수행이 가능하다면 count를 추가\n",
    " - 불가능하다면 맞는 날에 배포할 수 있는 기능의 수를 answer에 넣어주고 count를 reset\n",
    " - 모든 기능을 다 체크하고 answer return"
   ]
  },
  {
   "cell_type": "code",
   "execution_count": 3,
   "id": "07bad478",
   "metadata": {},
   "outputs": [],
   "source": [
    "import math\n",
    "\n",
    "def solution(progresses, speeds):\n",
    "    answer = []\n",
    "    \n",
    "    remain_day = []\n",
    "    count = 1\n",
    "    i = 1\n",
    "   \n",
    "    for i in range(len(progresses)):\n",
    "        remain_day.append(math.ceil((100-progresses[i])/speeds[i]))\n",
    "  \n",
    "    num = remain_day[0]\n",
    "    \n",
    "    while(len(remain_day)-1):   \n",
    "        if num >= remain_day[1]:\n",
    "            count = count + 1\n",
    "        else:\n",
    "            num = remain_day[1]\n",
    "            answer.append(count)\n",
    "            count = 1\n",
    "        \n",
    "        if len(remain_day)-1 == 1:\n",
    "            answer.append(count)\n",
    "            \n",
    "        remain_day.pop(0)\n",
    "        \n",
    "        \n",
    "    return answer"
   ]
  },
  {
   "cell_type": "code",
   "execution_count": 4,
   "id": "367cf58f",
   "metadata": {},
   "outputs": [
    {
     "data": {
      "text/plain": [
       "[1, 3, 2]"
      ]
     },
     "execution_count": 4,
     "metadata": {},
     "output_type": "execute_result"
    }
   ],
   "source": [
    "progresses = [95, 90, 99, 99, 80, 99]\n",
    "speeds = [1, 1, 1, 1, 1, 1]\n",
    "\n",
    "solution(progresses, speeds)"
   ]
  }
 ],
 "metadata": {
  "kernelspec": {
   "display_name": "Python 3",
   "language": "python",
   "name": "python3"
  },
  "language_info": {
   "codemirror_mode": {
    "name": "ipython",
    "version": 3
   },
   "file_extension": ".py",
   "mimetype": "text/x-python",
   "name": "python",
   "nbconvert_exporter": "python",
   "pygments_lexer": "ipython3",
   "version": "3.8.8"
  }
 },
 "nbformat": 4,
 "nbformat_minor": 5
}
