{
 "cells": [
  {
   "cell_type": "markdown",
   "metadata": {},
   "source": [
    "# 순위"
   ]
  },
  {
   "cell_type": "markdown",
   "metadata": {},
   "source": [
    "## 문제\n",
    "n명의 권투선수가 권투 대회에 참여했고 각각 1번부터 n번까지 번호를 받음. 권투 경기는 1대1 방식으로 진행이 되고, 만약 A 선수가 B 선수보다 실력이 좋다면 A 선수는 B 선수를 항상 이김. 심판은 주어진 경기 결과를 가지고 선수들의 순위를 매기려 함. 하지만 몇몇 경기 결과를 분실하여 정확하게 순위를 매길 수 없음. 선수의 수 n, 경기 결과를 담은 2차원 배열 results가 매개변수로 주어질 때 정확하게 순위를 매길 수 있는 선수의 수를 return\n",
    "<br><br>\n",
    "input : n = 정수, result = 2차원 정수 배열, output : 정수\n",
    "\n",
    "#### <조건>\n",
    " - 선수의 수는 1명 이상 100명 이하\n",
    " - 경기 결과는 1개 이상 4,500개 이하\n",
    " - results 배열 각 행 [A, B]는 A 선수가 B 선수를 이겼다는 의미\n",
    " - 모든 경기 결과에는 모순이 없음\n",
    " \n",
    "#### <예시>\n",
    "input : n = 5, result = [[4, 3], [4, 2], [3, 2], [1, 2], [2, 5]]\n",
    "<br><br>\n",
    "result : 2\n",
    "<br><br>\n",
    " - 2번 선수는 [1, 3, 4] 선수에게 패배했고 5번 선수에게 승리했기 때문에 4위\n",
    " - 5번 선수는 4위인 2번 선수에게 패배했기 때문에 5위\n",
    " - 나머지는 알 수 없음 따라서 2 return\n",
    " \n",
    "https://programmers.co.kr/learn/courses/30/lessons/49191"
   ]
  },
  {
   "cell_type": "markdown",
   "metadata": {},
   "source": [
    "## 풀이\n",
    " - results를 보고 2차원 배열을 만들어서 이긴 선수에게는 1, 진 선수에게는 -1을 기록\n",
    " - [a,b],[b,c]의 경우에는 a->b->c로 a는 c도 이긴 것이기에 이를 적용해주기 위해서 result_dict에 인접리스트 저장\n",
    " - result_dict을 너비우선탐색을 이용해서 results에 선수별로의 연결된 선수들 리스트를 저장\n",
    " - results리스트를 돌면서 a->b->c에서 a->c같은 경우의 기록을 기록해줌\n",
    "   - 2차원배열이기에 인덱스 값을 이용해서 a->b에서 a는 b를 이긴것이기에 c도 이긴 것이라 할 수 있으므로 1로 기록\n",
    "   - 이는 곧 c는 a에게 진 것이라 할 수 있기에 -1로 기록\n",
    " - 모든 results를 기록 갱신을 마쳤을 때 자기자신만 제외한 모든 선수들과의 기록이 있는 선수는 등수를 정확히 예측이 가능하다 볼 수 있음\n",
    " - 따라서, 기록을 저장한 record를 돌면서 0의 개수가 1개인 선수의 수를 return\n",
    " \n",
    "   => 시간이 너무 오래걸림... <br>\n",
    "   => 아직도 생각하는 능력 부족 ㅠㅜ ( 힌트를 참고했음ㅠㅜ )"
   ]
  },
  {
   "cell_type": "code",
   "execution_count": 1,
   "metadata": {},
   "outputs": [],
   "source": [
    "def solution(n, results):\n",
    "    record = [[0 for i in range(n)] for i in range(n)]\n",
    "    result_dict = dict()\n",
    "    \n",
    "    for i in results:\n",
    "        record[i[0]-1][i[1]-1] = 1\n",
    "        record[i[1]-1][i[0]-1] = -1\n",
    "        \n",
    "    for i in range(len(results)):\n",
    "        if results[i][0] in result_dict:\n",
    "            result_dict[results[i][0]].append(results[i][1])\n",
    "        else:\n",
    "            result_dict[results[i][0]] = [results[i][1]]\n",
    "            \n",
    "    results = [bfs(result_dict, i) for i in list(result_dict.keys())]\n",
    "    \n",
    "    while results:\n",
    "        result = results.pop(0)\n",
    "        \n",
    "        for i in result[1:]:\n",
    "            for j in range(n):\n",
    "                if record[i-1][j] == 1:\n",
    "                    record[result[0]-1][j] = 1\n",
    "                    record[j][result[0]-1] = -1\n",
    "\n",
    "    return len([0 for i in record if i.count(0) == 1])\n",
    "\n",
    "def bfs(result_dict, start):\n",
    "    visited, queue = [], [start]\n",
    "    \n",
    "    while queue:\n",
    "        node = queue.pop(0)\n",
    "        if node not in visited:\n",
    "            visited.append(node)\n",
    "            if node in result_dict:\n",
    "                queue.extend(result_dict[node])\n",
    "                \n",
    "    return visited"
   ]
  },
  {
   "cell_type": "code",
   "execution_count": 2,
   "metadata": {},
   "outputs": [
    {
     "data": {
      "text/plain": [
       "2"
      ]
     },
     "execution_count": 2,
     "metadata": {},
     "output_type": "execute_result"
    }
   ],
   "source": [
    "n = 5\n",
    "results = [[4, 3], [4, 2], [3, 2], [1, 2], [2, 5]]\n",
    "\n",
    "solution(n, results)"
   ]
  }
 ],
 "metadata": {
  "kernelspec": {
   "display_name": "Python 3",
   "language": "python",
   "name": "python3"
  },
  "language_info": {
   "codemirror_mode": {
    "name": "ipython",
    "version": 3
   },
   "file_extension": ".py",
   "mimetype": "text/x-python",
   "name": "python",
   "nbconvert_exporter": "python",
   "pygments_lexer": "ipython3",
   "version": "3.8.5"
  }
 },
 "nbformat": 4,
 "nbformat_minor": 4
}
