{
 "cells": [
  {
   "cell_type": "markdown",
   "id": "514a3a19",
   "metadata": {},
   "source": [
    "# K번째수"
   ]
  },
  {
   "cell_type": "markdown",
   "id": "7414a5ff",
   "metadata": {},
   "source": [
    "## 문제\n",
    "배열 array의 i번째 숫자부터 j번째 숫자까지 자르고 정렬했을 때, k번째에 있는 수를 구하려 함\n",
    "<br><br>\n",
    "input : array = 정수 배열, commands = 이차원 정수 배열, output : 정수 배열\n",
    "\n",
    "#### <조건>\n",
    " - array의 길이는 1 이상 100 이하\n",
    " - array의 각 원소는 1 이상 100 이하\n",
    " - commands의 길이는 1 이상 50 이하\n",
    " - commands의 각 원소는 길이가 3\n",
    " \n",
    "#### <예시>\n",
    "input : array = [1, 5, 2, 6, 3, 7, 4], commands = [[2, 5, 3], [4, 4, 1], [1, 7, 3]]\n",
    "<br><br>\n",
    "result : [5, 6, 3]\n",
    "<br><br>\n",
    " - [1, 5, 2, 6, 3, 7, 4]를 2번째부터 5번째까지 자른 후 정렬합니다. [2, 3, 5, 6]의 세 번째 숫자는 5\n",
    " - [1, 5, 2, 6, 3, 7, 4]를 4번째부터 4번째까지 자른 후 정렬합니다. [6]의 첫 번째 숫자는 6\n",
    " - [1, 5, 2, 6, 3, 7, 4]를 1번째부터 7번째까지 자릅니다. [1, 2, 3, 4, 5, 6, 7]의 세 번째 숫자는 3\n",
    "\n",
    "https://programmers.co.kr/learn/courses/30/lessons/42748"
   ]
  },
  {
   "cell_type": "markdown",
   "id": "2b06c264",
   "metadata": {},
   "source": [
    "## 풀이\n",
    " - map과 lambda를 이용해서 commands에 있는 배열의 범위 만큼 잘라서 정렬하고 마지막 값의 번째의 값을 뽑아줌\n",
    " - list에 넣어주고 return"
   ]
  },
  {
   "cell_type": "code",
   "execution_count": 5,
   "id": "fd976d48",
   "metadata": {},
   "outputs": [],
   "source": [
    "def solution(array, commands):\n",
    "    answer = list(map(lambda x: sorted(array[x[0]-1:x[1]])[x[2]-1], commands))\n",
    "    \n",
    "    return answer"
   ]
  },
  {
   "cell_type": "code",
   "execution_count": 6,
   "id": "c4313feb",
   "metadata": {},
   "outputs": [
    {
     "data": {
      "text/plain": [
       "[5, 6, 3]"
      ]
     },
     "execution_count": 6,
     "metadata": {},
     "output_type": "execute_result"
    }
   ],
   "source": [
    "array = [1, 5, 2, 6, 3, 7, 4]\n",
    "commands = [[2, 5, 3], [4, 4, 1], [1, 7, 3]]\n",
    "\n",
    "solution(array, commands)"
   ]
  }
 ],
 "metadata": {
  "kernelspec": {
   "display_name": "Python 3",
   "language": "python",
   "name": "python3"
  },
  "language_info": {
   "codemirror_mode": {
    "name": "ipython",
    "version": 3
   },
   "file_extension": ".py",
   "mimetype": "text/x-python",
   "name": "python",
   "nbconvert_exporter": "python",
   "pygments_lexer": "ipython3",
   "version": "3.8.8"
  }
 },
 "nbformat": 4,
 "nbformat_minor": 5
}
