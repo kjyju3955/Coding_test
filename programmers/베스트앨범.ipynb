{
 "cells": [
  {
   "cell_type": "markdown",
   "metadata": {},
   "source": [
    "# 베스트앨범"
   ]
  },
  {
   "cell_type": "markdown",
   "metadata": {},
   "source": [
    "## 문제\n",
    "스트리밍 사이트에서 장르 별로 가장 많이 재생된 노래를 두 개씩 모아 베스트 앨범을 출시하려 함. 노래는 고유 번호로 구분하며, 노래를 수록하는 기준은 다음과 같음.\n",
    " - 속한 노래가 많이 재생된 장르를 먼저 수록\n",
    " - 장르 내에서 많이 재생된 노래를 먼저 수록\n",
    " - 장르 내에서 재생 횟수가 같은 노래 중에서는 고유 번호가 낮은 노래를 먼저 수록 <br>\n",
    "노래의 장르를 나타내는 문자열 배열 genres와 노래별 재생 횟수를 나타내는 정수 배열 plays가 주어질 때, 베스트 앨범에 들어갈 노래의 고유 번호를 순서대로 return\n",
    "<br><br>\n",
    "input : genres = 문자열 배열, plays = 정수 배열, output : 정수 배열\n",
    "\n",
    "#### <조건>\n",
    " - genres[i]는 고유번호가 i인 노래의 장르\n",
    " - plays[i]는 고유번호가 i인 노래가 재생된 횟수\n",
    " - genres와 plays의 길이는 같으며, 이는 1 이상 10,000 이하\n",
    " - 장르 종류는 100개 미만\n",
    " - 장르에 속한 곡이 하나라면, 하나의 곡만 선택\n",
    " - 모든 장르는 재생된 횟수가 다름\n",
    " \n",
    "#### <예시>\n",
    "input : genres = [\"classic\", \"pop\", \"classic\", \"classic\", \"pop\"], plays = [500, 600, 150, 800, 2500]\n",
    "<br><br>\n",
    "result : [4, 1, 3, 0]\n",
    "<br><br>\n",
    " - classic 장르는 1,450회 재생되었으며, classic 노래는 다음과 같음\n",
    "   - 고유 번호 3: 800회 재생\n",
    "   - 고유 번호 0: 500회 재생\n",
    "   - 고유 번호 2: 150회 재생\n",
    " - pop 장르는 3,100회 재생되었으며, pop 노래는 다음과 같음\n",
    "   - 고유 번호 4: 2,500회 재생\n",
    "   - 고유 번호 1: 600회 재생\n",
    " - 따라서 pop 장르의 [4, 1]번 노래를 먼저, classic 장르의 [3, 0]번 노래를 그다음에 수록\n",
    " \n",
    "https://programmers.co.kr/learn/courses/30/lessons/42579"
   ]
  },
  {
   "cell_type": "markdown",
   "metadata": {},
   "source": [
    "## 풀이\n",
    " - genres별 play를 저장할 play_dict 생성\n",
    "   - 딕셔너리의 value를 list형태로 노래의 재생 횟수와 인덱스 번호를 넣어줌\n",
    " - 장르 내에서 많이 재생된 노래를 먼저 수록해야 하기 때문에 넣어준 장르별 노래를 재생횟수가 큰 순서대로 정렬해줌\n",
    " - zip을 이용해서 노래의 재생 횟수는 재생횟수끼리, 인덱스 번호는 인덱스 번호끼리 묶어줌\n",
    " - 속한 노래가 많이 재생된 장르를 먼저 수록해야 하기에 재생횟수를 더한 값을 기준으로 정렬을 해줌\n",
    " - 모든 정렬을 마쳤으면 play_dict을 돌면서 최대 2곡을 수록한 뒤에 return"
   ]
  },
  {
   "cell_type": "code",
   "execution_count": 1,
   "metadata": {},
   "outputs": [],
   "source": [
    "def solution(genres, plays):\n",
    "    play_dict = dict()\n",
    "    answer = []\n",
    "    \n",
    "    for idx, genre in enumerate(genres):\n",
    "        if genre not in play_dict:\n",
    "            play_dict[genre] = [[plays[idx], idx]]\n",
    "        else:\n",
    "            play_dict[genre].append([plays[idx], idx])\n",
    "            \n",
    "    play_dict = {key: sorted(value, key=lambda x: x[0], reverse=True) for key, value in play_dict.items()}\n",
    "    \n",
    "    play_dict = {play: list(zip(*play_dict[play])) for play in play_dict}\n",
    "    \n",
    "    play_dict = sorted(play_dict.items(), key=lambda x:sum(x[1][0]), reverse=True)\n",
    "    \n",
    "    for idx, play in play_dict:\n",
    "        answer.extend(play[1][:2])\n",
    "        \n",
    "    return answer"
   ]
  },
  {
   "cell_type": "code",
   "execution_count": 2,
   "metadata": {},
   "outputs": [
    {
     "data": {
      "text/plain": [
       "[4, 1, 3, 0]"
      ]
     },
     "execution_count": 2,
     "metadata": {},
     "output_type": "execute_result"
    }
   ],
   "source": [
    "genres = [\"classic\", \"pop\", \"classic\", \"classic\", \"pop\"]\n",
    "plays = [500, 600, 150, 800, 2500]\n",
    "\n",
    "solution(genres, plays)"
   ]
  }
 ],
 "metadata": {
  "kernelspec": {
   "display_name": "Python 3",
   "language": "python",
   "name": "python3"
  },
  "language_info": {
   "codemirror_mode": {
    "name": "ipython",
    "version": 3
   },
   "file_extension": ".py",
   "mimetype": "text/x-python",
   "name": "python",
   "nbconvert_exporter": "python",
   "pygments_lexer": "ipython3",
   "version": "3.8.5"
  }
 },
 "nbformat": 4,
 "nbformat_minor": 4
}
