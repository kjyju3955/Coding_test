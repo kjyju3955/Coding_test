{
 "cells": [
  {
   "cell_type": "markdown",
   "metadata": {},
   "source": [
    "# H-index"
   ]
  },
  {
   "cell_type": "markdown",
   "metadata": {},
   "source": [
    "## 문제\n",
    "H-Index는 다음과 같이 구함 <br>\n",
    "어떤 과학자가 발표한 논문 n편 중, h번 이상 인용된 논문이 h편 이상이고 나머지 논문이 h번 이하 인용되었다면 h의 최댓값 <br>\n",
    "어떤 과학자가 발표한 논문의 인용 횟수를 담은 배열 citations가 매개변수로 주어질 때, 이 과학자의 H-Index를 return\n",
    "<br><br>\n",
    "input : 정수 배열, output : 정수\n",
    "\n",
    "#### <조건>\n",
    " - 과학자가 발표한 논문의 수는 1편 이상 1,000편 이하\n",
    " - 논문별 인용 횟수는 0회 이상 10,000회 이하\n",
    " \n",
    "#### <예시>\n",
    "input : [3, 0, 6, 1, 5]\n",
    "<br><br>\n",
    "result : 3\n",
    "<br><br>\n",
    " - 이 과학자가 발표한 논문의 수는 5편이고, 그중 3편의 논문은 3회 이상 인용됨\n",
    " - 나머지 2편의 논문은 3회 이하 인용되었기 때문에 이 과학자의 H-Index는 3\n",
    " \n",
    "https://programmers.co.kr/learn/courses/30/lessons/42747"
   ]
  },
  {
   "cell_type": "markdown",
   "metadata": {},
   "source": [
    "## 풀이\n",
    " - h의 최대 수는 citations의 길이임\n",
    " - 따라서 citations의 최대 길이부터 0까지 내려오면서 조건에 맞는 h를 찾음\n",
    "   - citations에서 h후보보다 인용수가 많은 개수가 h후보보다 많거나 같으면 바로 h후보를 return\n",
    "   - h후보중에서 가장 큰 값부터 0까지 내려가는 것이기에 처음에 조건을 만족하는 수를 찾으면 바로 return"
   ]
  },
  {
   "cell_type": "code",
   "execution_count": 1,
   "metadata": {},
   "outputs": [],
   "source": [
    "def solution(citations):\n",
    "    for i in range(len(citations), -1, -1):\n",
    "        if len([c for c in sorted(citations, reverse = True) if c >= i]) >= i:\n",
    "            return i"
   ]
  },
  {
   "cell_type": "code",
   "execution_count": 2,
   "metadata": {},
   "outputs": [
    {
     "data": {
      "text/plain": [
       "3"
      ]
     },
     "execution_count": 2,
     "metadata": {},
     "output_type": "execute_result"
    }
   ],
   "source": [
    "citations = [3, 0, 6, 1, 5]\n",
    "\n",
    "solution(citations)"
   ]
  }
 ],
 "metadata": {
  "kernelspec": {
   "display_name": "Python 3",
   "language": "python",
   "name": "python3"
  },
  "language_info": {
   "codemirror_mode": {
    "name": "ipython",
    "version": 3
   },
   "file_extension": ".py",
   "mimetype": "text/x-python",
   "name": "python",
   "nbconvert_exporter": "python",
   "pygments_lexer": "ipython3",
   "version": "3.8.5"
  }
 },
 "nbformat": 4,
 "nbformat_minor": 4
}
