{
 "cells": [
  {
   "cell_type": "markdown",
   "metadata": {},
   "source": [
    "# 큰 수 만들기"
   ]
  },
  {
   "cell_type": "markdown",
   "metadata": {},
   "source": [
    "## 문제\n",
    "문자열 형식으로 숫자 number와 제거할 수의 개수 k가 solution 함수의 매개변수로 주어짐 <br>\n",
    "number에서 k 개의 수를 제거했을 때 만들 수 있는 수 중 가장 큰 숫자를 문자열 형태로 return\n",
    "<br><br>\n",
    "input : number = 문자열, k = 정수, output : 문자열\n",
    "\n",
    "#### <조건>\n",
    " - number는 1자리 이상, 1,000,000자리 이하인 숫자\n",
    " - k는 1 이상 number의 자릿수 미만인 자연수\n",
    " \n",
    "#### <예시>\n",
    "input : number = \"1924\", k = 2\n",
    "<br><br>\n",
    "result : \"94\"\n",
    "<br><br>\n",
    " - 숫자 1924에서 수 두 개를 제거하면 [19, 12, 14, 92, 94, 24]\n",
    " - 이 중 가장 큰 숫자는 94\n",
    " \n",
    "https://programmers.co.kr/learn/courses/30/lessons/42883"
   ]
  },
  {
   "cell_type": "markdown",
   "metadata": {},
   "source": [
    "## 풀이\n",
    " - 제거할 k개의 수를 고르기 위해서는 첫 번째 숫자를 뒤에서 k-1번째 이내에서는 골라야 함을 이용\n",
    " - 따라서 k부터 number의 길이만큼 반복\n",
    "   - 숫자를 고를 수 있는 범위를 num으로 지정\n",
    "   - 지정한 범위 내에서 최대값을 찾음\n",
    "   - 이떄, 만약 9가 나온다면 뒤를 살펴보지 않고 바로 선택\n",
    "   - 고를 수 있는 범위를 찾은 최대값다음 부터로 갱신해서 위의 과정을 반복\n",
    " - 모든 반복을 끝내고 나온 결과 값 return"
   ]
  },
  {
   "cell_type": "code",
   "execution_count": 5,
   "metadata": {},
   "outputs": [],
   "source": [
    "def solution(number, k):\n",
    "    answer = ''\n",
    "    j = 0\n",
    "    num = number\n",
    "    \n",
    "    for i in range(k, len(number)):\n",
    "        num = num[j:i] + number[i]\n",
    "        \n",
    "        max_index = 0\n",
    "        for i in range(len(num)):\n",
    "            if num[i] > num[max_index]:\n",
    "                max_index = i\n",
    "            if num[max_index] == \"9\":\n",
    "                break\n",
    "                \n",
    "        j = max_index + 1\n",
    "        answer += num[max_index]\n",
    "    \n",
    "    return answer"
   ]
  },
  {
   "cell_type": "code",
   "execution_count": 6,
   "metadata": {},
   "outputs": [
    {
     "data": {
      "text/plain": [
       "'94'"
      ]
     },
     "execution_count": 6,
     "metadata": {},
     "output_type": "execute_result"
    }
   ],
   "source": [
    "number = \"1924\"\n",
    "k = 2\n",
    "\n",
    "solution(number, k)"
   ]
  }
 ],
 "metadata": {
  "kernelspec": {
   "display_name": "Python 3",
   "language": "python",
   "name": "python3"
  },
  "language_info": {
   "codemirror_mode": {
    "name": "ipython",
    "version": 3
   },
   "file_extension": ".py",
   "mimetype": "text/x-python",
   "name": "python",
   "nbconvert_exporter": "python",
   "pygments_lexer": "ipython3",
   "version": "3.8.5"
  }
 },
 "nbformat": 4,
 "nbformat_minor": 4
}
