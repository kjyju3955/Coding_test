{
 "cells": [
  {
   "cell_type": "markdown",
   "metadata": {},
   "source": [
    "# 튜플"
   ]
  },
  {
   "cell_type": "markdown",
   "metadata": {},
   "source": [
    "## 문제\n",
    "셀수있는 수량의 순서있는 열거 또는 어떤 순서를 따르는 요소들의 모음을 튜플(tuple)이라고 함 <br>\n",
    "n개의 요소를 가진 튜플을 n-튜플(n-tuple)이라고 하며, 다음과 같이 표현할 수 있음<br>\n",
    "특정 튜플을 표현하는 집합이 담긴 문자열 s가 매개변수로 주어질 때, s가 표현하는 튜플을 배열에 담아 return \n",
    "<br><br>\n",
    "input :  2차원 튜플, output : 정수 배열\n",
    "\n",
    "#### <조건>\n",
    " - s의 길이는 5 이상 1,000,000 이하\n",
    " - s는 숫자와 '{', '}', ',' 로만 이루어져 있음\n",
    " - 숫자가 0으로 시작하는 경우는 없음\n",
    " - s는 항상 중복되는 원소가 없는 튜플을 올바르게 표현하고 있음\n",
    " - s가 표현하는 튜플의 원소는 1 이상 100,000 이하인 자연수\n",
    " - return 하는 배열의 길이가 1 이상 500 이하인 경우만 입력으로 주어짐\n",
    " \n",
    "#### <예시>\n",
    "input : \"{{1,2,3},{2,1},{1,2,4,3},{2}}\"\n",
    "<br><br>\n",
    "result : [2, 1, 3, 4]\n",
    "<br><br>\n",
    " - 튜플이 (2, 1, 3, 4)인 경우 이는 {{2}, {2, 1}, {2, 1, 3}, {2, 1, 3, 4}}와 같이 표현할 수 있음\n",
    " - 집합은 원소의 순서가 바뀌어도 상관없으므로 {{2}, {2, 1}, {2, 1, 3}, {2, 1, 3, 4}}, {{2, 1, 3, 4}, {2}, {2, 1, 3}, {2, 1}}<br>\n",
    "   {{1, 2, 3}, {2, 1}, {1, 2, 4, 3}, {2}} 는 모두 같은 튜플 (2, 1, 3, 4)를 나타냄\n",
    "   \n",
    "https://programmers.co.kr/learn/courses/30/lessons/64065?language=python3"
   ]
  },
  {
   "cell_type": "markdown",
   "metadata": {},
   "source": [
    "## 풀이\n",
    " ### 1.\n",
    "  - s의 맨처음과 마지막 \"{}\"를 제외하고 \"{}\"단위로 자른뒤에 숫자가있는 문자열만 ','를 기준으로 리스트로 만들어줌\n",
    "  - 만들어준 리스트를 길이를 기준이로 정렬해서 다시 s 에 저장\n",
    "  - s를 돌면서 answer에 들어있지 않은경우 넣어줌\n",
    "  - 모든 s를 다 돌 때까지 반복하고 answer를 문자열 배열에서 정수 배열로 변환시켜서 return\n",
    "  \n",
    " ### 2.\n",
    "  - 위의 과정과 비슷\n",
    "  - s를 만들어주는 과정은 같음\n",
    "  - 딕셔너리 컴프리핸션 활용 <br>\n",
    "    s를 돌면서 key값으로 넣어주면 중복되는 숫자들은 자동으로 정리됨\n",
    "  - 딕셔너리가 만들어지면 key값만 추출해서 문자열 배열을 정수 배열로 변환시켜서 return"
   ]
  },
  {
   "cell_type": "code",
   "execution_count": 152,
   "metadata": {},
   "outputs": [],
   "source": [
    "# 1.\n",
    "\n",
    "import re\n",
    "\n",
    "def solution(s):\n",
    "    s = sorted([i.split(',') for i in (re.split('[{}]', s[1:-1])) if i != '' and i != ','], key=lambda x:len(x))\n",
    "    \n",
    "    answer = []\n",
    "    for i in s:\n",
    "        for j in i:\n",
    "            if j not in answer:\n",
    "                answer.append(j)\n",
    " \n",
    "    return list(map(int, answer))"
   ]
  },
  {
   "cell_type": "code",
   "execution_count": 180,
   "metadata": {},
   "outputs": [],
   "source": [
    "# 2.\n",
    "\n",
    "def solution(s):\n",
    "    s = sorted([i.split(',') for i in (re.split('[{}]', s[1:-1])) if i != '' and i != ','], key=lambda x:len(x))\n",
    "\n",
    "    return list(map(int, list({j:0 for i in s for j in i}.keys())))"
   ]
  },
  {
   "cell_type": "code",
   "execution_count": 181,
   "metadata": {},
   "outputs": [
    {
     "data": {
      "text/plain": [
       "[2, 1, 3, 4]"
      ]
     },
     "execution_count": 181,
     "metadata": {},
     "output_type": "execute_result"
    }
   ],
   "source": [
    "s = \"{{1,2,3},{2,1},{1,2,4,3},{2}}\"\n",
    "\n",
    "solution(s)"
   ]
  }
 ],
 "metadata": {
  "kernelspec": {
   "display_name": "Python 3",
   "language": "python",
   "name": "python3"
  },
  "language_info": {
   "codemirror_mode": {
    "name": "ipython",
    "version": 3
   },
   "file_extension": ".py",
   "mimetype": "text/x-python",
   "name": "python",
   "nbconvert_exporter": "python",
   "pygments_lexer": "ipython3",
   "version": "3.8.5"
  }
 },
 "nbformat": 4,
 "nbformat_minor": 4
}
