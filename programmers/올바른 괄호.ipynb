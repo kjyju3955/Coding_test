{
 "cells": [
  {
   "cell_type": "markdown",
   "metadata": {},
   "source": [
    "# 올바른 괄호"
   ]
  },
  {
   "cell_type": "markdown",
   "metadata": {},
   "source": [
    "## 문제\n",
    "괄호가 바르게 짝지어졌다는 것은 '(' 문자로 열렸으면 반드시 짝지어서 ')' 문자로 닫혀야 한다는 뜻. '(' 또는 ')' 로만 이루어진 문자열 s가 주어졌을 때, 문자열 s가 올바른 괄호이면 true를 return 하고, 올바르지 않은 괄호이면 false를 return.\n",
    "<br><br>\n",
    "input : 문자열, output : boolean\n",
    "\n",
    "#### <조건>\n",
    " - 문자열 s의 길이 : 100,000 이하의 자연수\n",
    " - 문자열 s는 '(' 또는 ')' 로만 이루어짐\n",
    " \n",
    "#### <예시>\n",
    "input : \"()()\"\n",
    "<br><br>\n",
    "result : True\n",
    "<br><br>\n",
    " - \"()\", \"()\" 로 짝지어서 볼 수 있기 때문에 올바른 괄호\n",
    " - 따라서, True return"
   ]
  },
  {
   "cell_type": "markdown",
   "metadata": {},
   "source": [
    "## 풀이\n",
    " - 괄호를 검사해줘서 담아줄 리스트 queue선언\n",
    " - s 문자를 하나하나 돌면서 만약 queue가 비어있는 상태에서 \")\"가 오면 올바른 괄호가 아니기에 바로 False return\n",
    " - 그게 아닐 경우 문자가 \"(\"이라면 queue에 더해주고, 아닐 경우에는 짝을 같이 없에주기 위해서 queue의 마지막 요소를 빼줌\n",
    " - 모든 반복을 끝냈을 때 queue에 무언가가 남아있다면 짝이 남는 괄호이기에 False return\n",
    " - 그게 아니라면 문자열에 모든 괄호가 짝이 맞는 것이기에 True return"
   ]
  },
  {
   "cell_type": "code",
   "execution_count": 1,
   "metadata": {},
   "outputs": [],
   "source": [
    "def solution(s):\n",
    "    queue = []\n",
    "    \n",
    "    for i in s:\n",
    "        if not queue and i == \")\": return False\n",
    "        \n",
    "        if i == \"(\": queue.append(i)\n",
    "        else: queue.pop()\n",
    "            \n",
    "    if queue: return False\n",
    "            \n",
    "    return True"
   ]
  },
  {
   "cell_type": "code",
   "execution_count": 2,
   "metadata": {},
   "outputs": [
    {
     "data": {
      "text/plain": [
       "False"
      ]
     },
     "execution_count": 2,
     "metadata": {},
     "output_type": "execute_result"
    }
   ],
   "source": [
    "s = \"(()(\"\n",
    "\n",
    "solution(s)"
   ]
  }
 ],
 "metadata": {
  "kernelspec": {
   "display_name": "Python 3",
   "language": "python",
   "name": "python3"
  },
  "language_info": {
   "codemirror_mode": {
    "name": "ipython",
    "version": 3
   },
   "file_extension": ".py",
   "mimetype": "text/x-python",
   "name": "python",
   "nbconvert_exporter": "python",
   "pygments_lexer": "ipython3",
   "version": "3.8.5"
  }
 },
 "nbformat": 4,
 "nbformat_minor": 4
}
