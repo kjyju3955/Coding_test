{
 "cells": [
  {
   "cell_type": "markdown",
   "metadata": {},
   "source": [
    "# 소수 찾기"
   ]
  },
  {
   "cell_type": "markdown",
   "metadata": {},
   "source": [
    "## 문제\n",
    "각 종이 조각에 적힌 숫자가 적힌 문자열 numbers가 주어졌을 때, 종이 조각으로 만들 수 있는 소수가 몇 개인지 return\n",
    "<br><br>\n",
    "input : 문자열, output : 정수\n",
    "\n",
    "#### <조건>\n",
    " - numbers는 길이 1 이상 7 이하인 문자열\n",
    " - numbers는 0~9까지 숫자만으로 이루어짐\n",
    " - \"013\"은 0, 1, 3 숫자가 적힌 종이 조각이 흩어져있다는 의미\n",
    " \n",
    "#### <예시>\n",
    "input : \"17\"\n",
    "<br><br>\n",
    "result : 3\n",
    "<br><br>\n",
    " - [1, 7]으로는 소수 [7, 17, 71]를 만들 수 있음\n",
    " - 따라서 3을 return\n",
    " \n",
    "https://programmers.co.kr/learn/courses/30/lessons/42839"
   ]
  },
  {
   "cell_type": "markdown",
   "metadata": {},
   "source": [
    "## 풀이\n",
    " - number_list에 numbers를 일의 자리 단위로 자른 숫자를 저장\n",
    " - 0 부터 최대 numbers의 길이만큼 number_list에있는 숫자를 조합했을 때 얻을 수 있는 모든 숫자를 results에 저장 <br>\n",
    "   이때, set()을 이용해서 중복되는 경우는 배제\n",
    " - number_list를 정수 배열로 바꿔주고, 0,1은 소수가 아니기에 배제시켜줌\n",
    " - find_prime이라는 소수인지 확인해주는 함수를 이용해서 숫자들을 확인하고 소수이면 answer에 1을 더해줌\n",
    " - 모든 숫자를 확인하고 나서 answer를 return"
   ]
  },
  {
   "cell_type": "code",
   "execution_count": 7,
   "metadata": {},
   "outputs": [],
   "source": [
    "import itertools\n",
    "\n",
    "\n",
    "def solution(numbers):\n",
    "    answer = 0\n",
    "    number_list = list(number for number in numbers)\n",
    "\n",
    "    results = [list(set(itertools.permutations(number_list, i+1))) for i in range(len(numbers))]\n",
    "    \n",
    "    test = []\n",
    "    for result in results:\n",
    "        test = test + list(int(''.join(num)) for num in result)\n",
    "        \n",
    "    test = list(set(test) - set(range(0,2)))\n",
    "    \n",
    "    for i in test:\n",
    "        if find_prime(i):\n",
    "            answer += 1\n",
    "    \n",
    "    return answer\n",
    "\n",
    "        \n",
    "def find_prime(number):\n",
    "    for i in range(2, number):\n",
    "        if number % i == 0:\n",
    "            return False\n",
    "    return True"
   ]
  },
  {
   "cell_type": "code",
   "execution_count": 8,
   "metadata": {},
   "outputs": [
    {
     "data": {
      "text/plain": [
       "3"
      ]
     },
     "execution_count": 8,
     "metadata": {},
     "output_type": "execute_result"
    }
   ],
   "source": [
    "numbers = \"17\"\n",
    "\n",
    "solution(numbers)"
   ]
  }
 ],
 "metadata": {
  "kernelspec": {
   "display_name": "Python 3",
   "language": "python",
   "name": "python3"
  },
  "language_info": {
   "codemirror_mode": {
    "name": "ipython",
    "version": 3
   },
   "file_extension": ".py",
   "mimetype": "text/x-python",
   "name": "python",
   "nbconvert_exporter": "python",
   "pygments_lexer": "ipython3",
   "version": "3.8.5"
  }
 },
 "nbformat": 4,
 "nbformat_minor": 4
}
