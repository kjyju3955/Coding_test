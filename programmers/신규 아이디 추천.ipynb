{
 "cells": [
  {
   "cell_type": "markdown",
   "id": "cffb2a8f",
   "metadata": {},
   "source": [
    "# 신규 아이디 추천"
   ]
  },
  {
   "cell_type": "markdown",
   "id": "2b0d9ce7",
   "metadata": {},
   "source": [
    "## 문제\n",
    "새로 가입하는 유저들이 규칙에 맞지 않는 아이디를 입력했을 때, 입력된 아이디와 유사하면서<br>\n",
    "규칙에 맞는 아이디를 추천해준다. \n",
    "<br><br>\n",
    "input : 문자열 , output: 문자열\n",
    "\n",
    "#### <조건>\n",
    " - 아이디의 길이는 3자 이상 15자 이하여야 함\n",
    " - 알파벳 소문자, 숫자, 빼기(-), 밑줄(\\_), 마침표(.)만 사용 가능\n",
    " - 단, 마침표(.)는 처음과 끝에 사용할 수 없으며 연속으로도 사용 불가능\n",
    " \n",
    " - 단계 : 입력한 아이디를 new_id라 가정\n",
    " 1. new_id의 모든 대문자를 소문자로 치환\n",
    " 2. new_id에서 알파벳, 소문자, 빼기, 밑줄, 마침표를 제외한 모든 문자 제거\n",
    " 3. new_id에서 마침표가 2번 이상 연속된 부분을 하나의 마침표로 변경\n",
    " 4. new_id에서 마침표가 처음이나 끝에 위치한다면 제거\n",
    " 5. new_id가 빈 문자열이라면, new_id에 \"a\"대입\n",
    " 6. new_id의 길이가 16자 이상이면, 앞에서부터 15개만 사용\n",
    "    이때 만약 제거 후 마침표가 new_id끝에 위치한다면 제거\n",
    " 7. new_id의 길이가 2자 이하라면 마지막 문자를 반복\n",
    " \n",
    "#### <예시>\n",
    "input : \"=.=\"\n",
    "<br><br>\n",
    "result : \"aaa\"\n",
    "<br><br>\n",
    " 1. 숫자,빼기,밑줄,마침표를 제외한 모든 문자 제거 -> \".\"\n",
    " 2. 마침표가 처음이나 끝에 위치하기에 제거 -> \"\"\n",
    " 3. 빈 문자열이 되어서 \"a\"를 대입 -> \"a\"\n",
    " 4. 최소 길이가 3자이기에 마지막 문자를 반복 -> \"aaa\"\n",
    " \n",
    "https://programmers.co.kr/learn/courses/30/lessons/72410"
   ]
  },
  {
   "cell_type": "markdown",
   "id": "2c9918de",
   "metadata": {},
   "source": [
    "## 풀이\n",
    "\n",
    "### 1.\n",
    " - 조건에 맞게 진행\n",
    " - 문자열에서 허용되는 기호가 있는 것만 걸러서 알파벳을 모두 소문자로 변경\n",
    " - 마침표가 연속적이지 않는 경우에만 renew_id에 추가\n",
    " - 처음 마침표로 시작하는 경우 제거\n",
    " - 문자열이 비는 경우 'a'로 만들어줌\n",
    " - 15자보다 작은 경우에는 잘라주고 마지막에 마침표로 끝나는 경우에는 마침표 제거\n",
    " - 문자열이 3자보다 짧은 경우에는 마지막 문자열 반복해서 채워줌\n",
    " \n",
    "### 2.\n",
    " - 1번의 풀이를 re 라이브러리를 사용해서 구현"
   ]
  },
  {
   "cell_type": "code",
   "execution_count": 2,
   "id": "93e314ae",
   "metadata": {},
   "outputs": [],
   "source": [
    "# 1\n",
    "\n",
    "def solution(new_id):\n",
    "    no_input = \"~!@#$%^&*()=+[{]}:?,<>/\"\n",
    "    \n",
    "    new_id = list(i.lower() for i in new_id if i not in no_input)\n",
    "    \n",
    "    if new_id:\n",
    "        renew_id = list(new_id[0])\n",
    "        \n",
    "        for i in range(1, len(new_id)):\n",
    "            if renew_id[-1] == '.' and renew_id[-1] == new_id[i]:\n",
    "                continue\n",
    "            renew_id.append(new_id[i])\n",
    "                \n",
    "        if renew_id and renew_id[0] == '.':\n",
    "            renew_id.pop(0)\n",
    "       \n",
    "        if len(renew_id) == 0:\n",
    "            renew_id = list('a')\n",
    "            \n",
    "        if len(renew_id) > 15:\n",
    "            renew_id = renew_id[:15]\n",
    "            \n",
    "        if renew_id[-1] == '.':\n",
    "            renew_id.pop()\n",
    "            \n",
    "        new_id = renew_id\n",
    "    else:\n",
    "        new_id = list('a')\n",
    "    \n",
    "    while(len(new_id) <= 2):\n",
    "        new_id += list(new_id[-1])\n",
    "        \n",
    "    return ''.join(new_id)"
   ]
  },
  {
   "cell_type": "code",
   "execution_count": 3,
   "id": "10f5d37c",
   "metadata": {},
   "outputs": [],
   "source": [
    "# 2\n",
    "\n",
    "import re\n",
    "\n",
    "def solution(new_id):\n",
    "    no_input = \"~!@#$%^&*()=+[{]}:?,<>/\"\n",
    "    new_id = ''.join(list(i.lower() for i in new_id if i not in no_input))\n",
    "    new_id = re.sub('\\.+','.',new_id)\n",
    "    new_id = re.sub('^[.]|[.]$','',new_id)\n",
    "    new_id = 'a' if not new_id else new_id[:15]\n",
    "    new_id = re.sub('[.]$','',new_id)\n",
    "    new_id = new_id if len(new_id) > 2 else new_id + new_id[-1]*(3-len(new_id))\n",
    "    \n",
    "    return new_id"
   ]
  },
  {
   "cell_type": "code",
   "execution_count": 4,
   "id": "e4fd9c6e",
   "metadata": {},
   "outputs": [
    {
     "data": {
      "text/plain": [
       "'aaab'"
      ]
     },
     "execution_count": 4,
     "metadata": {},
     "output_type": "execute_result"
    }
   ],
   "source": [
    "new_id = \"aaab\"\n",
    "\n",
    "solution(new_id)"
   ]
  }
 ],
 "metadata": {
  "kernelspec": {
   "display_name": "Python 3",
   "language": "python",
   "name": "python3"
  },
  "language_info": {
   "codemirror_mode": {
    "name": "ipython",
    "version": 3
   },
   "file_extension": ".py",
   "mimetype": "text/x-python",
   "name": "python",
   "nbconvert_exporter": "python",
   "pygments_lexer": "ipython3",
   "version": "3.8.8"
  }
 },
 "nbformat": 4,
 "nbformat_minor": 5
}
