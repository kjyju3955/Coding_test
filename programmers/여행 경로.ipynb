{
 "cells": [
  {
   "cell_type": "markdown",
   "metadata": {},
   "source": [
    "# 여행 경로"
   ]
  },
  {
   "cell_type": "markdown",
   "metadata": {},
   "source": [
    "## 문제\n",
    "주어진 항공권을 모두 이용하여 여행경로를 짜려고 함. 항상 \"ICN\" 공항에서 출발. 항공권 정보가 담긴 2차원 배열 tickets가 매개변수로 주어질 때, 방문하는 공항 경로를 배열에 담아 return.\n",
    "<br><br>\n",
    "input : 2차원 문자열 배열, output : 문자열 배열 \n",
    "\n",
    "#### <조건>\n",
    " - 모든 공항은 알파벳 대문자 3글자로 이루어짐\n",
    " - 주어진 공항 수는 3개 이상 10,000개 이하\n",
    " - tickets의 각 행 [a, b]는 a 공항에서 b 공항으로 가는 항공권이 있다는 의미\n",
    " - 주어진 항공권은 모두 사용해야 함\n",
    " - 만일 가능한 경로가 2개 이상일 경우 알파벳 순서가 앞서는 경로를 return\n",
    " - 모든 도시를 방문할 수 없는 경우는 주어지지 않음\n",
    " \n",
    "#### <예시>\n",
    "input : [[\"ICN\", \"JFK\"], [\"HND\", \"IAD\"], [\"JFK\", \"HND\"]]\n",
    "<br><br>\n",
    "result : [\"ICN\", \"JFK\", \"HND\", \"IAD\"]\n",
    "<br><br>\n",
    " - \"ICN\"다음에는 \"JFK\"\n",
    " - \"JFK\"다음에는 \"HDN\"\n",
    " - \"HND\"다음에는 \"IAD\"순으로 방문\n",
    " - 따라서, [\"ICN\", \"JFK\", \"HND\", \"IAD\"] return\n",
    " \n",
    "https://programmers.co.kr/learn/courses/30/lessons/43164"
   ]
  },
  {
   "cell_type": "markdown",
   "metadata": {},
   "source": [
    "## 풀이\n",
    " - 도시에서 다른 도시로 이동 가능한 항공권들을 t_dict이라는 인접리스트에 저장\n",
    " - 이때, 가능한 경로가 2개인 경우에는 알파벳 순서로 선택을 해야하기에 이동 가능한 도시들을 알파벳 역순으로 정렬해줌\n",
    " - 최종 정답을 저장할 answer 와 중간에 거치는 도시들을 저장할 stack 리스트 선언\n",
    "   - 이때, 처음 출발지는 \"ICN\"이기에 stack에 \"ICN\" 저장\n",
    " - stack안에 아무것도 없을 때까지 반복문 반복\n",
    "   - std에 제일 마지막으로 들른 도시를 저장\n",
    "   - std에 있는 도시가 t_dict에 존재하지 않거나 std에 있는 도시가 더 이상 이동할 수 있는 티켓이 없다면 더 이상 출발지로 쓸 수 없는 도시이기에 stack에서 뺴서 answer에 저장 \n",
    "   - 만약, 위의 경우가 아니라면 아직 출발지로 사용이 가능한 도시이기에 stack에 해당 도시에서 제일 첫번째로 가야할(알파벳 순) 도시를 저장\n",
    " - 모든 반복이 끝나면 answer를 뒤집어주고 return\n",
    " \n",
    "핵심 아이디어는 내가 생각한게 아님... <br>\n",
    "언제쯤 잘하련지ㅠㅜ"
   ]
  },
  {
   "cell_type": "code",
   "execution_count": 1,
   "metadata": {},
   "outputs": [],
   "source": [
    "def solution(tickets):\n",
    "    t_dict = dict()\n",
    "    answer = []\n",
    "    stack = [\"ICN\"]\n",
    "    \n",
    "    for ticket in tickets:\n",
    "        if ticket[0] not in t_dict:\n",
    "            t_dict[ticket[0]] = [ticket[1]]\n",
    "        else:\n",
    "            t_dict[ticket[0]].append(ticket[1])\n",
    "            \n",
    "    t_dict = {idx: sorted(value, reverse=True) for idx, value in t_dict.items()}\n",
    "    \n",
    "    while stack:\n",
    "        std = stack[-1]\n",
    "        \n",
    "        if std not in t_dict or not t_dict[std]:\n",
    "            answer.append(stack.pop())\n",
    "        else:\n",
    "            stack.append(t_dict[std].pop())\n",
    "            \n",
    "    answer.reverse()\n",
    "    \n",
    "    return answer"
   ]
  },
  {
   "cell_type": "code",
   "execution_count": 2,
   "metadata": {},
   "outputs": [
    {
     "data": {
      "text/plain": [
       "['ICN', 'JFK', 'HND', 'IAD']"
      ]
     },
     "execution_count": 2,
     "metadata": {},
     "output_type": "execute_result"
    }
   ],
   "source": [
    "tickets = [[\"ICN\", \"JFK\"], [\"HND\", \"IAD\"], [\"JFK\", \"HND\"]]\n",
    "\n",
    "solution(tickets)"
   ]
  }
 ],
 "metadata": {
  "kernelspec": {
   "display_name": "Python 3",
   "language": "python",
   "name": "python3"
  },
  "language_info": {
   "codemirror_mode": {
    "name": "ipython",
    "version": 3
   },
   "file_extension": ".py",
   "mimetype": "text/x-python",
   "name": "python",
   "nbconvert_exporter": "python",
   "pygments_lexer": "ipython3",
   "version": "3.8.5"
  }
 },
 "nbformat": 4,
 "nbformat_minor": 4
}
