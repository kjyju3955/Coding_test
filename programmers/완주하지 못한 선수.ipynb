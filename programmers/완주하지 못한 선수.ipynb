{
 "cells": [
  {
   "cell_type": "markdown",
   "id": "d428e897",
   "metadata": {},
   "source": [
    "# 완주하지 못한 선수"
   ]
  },
  {
   "cell_type": "markdown",
   "id": "b57d3569",
   "metadata": {},
   "source": [
    "## 문제\n",
    "단 한 명의 선수를 제외하고는 모든 선수가 마라톤을 완주<br>\n",
    "마라톤에 참여한 선수들의 이름이 담긴 배열 participant와 완주한 선수들의 이름이 담긴 배열 completion이 주어질 때,<br>\n",
    "완주하지 못한 선수의 이름을 return\n",
    "<br><br>\n",
    "input : participant = 문자열 배열, completion = 문자열 배열, output : 문자열\n",
    "\n",
    "#### <조건>\n",
    " - 마라톤 경기에 참여한 선수의 수는 1명 이상 100,000명 이하\n",
    " - ompletion의 길이는 participant의 길이보다 1 작음\n",
    " - 참가자의 이름은 1개 이상 20개 이하의 알파벳 소문자로 이루어짐\n",
    " - 참가자 중에는 동명이인이 있을 수 있음\n",
    " \n",
    "#### <예시>\n",
    "input : participant = [\"leo\", \"kiki\", \"eden\"], completion = [\"eden\", \"kiki\"]\n",
    "<br><br>\n",
    "result = \"leo\"\n",
    "<br><br>\n",
    " - \"leo\"는 참여자 명단에는 있지만, 완주자 명단에는 없기 때문에 완주하지 못함\n",
    " \n",
    "https://programmers.co.kr/learn/courses/30/lessons/42576"
   ]
  },
  {
   "cell_type": "markdown",
   "id": "32814ad0",
   "metadata": {},
   "source": [
    "## 풀이\n",
    " - 참여자 배열과 완주자 배열을 정렬\n",
    " - 완주자 배열이 참여자 배열보다 크기가 항상 1작기 때문에 완주자 배열의 크기만큼 돌면서 같은 이름 탐색\n",
    " - 완주자 배열 크기만큼 다 돌아도 같은 이름을 못 찾으면 참여자 배열의 마지막 사람이 미완주자"
   ]
  },
  {
   "cell_type": "code",
   "execution_count": 1,
   "id": "5327c067",
   "metadata": {},
   "outputs": [],
   "source": [
    "def solution(participant, completion):\n",
    "    answer = ''\n",
    "    \n",
    "    part = sorted(participant)\n",
    "    comp = sorted(completion)\n",
    "    \n",
    "    num = len(comp)\n",
    "    \n",
    "    for i in range(num):\n",
    "        if part[i] != comp[i]:\n",
    "            answer = str(part[i])\n",
    "            break\n",
    "            \n",
    "    if not answer:\n",
    "        answer = str(part[-1])\n",
    "    \n",
    "    \n",
    "    return answer"
   ]
  },
  {
   "cell_type": "code",
   "execution_count": 2,
   "id": "d112408d",
   "metadata": {},
   "outputs": [
    {
     "data": {
      "text/plain": [
       "'mislav'"
      ]
     },
     "execution_count": 2,
     "metadata": {},
     "output_type": "execute_result"
    }
   ],
   "source": [
    "part = [\"mislav\", \"stanko\", \"mislav\", \"ana\"]\n",
    "comp = [\"stanko\", \"ana\", \"mislav\"]\n",
    "solution(part, comp)"
   ]
  }
 ],
 "metadata": {
  "kernelspec": {
   "display_name": "Python 3",
   "language": "python",
   "name": "python3"
  },
  "language_info": {
   "codemirror_mode": {
    "name": "ipython",
    "version": 3
   },
   "file_extension": ".py",
   "mimetype": "text/x-python",
   "name": "python",
   "nbconvert_exporter": "python",
   "pygments_lexer": "ipython3",
   "version": "3.8.8"
  }
 },
 "nbformat": 4,
 "nbformat_minor": 5
}
