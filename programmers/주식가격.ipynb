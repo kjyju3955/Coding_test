{
 "cells": [
  {
   "cell_type": "markdown",
   "metadata": {},
   "source": [
    "# 주식가격"
   ]
  },
  {
   "cell_type": "markdown",
   "metadata": {},
   "source": [
    "## 문제\n",
    "초 단위로 기록된 주식가격이 담긴 배열 prices가 매개변수로 주어질 때, 가격이 떨어지지 않은 기간은 몇 초인지를 return\n",
    "<br><br>\n",
    "input : 정수 배열, output : 정수 배열\n",
    "\n",
    "#### <조건>\n",
    " - prices의 각 가격은 1 이상 10,000 이하인 자연수\n",
    " - prices의 길이는 2 이상 100,000 이하\n",
    " \n",
    "#### <예시>\n",
    "input : [1, 2, 3, 2, 3]\n",
    "<br><br>\n",
    "result : [4, 3, 1, 1, 0]\n",
    "<br><br>\n",
    " - 1초 시점의 ₩1은 끝까지 가격이 떨어지지 않음\n",
    " - 2초 시점의 ₩2은 끝까지 가격이 떨어지지 않음\n",
    " - 3초 시점의 ₩3은 1초뒤에 가격이 떨어짐. 따라서 1초간 가격이 떨어지지 않은 것으로 봄\n",
    " - 4초 시점의 ₩2은 1초간 가격이 떨어지지 않음\n",
    " - 5초 시점의 ₩3은 0초간 가격이 떨어지지 않음\n",
    " - 따라서, [4, 3, 1, 1, 0] return\n",
    " \n",
    "https://programmers.co.kr/learn/courses/30/lessons/42584"
   ]
  },
  {
   "cell_type": "markdown",
   "metadata": {},
   "source": [
    "## 풀이\n",
    " - 각 주식 별로 시간을 저장할 answer리스트를 0으로 채워서 선언\n",
    " - 마지막 주석은 항상 0이기에 고려하지 않고 마지막을 제외한 주식들을 돌면서 가격이 떨어지는가를 확인\n",
    "   - 타켓으로 정한 주식 이후의 주식 가격을 보고 가격이 떨어졌을 경우에는 반복문을 탈출\n",
    "   - 이때, 다음 시간이 되기 까지 무조건 1초의 시간이 흐르기에 이후 가격을 체크하기 전에 반복문을 돌때마다 +1초를 해줌\n",
    " - 모든 반복을 끝나면 각 주식 시점 별로 가격이 떨어지지 않은 기간이 저장되기에 answer를 return"
   ]
  },
  {
   "cell_type": "code",
   "execution_count": 1,
   "metadata": {},
   "outputs": [],
   "source": [
    "def solution(prices):\n",
    "    answer = [0 for _ in prices]\n",
    "    \n",
    "    for i in range(len(prices)-1):\n",
    "        for j in range(i+1, len(prices)):\n",
    "            answer[i] += 1\n",
    "            if prices[i] > prices[j]: break\n",
    "            \n",
    "    return answer"
   ]
  },
  {
   "cell_type": "code",
   "execution_count": 2,
   "metadata": {},
   "outputs": [
    {
     "data": {
      "text/plain": [
       "[4, 3, 1, 1, 0]"
      ]
     },
     "execution_count": 2,
     "metadata": {},
     "output_type": "execute_result"
    }
   ],
   "source": [
    "prices = [1, 2, 3, 2, 3]\n",
    "\n",
    "solution(prices)"
   ]
  }
 ],
 "metadata": {
  "kernelspec": {
   "display_name": "Python 3",
   "language": "python",
   "name": "python3"
  },
  "language_info": {
   "codemirror_mode": {
    "name": "ipython",
    "version": 3
   },
   "file_extension": ".py",
   "mimetype": "text/x-python",
   "name": "python",
   "nbconvert_exporter": "python",
   "pygments_lexer": "ipython3",
   "version": "3.8.5"
  }
 },
 "nbformat": 4,
 "nbformat_minor": 4
}
