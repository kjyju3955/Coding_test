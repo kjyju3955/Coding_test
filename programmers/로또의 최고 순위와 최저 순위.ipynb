{
 "cells": [
  {
   "cell_type": "markdown",
   "id": "5177fed2",
   "metadata": {},
   "source": [
    "# 로또의 최고 순위과 최저 순위"
   ]
  },
  {
   "cell_type": "markdown",
   "id": "15f1e8e4",
   "metadata": {},
   "source": [
    "## 문제"
   ]
  },
  {
   "cell_type": "markdown",
   "id": "f069d753",
   "metadata": {},
   "source": [
    "로또를 구매했으나 몇개의 번호를 까먹었을 때 최저 순위와 최고 순위를 구하라\n",
    "\n",
    "<br>\n",
    "\n",
    "<조건>\n",
    " - 까먹은 번호는 0으로 표기\n",
    " - 로또는 1부터 45까지의 숫자로 구성\n",
    " - 로또는 중복되는 숫자는 존재하지 않음\n",
    " \n",
    "https://programmers.co.kr/learn/courses/30/lessons/77484"
   ]
  },
  {
   "cell_type": "markdown",
   "id": "21985d1b",
   "metadata": {},
   "source": [
    "순위|당첨 내용\n",
    ":---:|:---:\n",
    "1|6개 번호가 모두 일치\n",
    "2|5개 번호가 일치\n",
    "3|4개 번호가 일치\n",
    "4|3개 번호가 일치\n",
    "5|2개 번호가 일치\n",
    "6(낙첨)|그 외 "
   ]
  },
  {
   "cell_type": "markdown",
   "id": "fa6fb1a5",
   "metadata": {},
   "source": [
    "## 풀이"
   ]
  },
  {
   "cell_type": "markdown",
   "id": "7c6abc87",
   "metadata": {},
   "source": [
    "모든 번호를 까먹었을 때는 무조건 최고 등수는 1등 / 최저 등수는 6등 임 <br>\n",
    "0을 제외한 번호는 중복되지 않으니 set()의 마이너스를 이용해서 실제 로또 번호에서 맞춘 수의 개수를 구함 <br>\n",
    "5개 이상 틀리면 낙첨이기에 1개를 맞춘 것으로 간주하고 score로 저장 <br>\n",
    "그 외의 경우는 6개의 숫자에서 맞춘 갯수를 score로 저장 <br>\n",
    "맞춘 숫자를 이용해서 등수를 return"
   ]
  },
  {
   "cell_type": "code",
   "execution_count": 3,
   "id": "bb0c37a4",
   "metadata": {},
   "outputs": [],
   "source": [
    "def solution(lottos, win_nums):\n",
    "    zero_num = len(list(i for i in lottos if i == 0)) # 알아볼 수 없는 번호의 갯수\n",
    "    \n",
    "    if set(lottos) == {0}: # 모든 번호가 다 지워졌을 경우\n",
    "        return [1, 6]\n",
    "    \n",
    "    # 2개보다 적게 맞추면 6등으로 간주\n",
    "    score = (6 - len(set(win_nums) - set(lottos))) if (6 - len(set(win_nums) - set(lottos))) >= 2 else 1\n",
    "    \n",
    "    return [7 - (score + zero_num), 7 - score]"
   ]
  },
  {
   "cell_type": "code",
   "execution_count": 4,
   "id": "636af953",
   "metadata": {},
   "outputs": [
    {
     "data": {
      "text/plain": [
       "[1, 6]"
      ]
     },
     "execution_count": 4,
     "metadata": {},
     "output_type": "execute_result"
    }
   ],
   "source": [
    "lottos = [0, 0, 0, 0, 0, 0] # 내가 작성한 로또 번호\n",
    "win_nums = [31, 10, 45, 1, 6, 19] # 실제 당첨 로또 번호\n",
    "\n",
    "solution(lottos, win_nums)"
   ]
  }
 ],
 "metadata": {
  "kernelspec": {
   "display_name": "Python 3",
   "language": "python",
   "name": "python3"
  },
  "language_info": {
   "codemirror_mode": {
    "name": "ipython",
    "version": 3
   },
   "file_extension": ".py",
   "mimetype": "text/x-python",
   "name": "python",
   "nbconvert_exporter": "python",
   "pygments_lexer": "ipython3",
   "version": "3.8.8"
  }
 },
 "nbformat": 4,
 "nbformat_minor": 5
}
