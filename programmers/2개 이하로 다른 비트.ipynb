{
 "cells": [
  {
   "cell_type": "markdown",
   "metadata": {},
   "source": [
    "# 2개 이하로 다른 비트"
   ]
  },
  {
   "cell_type": "markdown",
   "metadata": {},
   "source": [
    "## 문제\n",
    "양의 정수 x에 대한 함수 f(x)를 다음과 같이 정의. \n",
    " - x보다 크고 x와 비트가 1~2개 다른 수들 중에서 제일 작은 수\n",
    "정수들이 담긴 배열 numbers가 매개변수로 주어짐. numbers의 모든 수들에 대하여 각 수의 f 값을 배열에 차례대로 담아 return.\n",
    "\n",
    "<br><br>\n",
    "input : 정수 배열, output : 정수 배열 \n",
    "\n",
    "#### <조건>\n",
    " - 1 ≤ numbers의 길이 ≤ 100,000\n",
    " - 0 ≤ numbers의 모든 수 ≤ 1015\n",
    " \n",
    "#### <예시>\n",
    "input : [2,7]\n",
    "<br><br>\n",
    "result : [3,11]\n",
    "<br><br>\n",
    " - 2보다 큰 수들 중에서 비트가 다른 지점이 2개 이하이면서 제일 작은 수가 3.\n",
    " - 따라서, f(2) = 3\n",
    " - 7보다 큰 수들 중에서 비트가 다른 지점이 2개 이하이면서 제일 작은 수가 11.\n",
    " - 따라서, f(7) = 11\n",
    " \n",
    "https://programmers.co.kr/learn/courses/30/lessons/77885"
   ]
  },
  {
   "cell_type": "markdown",
   "metadata": {},
   "source": [
    "## 풀이\n",
    " ### 1.\n",
    "  - number를 넣으면 이진법으로 바꿔주는 함수 change_num선언\n",
    "    - 이때, 이진법이지만 reverse되지 않은 상태로 return\n",
    "  - 주어진 numbers에서 숫자 하나씩 처리\n",
    "  - 비교를 해줄 기준이 되는 number를 이진법으로 변경해서 std에 저장\n",
    "  - std와 비교해줄 숫자를 i에 저장\n",
    "  - i를 1씩 늘려가면서 비트수가 1개 혹은 2개가 다를 떄까지 반복\n",
    "    - 이때, cmp와 std의 자리수가 다를 것을 대비해서 0을 붙여 자리수를 맞춰줌\n",
    "    - count에 cmp와 std의 비트 중에서 다른 비트의 개수를 저장\n",
    "    - count의 수가 1혹은 2가 될 때, answer에 답을 넣어주고 반복문을 빠져나감\n",
    "  - 모든 number를 수행하고 난 후에 answer return \n",
    "  <br><br>\n",
    "  시간초과... <br>\n",
    "  하나씩 비교해보는 방식이 아닌 다른 시도가 필요할 듯 <br>\n",
    "  혹은, 반복문을 줄이는 방법 찾아보기\n",
    "  \n",
    " ### 2.\n",
    "  - 리스트를 사용하는 것이 아닌 문자열을 이용해서 변경해주는 방식 + 모든 경우를 찾는 것이 아닌 조건에 맞는 숫자를 바로 찾아주는 방식\n",
    "  - numbers에 있는 숫자들을 파이썬에서 제공해주는 함수를 이용해서 2진수로 변경후 저장\n",
    "  - 만약 2진수의 끝자리가 0으로 끝난다면 그냥 1을 더해주면 조건에 맞는 가장 작은 수를 찾을 수 있음\n",
    "    - 2진수를 다시 10진수로 변경해주고 1을 더해서 answer에 추가\n",
    "  - 1로 끝난다면 제일 끝에 있는 '01'을 '10'으로 변경해주면 조건에 맞는 가장 작은 수를 찾을 수 있음\n",
    "    - 이때 만약 '111'같이 1로만 이루어진 이진수는 '01'을 찾을 수 없기에 이와 같은 경우에는 맨 앞에 '0'을 붙여줌\n",
    "  - for문을 이용해서 끝에서부터 '01'인 인덱스 번호를 찾아서 '10'으로 변경후 다시 number에 저장\n",
    "  - 파이썬에서 제공해주는 함수를 이용해서 다시 이진수를 10진수로 변경해 answer에 추가\n",
    "  - 모든 number를 모두 수행하고 나면 answer return"
   ]
  },
  {
   "cell_type": "code",
   "execution_count": 1,
   "metadata": {},
   "outputs": [],
   "source": [
    "# 1\n",
    "\n",
    "def solution(numbers):\n",
    "    answer = []\n",
    "    \n",
    "    for number in numbers:\n",
    "        std = change_num(number)\n",
    "        i = number\n",
    "        while 1:\n",
    "            i += 1\n",
    "            cmp = change_num(i)\n",
    "            \n",
    "            if len(cmp) != len(std):\n",
    "                std += [0]*(len(cmp)-len(std))\n",
    "                \n",
    "            count = len([i for i in range(len(cmp)) if cmp[i] != std[i]])\n",
    "            \n",
    "            if count == 1 or count == 2: \n",
    "                answer.append(i)\n",
    "                break\n",
    "                \n",
    "    return answer\n",
    "                \n",
    "    \n",
    "def change_num(number):\n",
    "    stack = []\n",
    "    \n",
    "    while 1:\n",
    "        stack.append(number%2)\n",
    "        number = number // 2\n",
    "        if number == 1:\n",
    "            stack.append(1)\n",
    "            break\n",
    "            \n",
    "    return stack"
   ]
  },
  {
   "cell_type": "code",
   "execution_count": 2,
   "metadata": {},
   "outputs": [],
   "source": [
    "# 2\n",
    "\n",
    "def solution(numbers):\n",
    "    answer = []\n",
    "    \n",
    "    for number in numbers:\n",
    "        number = format(int(number), 'b')\n",
    "        if number[-1] == '0':\n",
    "            answer.append(int(number, 2)+1)\n",
    "        else:\n",
    "            if set(number) == {'1'}: number = '0' + number\n",
    "            \n",
    "            for i in range(len(number)-1,0,-1):\n",
    "                if number[i] == '1' and number[i-1] == '0':\n",
    "                    number = number[:i-1] + '10' + number[i+1:]\n",
    "                    answer.append(int(number, 2))\n",
    "                    break\n",
    "                    \n",
    "    return answer"
   ]
  },
  {
   "cell_type": "code",
   "execution_count": 4,
   "metadata": {},
   "outputs": [
    {
     "data": {
      "text/plain": [
       "[5, 11]"
      ]
     },
     "execution_count": 4,
     "metadata": {},
     "output_type": "execute_result"
    }
   ],
   "source": [
    "numbers = [3,7]\n",
    "\n",
    "solution(numbers)"
   ]
  }
 ],
 "metadata": {
  "kernelspec": {
   "display_name": "Python 3",
   "language": "python",
   "name": "python3"
  },
  "language_info": {
   "codemirror_mode": {
    "name": "ipython",
    "version": 3
   },
   "file_extension": ".py",
   "mimetype": "text/x-python",
   "name": "python",
   "nbconvert_exporter": "python",
   "pygments_lexer": "ipython3",
   "version": "3.8.5"
  }
 },
 "nbformat": 4,
 "nbformat_minor": 4
}
