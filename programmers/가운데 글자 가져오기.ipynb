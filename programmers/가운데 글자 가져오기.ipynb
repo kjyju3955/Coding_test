{
 "cells": [
  {
   "cell_type": "markdown",
   "metadata": {},
   "source": [
    "# 가운데 글자 가져오기"
   ]
  },
  {
   "cell_type": "markdown",
   "metadata": {},
   "source": [
    "## 문제\n",
    "단어 s의 가운데 글자를 반환하는 함수 생성.\n",
    "\n",
    "<br><br>\n",
    "input : 문자열, output : 문자열\n",
    "\n",
    "#### <조건>\n",
    " - 단어의 길이가 짝수라면 가운데 두글자를 반환\n",
    " - s는 길이가 1 이상, 100이하인 스트링\n",
    " \n",
    "#### <예시>\n",
    "input : \"abcde\"\n",
    "<br><br>\n",
    "result : \"c\"\n",
    "<br><br>\n",
    " - 가운데 글자는 \"c\"이므로 \"c\" return\n",
    " \n",
    "https://programmers.co.kr/learn/courses/30/lessons/12903"
   ]
  },
  {
   "cell_type": "markdown",
   "metadata": {},
   "source": [
    "## 풀이\n",
    " - 만약 s의 길이가 홀수이면 가운데 문자열을 return\n",
    " - 짝수이면 가운데 두 문자열을 return 해줌"
   ]
  },
  {
   "cell_type": "code",
   "execution_count": 1,
   "metadata": {},
   "outputs": [],
   "source": [
    "def solution(s):\n",
    "    if len(s) % 2 == 1: return s[len(s)//2]\n",
    "    return s[len(s)//2-1:len(s)//2+1]"
   ]
  },
  {
   "cell_type": "code",
   "execution_count": 2,
   "metadata": {},
   "outputs": [
    {
     "data": {
      "text/plain": [
       "'c'"
      ]
     },
     "execution_count": 2,
     "metadata": {},
     "output_type": "execute_result"
    }
   ],
   "source": [
    "s = \"abcde\"\n",
    "\n",
    "solution(s)"
   ]
  }
 ],
 "metadata": {
  "kernelspec": {
   "display_name": "Python 3",
   "language": "python",
   "name": "python3"
  },
  "language_info": {
   "codemirror_mode": {
    "name": "ipython",
    "version": 3
   },
   "file_extension": ".py",
   "mimetype": "text/x-python",
   "name": "python",
   "nbconvert_exporter": "python",
   "pygments_lexer": "ipython3",
   "version": "3.8.5"
  }
 },
 "nbformat": 4,
 "nbformat_minor": 4
}
