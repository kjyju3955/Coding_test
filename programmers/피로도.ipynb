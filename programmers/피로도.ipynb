{
 "cells": [
  {
   "cell_type": "markdown",
   "metadata": {},
   "source": [
    "# 피로도"
   ]
  },
  {
   "cell_type": "markdown",
   "metadata": {},
   "source": [
    "## 문제\n",
    "XX게임에는 피로도 시스템(0 이상의 정수로 표현합니다)이 있으며, 일정 피로도를 사용해서 던전을 탐험할 수 있음. 이때, 각 던전마다 탐험을 시작하기 위해 필요한 \"최소 필요 피로도\"와 던전 탐험을 마쳤을 때 소모되는 \"소모 피로도\"가 있음. \"최소 필요 피로도\"는 해당 던전을 탐험하기 위해 가지고 있어야 하는 최소한의 피로도를 나타내며, \"소모 피로도\"는 던전을 탐험한 후 소모되는 피로도를 나타냄. 이 게임에는 하루에 한 번씩 탐험할 수 있는 던전이 여러개 있는데, 한 유저가 오늘 이 던전들을 최대한 많이 탐험하려 함. 유저의 현재 피로도 k와 각 던전별 \"최소 필요 피로도\", \"소모 피로도\"가 담긴 2차원 배열 dungeons 가 매개변수로 주어질 때, 유저가 탐험할수 있는 최대 던전 수를 return. \n",
    "<br><br>\n",
    "input : k = 정수, dungeons = 2차원 정수 배열, output : 정수\n",
    "\n",
    "#### <조건>\n",
    " - k는 1 이상 5,000 이하인 자연수\n",
    " - dungeons의 세로(행) 길이(즉, 던전의 개수)는 1 이상 8 이하\n",
    " - dungeons의 가로(열) 길이는 2 \n",
    " - dungeons의 각 행은 각 던전의 [\"최소 필요 피로도\", \"소모 피로도\"]\n",
    " - \"최소 필요 피로도\"는 항상 \"소모 피로도\"보다 크거나 같음\n",
    " - \"최소 필요 피로도\"와 \"소모 피로도\"는 1 이상 1,000 이하인 자연수\n",
    " - 서로 다른 던전의 [\"최소 필요 피로도\", \"소모 피로도\"]가 서로 같을 수 있음\n",
    " \n",
    "#### <예시>\n",
    "input : k = 80, dungeons = [[80,20],[50,40],[30,10]]\n",
    "<br><br>\n",
    "result : 3\n",
    "<br><br>\n",
    " - 만약, 첫 번째 → 두 번째 → 세 번째 던전 순서라면\n",
    "   - 현재 피로도는 80이며, 첫 번째 던전을 돌기위해 필요한 \"최소 필요 피로도\" 또한 80이므로, 첫 번째 던전을 탐험 가능. 첫 번째 던전의 \"소모 피로도\"는 20이므로, 던전을 탐험한 후 남은 피로도는 60.\n",
    "   - 남은 피로도는 60이며, 두 번째 던전을 돌기위해 필요한 \"최소 필요 피로도\"는 50이므로, 두 번째 던전을 탐험 가능. 두 번째 던전의 \"소모 피로도\"는 40이므로, 던전을 탐험한 후 남은 피로도는 20.\n",
    "   - 남은 피로도는 20이며, 세 번째 던전을 돌기위해 필요한 \"최소 필요 피로도\"는 30. \n",
    "   - 따라서 2개의 던전 탐험 가능\n",
    " - 만약, 첫 번째 → 세 번째 → 두 번째 던전 순서라면\n",
    "   - 현재 피로도는 80이며, 첫 번째 던전을 돌기위해 필요한 \"최소 필요 피로도\" 또한 80이므로, 첫 번째 던전을 탐험 가능. 첫 번째 던전의 \"소모 피로도\"는 20이므로, 던전을 탐험한 후 남은 피로도는 60.\n",
    "   - 남은 피로도는 60이며, 세 번째 던전을 돌기위해 필요한 \"최소 필요 피로도\"는 30이므로, 세 번째 던전을 탐험 가능. 세 번째 던전의 \"소모 피로도\"는 10이므로, 던전을 탐험한 후 남은 피로도는 50.\n",
    "   - 남은 피로도는 50이며, 두 번째 던전을 돌기위해 필요한 \"최소 필요 피로도\"는 50이므로, 두 번째 던전을 탐험 가능. 두 번째 던전의 \"소모 피로도\"는 40이므로, 던전을 탐험한 후 남은 피로도는 10.\n",
    "   - 따라서 이 경우 세 던전을 모두 탐험 가능\n",
    " - 따라서, 3 return \n",
    " \n",
    "https://programmers.co.kr/learn/courses/30/lessons/87946"
   ]
  },
  {
   "cell_type": "markdown",
   "metadata": {},
   "source": [
    "## 풀이\n",
    " - dugneons 을 최소 필요 피로도와 소모 필요도를 가지고 상대적으로 크기를 비교하기 위해서 둘을 더해주고 최소 필요도로 나누어서 정렬해줌\n",
    "   - 힌트 봄... ㅋㅋㅋ 세상에는 똑똑한 사람이 많은듯...ㅎ\n",
    " - 정답을 저장할 answer 선언\n",
    " - dungeons개수만큼 돌면서 반복문 수행\n",
    "   - 현재 남은 피로도를 기준으로 들어갈 수 있는 던전들을 check_list에 저장\n",
    "   - 만약 더이상 들어갈 수 있는 던전이 없으면 반복문 탈출\n",
    "   - 들어갈 수 있는 던전 중에서 가장 첫 번째로 있는 던전이 가장 많은 던전을 돌 수 있는 효율적인 던전이기에 이에 맞게 피로도 계산\n",
    "   - 이미 들어갔던 던전은 dungeons리스트에서 제거해줌\n",
    "   - 반복문을 한 번 돌 때마다 던전을 한 번 돈 것이기에 answer를 1더해줌\n",
    " - 던전의 개수만큼 반복문을 실행 후에 answer return"
   ]
  },
  {
   "cell_type": "code",
   "execution_count": 1,
   "metadata": {},
   "outputs": [],
   "source": [
    "def solution(k, dungeons):\n",
    "    dungeons = sorted(dungeons, key=lambda x:((x[0]+x[1])/x[0],x[1]))\n",
    "    answer = 0\n",
    "    \n",
    "    for i in range(len(dungeons)):\n",
    "        check_list = [j for j in range(len(dungeons)) if dungeons[j][0]<=k]\n",
    "        if not check_list: break\n",
    "        k -= dungeons[check_list[0]][1]\n",
    "        dungeons.pop(check_list[0])\n",
    "        answer += 1\n",
    "        \n",
    "    return answer"
   ]
  },
  {
   "cell_type": "code",
   "execution_count": 2,
   "metadata": {},
   "outputs": [
    {
     "data": {
      "text/plain": [
       "3"
      ]
     },
     "execution_count": 2,
     "metadata": {},
     "output_type": "execute_result"
    }
   ],
   "source": [
    "k = 80\n",
    "dungeons = [[80,20],[50,40],[30,10]]\n",
    "\n",
    "solution(k, dungeons)"
   ]
  }
 ],
 "metadata": {
  "kernelspec": {
   "display_name": "Python 3",
   "language": "python",
   "name": "python3"
  },
  "language_info": {
   "codemirror_mode": {
    "name": "ipython",
    "version": 3
   },
   "file_extension": ".py",
   "mimetype": "text/x-python",
   "name": "python",
   "nbconvert_exporter": "python",
   "pygments_lexer": "ipython3",
   "version": "3.8.5"
  }
 },
 "nbformat": 4,
 "nbformat_minor": 4
}
