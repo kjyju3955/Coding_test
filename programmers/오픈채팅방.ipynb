{
 "cells": [
  {
   "cell_type": "markdown",
   "id": "28fb87f2",
   "metadata": {},
   "source": [
    "# 오픈채팅방"
   ]
  },
  {
   "cell_type": "markdown",
   "id": "927f4ad3",
   "metadata": {},
   "source": [
    "## 문제\n",
    "카카오톡 오픈 채팅방을 개설한 사람을 위해, 다양한 사람들이 들어오고, 나가는 것을 지켜볼 수 있는 관리자창을 만들기로 함<br>\n",
    "채팅방에 누군가 들어오면 다음 메시지가 출력게 해야 한다, \"[닉네임]님이 들어왔습니다.\"<br>\n",
    "채팅방에서 누군가 나가면 다음 메시지가 출력되야 한다. \"[닉네임]님이 나갔습니다.\" \n",
    "<br><br>\n",
    "input : 문자열이 담긴 배열 , output : 문자열이 담긴 배열\n",
    "#### <조건>\n",
    " - 채팅방에서 닉네임을 변경하는 방법은 두가지임\n",
    "   1. 채팅방을 나간 후, 새로운 닉네임으로 다시 들어감\n",
    "   2. 채팅방에서 닉네임을 변경\n",
    " - 채팅방은 중복되는 닉네임 허용 ( 모든 유저는 유저 아이디로 구분 )\n",
    " - record의 길이는 1이상 100,000이하\n",
    " - 문자열의 첫 단어는 Enter, Leave, Change 중 하나\n",
    " \n",
    "#### <예시>\n",
    "input : [\"Enter uid1234 Muzi\", \"Enter uid4567 Prodo\",\"Leave uid1234\",\"Enter uid1234 Prodo\",\"Change uid4567 Ryan\"]\n",
    "<br><br>\n",
    "result : ['Prodo님이 들어왔습니다.', 'Ryan님이 들어왔습니다.', 'Prodo님이 나갔습니다.', 'Prodo님이 들어왔습니다.']\n",
    "<br><br>\n",
    " 1. 처음 uid1234와 uid4567이 들어옴 -> \"Muzi님이 들어왔습니다\", \"Prodo님이 들어왔습니다\"\n",
    " 2. uid1234가 나갔다가 이름을 바꿔서 들어옴 -> 처음 Muzi의 이름이 모두 Prodo로 변경됨\n",
    " 3. uid4567이 이름을 바꿈 -> uid4567의 Prodo가 모두 이름이 Ryan으로 변경됨\n",
    " \n",
    "https://programmers.co.kr/learn/courses/30/lessons/42888"
   ]
  },
  {
   "cell_type": "markdown",
   "id": "0842c2d9",
   "metadata": {},
   "source": [
    "## 풀이\n",
    " - return할 때 이름을 변경한 기록은 포함할 필요가 없기에 record의 길이가 2이상인 것들만 공백단위로 잘라서 딕셔너리에\n",
    "   id와 닉네임을 저장, 이때 id에 따라서 계속해서 최신 닉네임으로 갱신됨\n",
    " - 변경한 기록은 return하지 않기에 record에서 제외\n",
    " - 딕셔너리를 이용해서 최종 문자열 리스트 반환"
   ]
  },
  {
   "cell_type": "code",
   "execution_count": 1,
   "id": "faeb2241",
   "metadata": {},
   "outputs": [],
   "source": [
    "def solution(record):\n",
    "    user_id = {i.split()[1] : i.split()[2] for i in record if len(i.split()) > 2}\n",
    "    \n",
    "    record = [i for i in record if i.split()[0] != \"Change\"]\n",
    "    \n",
    "    return list(user_id[i.split()[1]]+\"님이 들어왔습니다.\" if i.split()[0] == \"Enter\" else user_id[i.split()[1]]+\"님이 나갔습니다.\" for i in record)"
   ]
  },
  {
   "cell_type": "code",
   "execution_count": 2,
   "id": "da30df82",
   "metadata": {},
   "outputs": [
    {
     "data": {
      "text/plain": [
       "['Prodo님이 들어왔습니다.', 'Ryan님이 들어왔습니다.', 'Prodo님이 나갔습니다.', 'Prodo님이 들어왔습니다.']"
      ]
     },
     "execution_count": 2,
     "metadata": {},
     "output_type": "execute_result"
    }
   ],
   "source": [
    "record = [\"Enter uid1234 Muzi\", \"Enter uid4567 Prodo\",\"Leave uid1234\",\"Enter uid1234 Prodo\",\"Change uid4567 Ryan\"]\n",
    "\n",
    "solution(record)"
   ]
  }
 ],
 "metadata": {
  "kernelspec": {
   "display_name": "Python 3",
   "language": "python",
   "name": "python3"
  },
  "language_info": {
   "codemirror_mode": {
    "name": "ipython",
    "version": 3
   },
   "file_extension": ".py",
   "mimetype": "text/x-python",
   "name": "python",
   "nbconvert_exporter": "python",
   "pygments_lexer": "ipython3",
   "version": "3.8.8"
  }
 },
 "nbformat": 4,
 "nbformat_minor": 5
}
