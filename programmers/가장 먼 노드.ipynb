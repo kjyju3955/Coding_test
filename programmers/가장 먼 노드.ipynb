{
 "cells": [
  {
   "cell_type": "markdown",
   "id": "8cfb5006",
   "metadata": {},
   "source": [
    "# 가장 먼 노드"
   ]
  },
  {
   "attachments": {
    "image.png": {
     "image/png": "[encoded data removed]"
    }
   },
   "cell_type": "markdown",
   "id": "61aa1b5b",
   "metadata": {},
   "source": [
    "## 문제\n",
    "n개의 노드가 있는 그래프가 있음. 각 노드는 1부터 n까지 번호가 적혀있음. 1번 노드에서 가장 멀리 떨어진 노드의 갯수를 구하려고 함<br>\n",
    "가장 멀리 떨어진 노드란 최단경로로 이동했을 때 간선의 개수가 가장 많은 노드들을 의미 <br>\n",
    "노드의 개수 n, 간선에 대한 정보가 담긴 2차원 배열 vertex가 매개변수로 주어질 때, 1번 노드로부터 가장 멀리 <br>\n",
    "떨어진 노드가 몇 개인지를 return\n",
    "<br><br>\n",
    "input : n = 정수, vertex = 2차원 정수 배열, output : 정수\n",
    "\n",
    "#### <조건>\n",
    " - 노드의 개수 n은 2 이상 20,000 이하\n",
    " - 간선은 양방향이며 총 1개 이상 50,000개 이하\n",
    " - vertex 배열 각 행 [a, b]는 a번 노드와 b번 노드 사이에 간선이 있다는 의미\n",
    " \n",
    "#### <예시>\n",
    "input : n = 6, vertex = [[3, 6], [4, 3], [3, 2], [1, 3], [1, 2], [2, 4], [5, 2]]\n",
    "<br><br>\n",
    "result : 3\n",
    "<br><br>\n",
    " ![image.png](attachment:image.png)\n",
    " - 1번 노드에서 가장 멀리 떨어진 노드는 4,5,6번 노드\n",
    " - 따라서, 3 return\n",
    " \n",
    "https://programmers.co.kr/learn/courses/30/lessons/49189"
   ]
  },
  {
   "cell_type": "markdown",
   "id": "16700ed3",
   "metadata": {},
   "source": [
    "## 풀이\n",
    "### 1.\n",
    " - 해당 숫자가 몇 번째 node에 위치하는지 탐색하는 find_num함수 생성\n",
    " - 1을 제외한 edge를 돌면서 각 edge의 최저 경로의 노선 수를 return \n",
    "   - edge를 넣으면 반복문을 돌면서 1부터 다음 인접 노드를 구함\n",
    "   - 인접 노드에 내가 찾고자 하는 edge가 있으면 count를 return해줌\n",
    " - 모든 edge의 최저 경로의 노선 수를 answer에 저장\n",
    " - 최대 값을 찾아서 그 수의 갯수를 return\n",
    " \n",
    "   => 7,8,9 타임 아웃 <br>\n",
    "   => 반복문을 줄여주는 과정이 필요할 듯\n",
    "   \n",
    "### 2. \n",
    " - 그래프의 한층 한층씩 연결된 node를 구해주면서 제일 끝에 연결된 노드를 찾는 방식\n",
    " - adj_dict에 그래프의 인접 리스트를 구함\n",
    " - bfs 방식을 사용\n",
    " - 그래프의 앞으로 거처야하는 node를 start에 저장, visited에 여태 거처온 node저장\n",
    "   - 이때, start는 이중 리스트로 한 층에 있는 node들을 리스트에 넣음\n",
    "   - visited는 set으로 만들어줘서 중복되는 요소는 제거\n",
    " - node는 start.pop(0)을 해서 현재 층에 있는 모든 node를 리스트로 저장\n",
    " - 현재 층에 있는 node들을 돌면서 방문한적이 없는 노드만 visited에 추가해줌\n",
    " - node의 인접 리스트를 start에 추가\n",
    "   - 이때, 현재 node와 방문한 적이 있는 node는 제거하고 추가\n",
    "   - 현재 층에 있는 node들의 인접 리스트를 추가해줘야하기에 list와 set을 적절하게 이용\n",
    " - 그래프의 모든 node를 다 돌 때까지 반복\n",
    "   - 이때, 반복문을 돌 때마다 answer에 모든 node의 갯수에서 방문한 node의 갯수를 빼서 저장해줌\n",
    "   - 반복문을 마지막으로 돌 때는 마지막에 들릴 node를 뺀 node만 visited에 저장되어 있을 것이기에 제일 멀리 있는 node의 개수 저장\n",
    " - answer return \n",
    " \n",
    "   => 답을 생각해내는데 너무 오래걸림... <br>\n",
    "   => 다른 사람들의 힌트로 참고... 분발하쟈ㅠㅜ"
   ]
  },
  {
   "cell_type": "code",
   "execution_count": 1,
   "id": "d00f8920",
   "metadata": {},
   "outputs": [],
   "source": [
    "# 1.\n",
    "\n",
    "def solution(n, vertex):\n",
    "    edge_list = list(set(j for i in vertex for j in i))\n",
    "    \n",
    "    adj_dict = {i:[v[1] if v[0] == i else v[0] for v in vertex if i in v] for i in edge_list}\n",
    "\n",
    "    answer = [find_num(i, adj_dict) for i in edge_list if i != 1]\n",
    "        \n",
    "    return answer.count(max(answer))\n",
    "        \n",
    "def find_num(num, adj_dict):\n",
    "    start = [1]\n",
    "    count = 1\n",
    "\n",
    "    while (1):\n",
    "        next_list = list(set(j for i in start for j in adj_dict[i]))\n",
    "        \n",
    "        if num in next_list:\n",
    "            return count\n",
    "        \n",
    "        count += 1\n",
    "        start = next_list"
   ]
  },
  {
   "cell_type": "code",
   "execution_count": 2,
   "id": "ec6ff81f",
   "metadata": {},
   "outputs": [],
   "source": [
    "# 2.\n",
    "\n",
    "def solution(n, vertex):\n",
    "    adj_dict = dict()\n",
    "    \n",
    "    for i in vertex:\n",
    "        if i[0] not in adj_dict.keys():\n",
    "            adj_dict[i[0]] = set([i[1]])\n",
    "        else:\n",
    "            adj_dict[i[0]].add(i[1])\n",
    "            \n",
    "        if i[1] not in adj_dict.keys():\n",
    "            adj_dict[i[1]] = set([i[0]])\n",
    "        else:\n",
    "            adj_dict[i[1]].add(i[0])\n",
    "    \n",
    "    start = [[1]]\n",
    "    visited = set()\n",
    "    \n",
    "    while start[0]:\n",
    "        node = start.pop(0)\n",
    "        answer = len(adj_dict.keys()) - len(visited)\n",
    "\n",
    "        add = []\n",
    "        for i in node:\n",
    "            if i not in visited:\n",
    "                visited.add(i)\n",
    "                \n",
    "                add += [j for j in adj_dict[i] if j not in visited and j not in node]\n",
    "                \n",
    "        start.append(list(set(add)))\n",
    " \n",
    "    return answer"
   ]
  },
  {
   "cell_type": "code",
   "execution_count": 3,
   "id": "d02db4fc",
   "metadata": {},
   "outputs": [
    {
     "data": {
      "text/plain": [
       "3"
      ]
     },
     "execution_count": 3,
     "metadata": {},
     "output_type": "execute_result"
    }
   ],
   "source": [
    "n = 4 \n",
    "vertex = [[1, 4], [1, 3], [2, 3], [2, 1]]\n",
    "\n",
    "solution(n, vertex)"
   ]
  }
 ],
 "metadata": {
  "kernelspec": {
   "display_name": "Python 3",
   "language": "python",
   "name": "python3"
  },
  "language_info": {
   "codemirror_mode": {
    "name": "ipython",
    "version": 3
   },
   "file_extension": ".py",
   "mimetype": "text/x-python",
   "name": "python",
   "nbconvert_exporter": "python",
   "pygments_lexer": "ipython3",
   "version": "3.8.8"
  }
 },
 "nbformat": 4,
 "nbformat_minor": 5
}
