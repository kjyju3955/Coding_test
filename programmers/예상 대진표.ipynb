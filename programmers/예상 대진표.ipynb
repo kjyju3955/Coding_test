{
 "cells": [
  {
   "cell_type": "markdown",
   "metadata": {},
   "source": [
    "# 예상 대진표"
   ]
  },
  {
   "cell_type": "markdown",
   "metadata": {},
   "source": [
    "## 문제\n",
    "△△ 게임대회가 개최. 이 대회는 N명이 참가하고, 토너먼트 형식으로 진행. 그리고, 1번↔2번, 3번↔4번, ... , N-1번↔N번의 참가자끼리 게임을 진행. <br>\n",
    "각 게임에서 이긴 사람은 다음 라운드에 진출할 수 있음. 이때, 다음 라운드에 진출할 참가자의 번호는 다시 1번부터 N/2번을 차례대로 배정 <br>\n",
    "이때, 처음 라운드에서 A번을 가진 참가자는 경쟁자로 생각하는 B번 참가자와 몇 번째 라운드에서 만나는지 궁금해짐 <br>\n",
    "임 참가자 수 N, 참가자 번호 A, 경쟁자 번호 B가 함수 solution의 매개변수로 주어질 때, 처음 라운드에서 A번을 가진 참가자는 경쟁자로 <br>\n",
    "생각하는 B번 참가자와 몇 번째 라운드에서 만나는지 return \n",
    "<br><br>\n",
    "input : n = 정수, a = 정수, b = 정수, output : 정수\n",
    "\n",
    "#### <조건>\n",
    " - N : 2^1 이상 2^20 이하인 자연수 (2의 지수 승으로 주어지므로 부전승은 발생하지 않음)\n",
    " - A, B : N 이하인 자연수 (단, A ≠ B )\n",
    " \n",
    "#### <예시>\n",
    "input : n = 8, a = 4, b = 7\n",
    "<br><br>\n",
    "result : 3\n",
    "<br><br>\n",
    " - 첫 번째 라운드에서 4번 참가자는 3번 참가자와 붙게 되고, 7번 참가자는 8번 참가자와 붙음\n",
    " - 항상 이긴다고 가정했으므로 4번 참가자는 다음 라운드에서 2번이 되고, 7번 참가자는 4번\n",
    " - 두 번째 라운드에서 2번은 1번과 붙게 되고, 4번은 3번과 붙음\n",
    " - 항상 이긴다고 가정했으므로 2번은 다음 라운드에서 1번이 되고, 4번은 2번\n",
    " - 세 번째 라운드에서 1번과 2번으로 두 참가자가 붙게 되므로 3을 return\n",
    " \n",
    "https://programmers.co.kr/learn/courses/30/lessons/12985"
   ]
  },
  {
   "cell_type": "markdown",
   "metadata": {},
   "source": [
    "## 풀이\n",
    " ### 1.\n",
    "  - 2^20이 최대 대진 횟수이기에 20회를 반복해주면서 a와b를 갱신해줌\n",
    "  - 이때, math의 ceil을 이용해서 올림을 수행해줌\n",
    "  - 반복문을 돌면서 만약 a와 b가 같은 숫자가 된다면 만나는 것이기에 해당 반복횟수를 return\n",
    "  \n",
    " ### 2.\n",
    "  - 1번과 방식은 같으나 math를 사용하지 않고 a와 b를 갱신해줌"
   ]
  },
  {
   "cell_type": "code",
   "execution_count": 1,
   "metadata": {},
   "outputs": [],
   "source": [
    "# 1.\n",
    "\n",
    "import math\n",
    "\n",
    "def solution(n, a, b):\n",
    "    for i in range(20):\n",
    "        if a == b:\n",
    "            return i\n",
    "        a = math.ceil(a/2)\n",
    "        b = math.ceil(b/2)\n",
    "    \n",
    "    return 20"
   ]
  },
  {
   "cell_type": "code",
   "execution_count": 2,
   "metadata": {},
   "outputs": [],
   "source": [
    "# 2.\n",
    "\n",
    "def solution(n, a, b):\n",
    "    for i in range(20):\n",
    "        if a == b : return i\n",
    "        a = (a+1)//2\n",
    "        b = (b+1)//2\n",
    "        \n",
    "    return 20"
   ]
  },
  {
   "cell_type": "code",
   "execution_count": 3,
   "metadata": {},
   "outputs": [
    {
     "data": {
      "text/plain": [
       "3"
      ]
     },
     "execution_count": 3,
     "metadata": {},
     "output_type": "execute_result"
    }
   ],
   "source": [
    "n = 8\n",
    "a = 4\n",
    "b = 5\n",
    "\n",
    "solution(n, a, b)"
   ]
  }
 ],
 "metadata": {
  "kernelspec": {
   "display_name": "Python 3",
   "language": "python",
   "name": "python3"
  },
  "language_info": {
   "codemirror_mode": {
    "name": "ipython",
    "version": 3
   },
   "file_extension": ".py",
   "mimetype": "text/x-python",
   "name": "python",
   "nbconvert_exporter": "python",
   "pygments_lexer": "ipython3",
   "version": "3.8.5"
  }
 },
 "nbformat": 4,
 "nbformat_minor": 4
}
