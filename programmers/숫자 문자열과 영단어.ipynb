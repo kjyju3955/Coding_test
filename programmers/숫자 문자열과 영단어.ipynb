{
 "cells": [
  {
   "cell_type": "markdown",
   "id": "14a540e7",
   "metadata": {},
   "source": [
    "# 숫자 문자열과 영단어"
   ]
  },
  {
   "cell_type": "markdown",
   "id": "8bab0862",
   "metadata": {},
   "source": [
    "## 문제\n",
    "일부 자릿수를 영단어로 바꾼 카드를 건네주면 원래 숫자를 찾아야 함 \n",
    "<br><br>\n",
    "input : 문자열, output : 숫자\n",
    "\n",
    "#### <조건>\n",
    " - 1 ≤ s의 길이 ≤ 50\n",
    " - s가 \"zero\" 또는 \"0\"으로 시작하는 경우는 주어지지 않음\n",
    " \n",
    "#### <예시>\n",
    "input : \"one4seveneight\"\n",
    "<br><br>\n",
    "result : 1478\n",
    "<br><br>\n",
    " - \"one\"+4+\"seven\"+\"eight\"으로 간주\n",
    " - 1478로 변경\n",
    " \n",
    "https://programmers.co.kr/learn/courses/30/lessons/81301"
   ]
  },
  {
   "cell_type": "markdown",
   "id": "bb58e2fe",
   "metadata": {},
   "source": [
    "## 풀이\n",
    "\n",
    "### 1.\n",
    " - 각 숫자 알파벳 별로 숫자를 미리 딕셔너리로 생성\n",
    " - alpha라는 빈 문자열 생성\n",
    " - 문자열을 돌면서 숫자인지 확인을 한 뒤에 숫자가 맞으면 alpha에 추가\n",
    " - 숫자가 아니면 딕셔너리에서 찾아서 그 숫자를 추가\n",
    " <br><br>\n",
    " - 통과\n",
    " \n",
    "### 2.\n",
    " - 1의 방식처럼 딕셔너리 생성\n",
    " - 딕셔너리를 돌면서 문자열에 해당 알파벳이 있으면 숫자로 모두 변경해줌\n",
    "<br><br>\n",
    " - 통과"
   ]
  },
  {
   "cell_type": "code",
   "execution_count": 1,
   "id": "e2365898",
   "metadata": {},
   "outputs": [],
   "source": [
    "# 1\n",
    "\n",
    "def solution(s):\n",
    "    answer = ''\n",
    "    alpha_dict = {\"zero\":0, \"one\":1, \"two\":2, \"three\":3, \"four\":4, \"five\":5, \"six\":6, \"seven\":7, \"eight\":8, \"nine\":9}\n",
    "\n",
    "    alpha = ''\n",
    "    for i in s:\n",
    "        if i.isdigit():\n",
    "            answer += i\n",
    "            continue\n",
    "        alpha += i\n",
    "        if alpha in alpha_dict:\n",
    "            answer += str(alpha_dict[alpha])\n",
    "            alpha = ''\n",
    "\n",
    "\n",
    "    return int(answer)"
   ]
  },
  {
   "cell_type": "code",
   "execution_count": 2,
   "id": "4aebae0a",
   "metadata": {},
   "outputs": [],
   "source": [
    "# 2\n",
    "\n",
    "def solution(s):\n",
    "    answer = s\n",
    "    alpha_dict = {\"zero\":0, \"one\":1, \"two\":2, \"three\":3, \"four\":4, \"five\":5, \"six\":6, \"seven\":7, \"eight\":8, \"nine\":9}\n",
    "\n",
    "    for idx, value in alpha_dict.items():\n",
    "        answer = answer.replace(idx, str(value))\n",
    "      \n",
    "    return int(answer)"
   ]
  },
  {
   "cell_type": "code",
   "execution_count": 3,
   "id": "1e85d943",
   "metadata": {},
   "outputs": [
    {
     "data": {
      "text/plain": [
       "1478"
      ]
     },
     "execution_count": 3,
     "metadata": {},
     "output_type": "execute_result"
    }
   ],
   "source": [
    "s = \"one4seveneight\"\n",
    "\n",
    "solution(s)"
   ]
  }
 ],
 "metadata": {
  "kernelspec": {
   "display_name": "Python 3",
   "language": "python",
   "name": "python3"
  },
  "language_info": {
   "codemirror_mode": {
    "name": "ipython",
    "version": 3
   },
   "file_extension": ".py",
   "mimetype": "text/x-python",
   "name": "python",
   "nbconvert_exporter": "python",
   "pygments_lexer": "ipython3",
   "version": "3.8.8"
  }
 },
 "nbformat": 4,
 "nbformat_minor": 5
}
