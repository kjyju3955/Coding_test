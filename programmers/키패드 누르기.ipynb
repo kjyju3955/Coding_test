{
 "cells": [
  {
   "cell_type": "markdown",
   "id": "eb60fca9",
   "metadata": {},
   "source": [
    "# 키패드 누르기"
   ]
  },
  {
   "cell_type": "markdown",
   "id": "ffcf20ad",
   "metadata": {},
   "source": [
    "## 문제\n",
    "전화 키패드에서 왼손과 오른손의 엄지손가락만을 이용해서 숫자만을 입력하려고 함<br>\n",
    "순서대로 누를 번호가 담긴 배열 numbers, 왼손잡이인지 오른손잡이인 지를 나타내는<br>\n",
    "문자열 hand가 매개변수로 주어질 때, 각 번호를 누른 엄지손가락이 왼손인 지 오른손인 <br>\n",
    "지를 나타내는 연속된 문자열 형태로 return 해라\n",
    "<br><br>\n",
    "input : 숫자 리스트, 문자열 , output : 문자열\n",
    "\n",
    "#### <규칙>\n",
    " 1. 엄지손가락은 상하좌우 4가지 방향으로만 이동할 수 있으며 키패드 이동 한 칸은 거리로 1\n",
    " 2. 왼쪽 열의 3개의 숫자 1, 4, 7을 입력할 때는 왼손 엄지손가락을 사용\n",
    " 3. 오른쪽 열의 3개의 숫자 3, 6, 9를 입력할 때는 오른손 엄지손가락을 사용\n",
    " 4. 가운데 열의 4개의 숫자 2, 5, 8, 0을 입력할 때는 두 엄지손가락의 현재 키패드의 위치에서 더 가까운 엄지손가락을 사용\n",
    "    만약 두 엄지손가락의 거리가 같다면, 오른손잡이는 오른손 엄지손가락, 왼손잡이는 왼손 엄지손가락을 사용\n",
    "\n",
    "#### <조건>\n",
    " - numbers 배열의 크기는 1 이상 1,000 이하\n",
    " - \"left\"는 왼손잡이, \"right\"는 오른손잡이를 의미\n",
    " - numbers 배열 원소의 값은 0 이상 9 이하인 정수\n",
    " \n",
    "#### <예시>\n",
    "input : numbers = [1, 3, 4, 5, 8, 2, 1, 4, 5, 9, 5], hand = \"right\"\n",
    "<br><br>\n",
    "result : \"LRLLLRLLRRL\"\n",
    "<br><br>\n",
    " - 1,3,4는 각각 왼손, 오른손, 왼손으로 누름\n",
    " - 왼손 거리는 1, 오른손 거리는 2이므로 왼손으로 5를 누름\n",
    " - 왼손 거리는 1, 오른손 거리는 3이므로 왼손으로 8을 누름\n",
    " - 왼손 거리는 2, 오른손 거리는 1이므로 오른손으로 2를 누름\n",
    " - 1, 4는 왼손으로 누름\n",
    " - 왼손 거리와 오른손 거리가 1로 같으므로, 오른손으로 5를 누름\n",
    " - 9는 오른손으로 누름\n",
    " - 왼손 거리는 1, 오른손 거리는 2이므로 왼손으로 5를 누름\n",
    " - \"LRLLLRLLRRL\" return\n",
    " \n",
    "https://programmers.co.kr/learn/courses/30/lessons/67256"
   ]
  },
  {
   "cell_type": "markdown",
   "id": "7985f531",
   "metadata": {},
   "source": [
    "## 풀이\n",
    " - 키패드의 숫자를 2차원 배열의 인덱스 값으로 바꾸어서 저장을 해줌\n",
    " - 왼쪽, 오른쪽 손으로 각각 눌러야 하는 숫자들도 2차원 배열의 인덱스 값으로 left, right에 각각 저장\n",
    " - 왼손과 오른손의 현재 위치는 hand_loc에 저장\n",
    " - numbers를 돌면서 왼손으로 눌러야 하는 숫자는 L을, 오른손으로 눌러야하는 숫자는 R을 저장\n",
    " - 둘 중 선택을 해야 하는 경우에는 find_next_path함수를 이용해서 찾음\n",
    "   다음으로 가야한 키패드의 위치와 양 손이 현재 위치하고 있는 거리를 구해서 이에 맞게 처리\n",
    " - nubmers를 다 돌면서 답을 누적해서 return"
   ]
  },
  {
   "cell_type": "code",
   "execution_count": 1,
   "id": "7da7840f",
   "metadata": {},
   "outputs": [],
   "source": [
    "def solution(numbers, hand):\n",
    "    numbers = list([(i-1)//3, (i-1)%3] if i != 0 else [3,1] for i in numbers)\n",
    "    left = list([(i-1)//3, (i-1)%3] for i in [1,4,7])\n",
    "    right = list([(i-1)//3, (i-1)%3] for i in [3,6,9])\n",
    "    hand_loc = {\"L\": [3,0], \"R\": [3,2]} # left, right\n",
    "    \n",
    "    answer = \"\"\n",
    "    path = \"\"\n",
    "    \n",
    "    for i in numbers:\n",
    "        if i in left:\n",
    "            answer += \"L\"\n",
    "            hand_loc[\"L\"] = i\n",
    "        elif i in right:\n",
    "            answer += \"R\"\n",
    "            hand_loc[\"R\"] = i\n",
    "        else:\n",
    "            hand_loc, path = find_next_path(hand_loc, i, hand)\n",
    "            answer += path\n",
    "                 \n",
    "    return answer\n",
    "            \n",
    "def find_next_path(hand_loc, i, hand):\n",
    "    l = abs(hand_loc[\"L\"][0] - i[0]) + abs(hand_loc[\"L\"][1] - i[1])\n",
    "    r = abs(hand_loc[\"R\"][0] - i[0]) + abs(hand_loc[\"R\"][1] - i[1])\n",
    "    \n",
    "    if l > r:\n",
    "        hand_loc[\"R\"] = i\n",
    "        return hand_loc, \"R\"\n",
    "    if l < r:\n",
    "        hand_loc[\"L\"] = i\n",
    "        return hand_loc, \"L\"\n",
    "    if l == r:\n",
    "        hand_loc[hand[0].upper()] = i\n",
    "        return hand_loc, hand[0].upper()"
   ]
  },
  {
   "cell_type": "code",
   "execution_count": 2,
   "id": "61ac38b0",
   "metadata": {},
   "outputs": [
    {
     "data": {
      "text/plain": [
       "'LRLLLRLLRRL'"
      ]
     },
     "execution_count": 2,
     "metadata": {},
     "output_type": "execute_result"
    }
   ],
   "source": [
    "numbers = [1, 3, 4, 5, 8, 2, 1, 4, 5, 9, 5]\n",
    "hands = \"right\"\n",
    "\n",
    "solution(numbers, hands)"
   ]
  }
 ],
 "metadata": {
  "kernelspec": {
   "display_name": "Python 3",
   "language": "python",
   "name": "python3"
  },
  "language_info": {
   "codemirror_mode": {
    "name": "ipython",
    "version": 3
   },
   "file_extension": ".py",
   "mimetype": "text/x-python",
   "name": "python",
   "nbconvert_exporter": "python",
   "pygments_lexer": "ipython3",
   "version": "3.8.8"
  }
 },
 "nbformat": 4,
 "nbformat_minor": 5
}
