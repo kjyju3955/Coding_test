{
 "cells": [
  {
   "cell_type": "markdown",
   "id": "cc4783ea",
   "metadata": {},
   "source": [
    "# 크레인 인형뽑기 게임"
   ]
  },
  {
   "cell_type": "markdown",
   "id": "c0046fa3",
   "metadata": {},
   "source": [
    "## 문제\n",
    "게임 화면은 \"1 x 1\" 크기의 칸들로 이루어진 \"N x N\" 크기의 정사각 격자이며 위쪽에는 크레인이 있고 오른쪽에는 바구니가 있다<br>\n",
    "각 격자 칸에는 다양한 인형이 들어 있으며 인형이 없는 칸은 빈칸이다 <br>\n",
    "모든 인형은 \"1 x 1\" 크기의 격자 한 칸을 차지하며 격자의 가장 아래 칸부터 차곡차곡 쌓여 있다<br>\n",
    "게임 사용자는 크레인을 좌우로 움직여서 멈춘 위치에서 가장 위에 있는 인형을 집어 올릴 수 있다<br>\n",
    "만약 같은 모양의 인형 두 개가 바구니에 연속해서 쌓이게 되면 두 인형은 터뜨려지면서 바구니에서 사라지게 된다<br>\n",
    "크레인을 모두 작동시킨 후 터트려져 사라진 인형의 개수를 return 해라\n",
    "<br><br>\n",
    "input : board = 2차원 배열, moves = 1차원 배열, output : 숫자\n",
    "\n",
    "#### <조건>\n",
    " - board 배열은 2차원 배열로 크기는 \"5 x 5\" 이상 \"30 x 30\" 이하\n",
    " - board의 각 칸에는 0 이상 100 이하인 정수가 담겨있음\n",
    "   0은 빈 칸\n",
    "   1 ~ 100의 각 숫자는 각기 다른 인형의 모양을 의미하며 같은 숫자는 같은 모양의 인형\n",
    " - moves 배열의 크기는 1 이상 1,000 이하\n",
    " - moves 배열 각 원소들의 값은 1 이상이며 board 배열의 가로 크기 이하인 자연수\n",
    "\n",
    "#### <예시>\n",
    "input : board = [[0,0,0,0,0],[0,0,1,0,3],[0,2,5,0,1],[4,2,4,4,2],[3,5,1,3,1]], moves = [1,5,3,5,1,2,1,4]\n",
    "<br><br>\n",
    "result : 4\n",
    "<br>\n",
    " \n",
    "https://programmers.co.kr/learn/courses/30/lessons/64061"
   ]
  },
  {
   "cell_type": "markdown",
   "id": "68d22663",
   "metadata": {},
   "source": [
    "## 풀이\n",
    " - 입력받은 board를 이용해서 같은 n번칸에 있는 인형끼리 묶어서 저장해주는 new_board 생성\n",
    " - box에 처음으로 선택된 인형을 넣고 시작\n",
    " - moves를 돌면서 이미 선택된 제일 최근의 인형과 선택될 인형을 비교\n",
    "   같을 경우 연속되는 인형을 제거하고 제거한 인형의 수를 더해줌\n",
    " - 모든 움직임을 다 할 때까지 반복해서 return "
   ]
  },
  {
   "cell_type": "code",
   "execution_count": 1,
   "id": "32215908",
   "metadata": {},
   "outputs": [],
   "source": [
    "def solution(board, moves):\n",
    "    answer = 0\n",
    "    new_board = board.copy()\n",
    "    \n",
    "    for i in range(len(board)):\n",
    "        new_board[i] = list(board[j][i] for j in range(len(board[i])) if board[j][i] != 0)\n",
    "    \n",
    "    box = [new_board[moves[0]-1].pop(0)]\n",
    "    \n",
    "    for i in range(1, len(moves)):\n",
    "        if new_board[moves[i]-1]:\n",
    "            input_box = new_board[moves[i]-1].pop(0)\n",
    "            if box and input_box == box[-1]:\n",
    "                answer += 2\n",
    "                box.pop()\n",
    "                continue\n",
    "            box += [input_box]\n",
    "            \n",
    "    return answer"
   ]
  },
  {
   "cell_type": "code",
   "execution_count": 2,
   "id": "200ea9af",
   "metadata": {},
   "outputs": [
    {
     "data": {
      "text/plain": [
       "4"
      ]
     },
     "execution_count": 2,
     "metadata": {},
     "output_type": "execute_result"
    }
   ],
   "source": [
    "board = [[0,0,0,0,0],[0,0,1,0,3],[0,2,5,0,1],[4,2,4,4,2],[3,5,1,3,1]]\n",
    "moves = [1,5,3,5,1,2,1,4]\n",
    "\n",
    "solution(board, moves)"
   ]
  }
 ],
 "metadata": {
  "kernelspec": {
   "display_name": "Python 3",
   "language": "python",
   "name": "python3"
  },
  "language_info": {
   "codemirror_mode": {
    "name": "ipython",
    "version": 3
   },
   "file_extension": ".py",
   "mimetype": "text/x-python",
   "name": "python",
   "nbconvert_exporter": "python",
   "pygments_lexer": "ipython3",
   "version": "3.8.8"
  }
 },
 "nbformat": 4,
 "nbformat_minor": 5
}
