{
 "cells": [
  {
   "cell_type": "markdown",
   "id": "ade85ac1",
   "metadata": {},
   "source": [
    "# 내적"
   ]
  },
  {
   "cell_type": "markdown",
   "id": "92253331",
   "metadata": {},
   "source": [
    "## 문제\n",
    "길이가 같은 두 1차원 정수 배열 a, b가 매개변수로 주어질 때, a와 b의 내적을 return \n",
    "<br><br>\n",
    "input : a = 정수 배열 , b = 정수 배열, output : 숫자\n",
    "\n",
    "#### <조건>\n",
    " - a, b의 길이는 1 이상 1,000 이하\n",
    " - a, b의 모든 수는 -1,000 이상 1,000 이하\n",
    " \n",
    "#### <예시>\n",
    "input : a = [1,2,3,4], b = [-3,-1,0,2]\n",
    "<br><br>\n",
    "result : 3\n",
    "<br><br>\n",
    " - a와 b의 내적은 1*(-3) + 2*(-1) + 3*0 + 4*2 = 3 \n",
    " - 3 return \n",
    " \n",
    "https://programmers.co.kr/learn/courses/30/lessons/70128"
   ]
  },
  {
   "cell_type": "markdown",
   "id": "e24dc738",
   "metadata": {},
   "source": [
    "## 풀이\n",
    " - zip()을 이용해서 a와b를 곱해줌\n",
    " - 곱한 리스트를 sum()을 이용해서 합치고 return"
   ]
  },
  {
   "cell_type": "code",
   "execution_count": 1,
   "id": "c637fb7e",
   "metadata": {},
   "outputs": [],
   "source": [
    "def solution(a, b):\n",
    "    return sum(list(x*y for x,y in zip(a,b)))"
   ]
  },
  {
   "cell_type": "code",
   "execution_count": 2,
   "id": "cab97e51",
   "metadata": {},
   "outputs": [
    {
     "data": {
      "text/plain": [
       "3"
      ]
     },
     "execution_count": 2,
     "metadata": {},
     "output_type": "execute_result"
    }
   ],
   "source": [
    "a = [1,2,3,4]\n",
    "b = [-3,-1,0,2]\n",
    "\n",
    "solution(a,b)"
   ]
  }
 ],
 "metadata": {
  "kernelspec": {
   "display_name": "Python 3",
   "language": "python",
   "name": "python3"
  },
  "language_info": {
   "codemirror_mode": {
    "name": "ipython",
    "version": 3
   },
   "file_extension": ".py",
   "mimetype": "text/x-python",
   "name": "python",
   "nbconvert_exporter": "python",
   "pygments_lexer": "ipython3",
   "version": "3.8.8"
  }
 },
 "nbformat": 4,
 "nbformat_minor": 5
}
