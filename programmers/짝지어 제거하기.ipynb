{
 "cells": [
  {
   "cell_type": "markdown",
   "id": "7c07e038",
   "metadata": {},
   "source": [
    "# 짝지어 제거하기"
   ]
  },
  {
   "cell_type": "markdown",
   "id": "d86319f1",
   "metadata": {},
   "source": [
    "## 문제\n",
    "문자열에서 같은 알파벳이 2개 붙어 있는 짝을 찾아서 그 둘을 제거한다 <br>\n",
    "그 후 앞뒤로 문자열을 이어 붙이고, 이 과정을 반복해서 문자열을 모두 제거가 <br>\n",
    "가능하다면 1을 return, 아니라면 0을 return 해준다.\n",
    "<br><br>\n",
    "input : s, output : 0 or 1\n",
    "<br><br>\n",
    "#### <조건>\n",
    " - 문자열의 길이 : 1,000,000이하의 자연수\n",
    " - 문자열은 모두 소문자로 이루어져 있음\n",
    "<br><br>\n",
    "#### <예시>\n",
    "s = 'baabaa'\n",
    "<br><br>\n",
    "result = 1\n",
    "<br><br>\n",
    " 1. 'b''aa''baa'에서 'aa'제거 가능\n",
    " 2. 'bbaa'에서 'bb''aa'로 'bb'제거 가능\n",
    " 3. 'aa'만 남아서 모두 제거 가능\n",
    "\n",
    "\n",
    "https://programmers.co.kr/learn/courses/30/lessons/12973"
   ]
  },
  {
   "cell_type": "markdown",
   "id": "9bab850d",
   "metadata": {},
   "source": [
    "## 풀이\n",
    "\n",
    "### 1. \n",
    " - stack활용\n",
    " - s를 리스트도 바꾸어서 사용\n",
    " - stack에 s값들을 하나씩 pop해서 비교한 후에 조건에 맞게 처리해줌\n",
    " - s가 다 빌때까지 반복\n",
    " <br><br>\n",
    " 정확성 통과 / 효율성 실패\n",
    " \n",
    "### 2.\n",
    " - 1번과 동일\n",
    " - 1번에서 리스트를 std = s.pop(0)해주는 과정에서 시간복잡도 상승\n",
    " - s를 리스트로 변환하지 않고 사용\n",
    " <br><br>\n",
    " 통과"
   ]
  },
  {
   "cell_type": "code",
   "execution_count": 86,
   "id": "ecfee500",
   "metadata": {},
   "outputs": [],
   "source": [
    "# 1.\n",
    "\n",
    "def solution(s):\n",
    "    s = list(s)\n",
    "    s_stack = []\n",
    "    \n",
    "    if len(s) % 2 != 0:\n",
    "        return 0\n",
    "    \n",
    "    while s:\n",
    "        std = s.pop(0)\n",
    "        \n",
    "        if not s_stack:\n",
    "            s_stack.append(std)\n",
    "            continue\n",
    "        \n",
    "        if s_stack[-1] != std:\n",
    "            s_stack.append(std)\n",
    "        else:\n",
    "            s_stack.pop()\n",
    "    if not s_stack:\n",
    "        return 1\n",
    "    \n",
    "    return 0   "
   ]
  },
  {
   "cell_type": "code",
   "execution_count": 87,
   "id": "a11bbf81",
   "metadata": {},
   "outputs": [],
   "source": [
    "# 2.\n",
    "\n",
    "def solution(s):\n",
    "    s_stack = []\n",
    "    \n",
    "    if len(s) % 2 != 0:\n",
    "        return 0\n",
    "    \n",
    "    for i in s:\n",
    "        if not s_stack:\n",
    "            s_stack.append(i)\n",
    "            continue\n",
    "        \n",
    "        if s_stack[-1] != i:\n",
    "            s_stack.append(i)\n",
    "        else:\n",
    "            s_stack.pop()\n",
    "    \n",
    "    if not s_stack:\n",
    "        return 1\n",
    "    \n",
    "    return 0"
   ]
  },
  {
   "cell_type": "code",
   "execution_count": 88,
   "id": "8c8d77d5",
   "metadata": {},
   "outputs": [
    {
     "data": {
      "text/plain": [
       "0"
      ]
     },
     "execution_count": 88,
     "metadata": {},
     "output_type": "execute_result"
    }
   ],
   "source": [
    "s = 'aaa'\n",
    "\n",
    "solution(s)"
   ]
  }
 ],
 "metadata": {
  "kernelspec": {
   "display_name": "Python 3",
   "language": "python",
   "name": "python3"
  },
  "language_info": {
   "codemirror_mode": {
    "name": "ipython",
    "version": 3
   },
   "file_extension": ".py",
   "mimetype": "text/x-python",
   "name": "python",
   "nbconvert_exporter": "python",
   "pygments_lexer": "ipython3",
   "version": "3.8.8"
  }
 },
 "nbformat": 4,
 "nbformat_minor": 5
}
