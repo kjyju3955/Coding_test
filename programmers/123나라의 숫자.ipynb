{
 "cells": [
  {
   "cell_type": "markdown",
   "id": "221c585d",
   "metadata": {},
   "source": [
    "# 123나라의 숫자"
   ]
  },
  {
   "cell_type": "markdown",
   "id": "cfe3247e",
   "metadata": {},
   "source": [
    "## 문제\n",
    "124 나라에서는 10진법이 아닌 다음과 같은 자신들만의 규칙으로 수를 표현<br>\n",
    "124 나라에는 자연수만 존재<br>\n",
    "124 나라에는 모든 수를 표현할 때 1, 2, 4만 사용<br>\n",
    "\n",
    "#### <조건>\n",
    " - n은 500,000,000이하의 자연수\n",
    "\n",
    "#### <예시>\n",
    "\n",
    "10진법|124나라|10진법|124나라\n",
    ":---:|:---:|:---:|:---:\n",
    "1|1|6|14\n",
    "2|2|7|21\n",
    "3|4|8|22\n",
    "4|11|9|24\n",
    "5|12|10|41\n",
    "\n",
    "https://programmers.co.kr/learn/courses/30/lessons/12899"
   ]
  },
  {
   "cell_type": "markdown",
   "id": "5f969ce8",
   "metadata": {},
   "source": [
    "## 풀이\n",
    "### 1.\n",
    " - 124 나라는 3진법을 약간 변형하여 사용함\n",
    " - 3으로 나눠떨어지는 경우에 0을 대신해서 4를 이용한다는 점을 적용\n",
    " - 만약 n이 3과 같거나 작은 수일 경우에는 answer에 n을 그대로 이어붙임\n",
    " - n이 3보다 큰 경우에는 3으로 나누어 떨어지는 수는 0이 아닌 3을 remain으로 저장하고 n을 갱신<br>\n",
    "   이때, n을 3으로 나눈 값에서 -1을 빼고 저장해줌 <br>\n",
    "   3으로 나누어 떨어지지 않는 경우에는 나머지 값을 remain으로 저장 한 후 n을 갱신\n",
    " - 계속해서 반복을 해줌\n",
    " - 만들어진 answer에서 3으로 4로 바꾸고 뒤집에서 return\n",
    "\n",
    "### 2.\n",
    " - 리스트를 활용\n",
    " - 각 3으로 나눴을 때 나머지가 0이면 4, 1이면 1, 2이면 2이기에 [4,1,2] 순의 리스트 선언\n",
    " - n이 4보다 작을 때 3으로 나눈 값의 나머지를 인덱스번호로 해서 리스트에서 뽑아낸 값을 answer에 추가\n",
    " - 그 외의 경우에는 n이 0과 같거나 작아질 때 까지 answer에 3으로 나눈 나머지 값을 인덱스 번호로 리스트의 값을 추가 <br>\n",
    "   n을 n-1을 3으로 나눈 값의 몫으로 계속 갱신해줌\n",
    " - 만들어진 answer를 뒤집에서 return"
   ]
  },
  {
   "cell_type": "code",
   "execution_count": 1,
   "id": "cf8a2a16",
   "metadata": {},
   "outputs": [],
   "source": [
    "# 1\n",
    "\n",
    "def solution(n):\n",
    "    answer = ''\n",
    "    \n",
    "    if n // 3 == 0:\n",
    "        answer += str(n)\n",
    "    \n",
    "    while n // 3 >= 1:\n",
    "        if n % 3 == 0:\n",
    "            remain = 3\n",
    "            n = n // 3 - 1\n",
    "        else:\n",
    "            remain = n % 3\n",
    "            n = n // 3\n",
    "        answer += str(remain)\n",
    "        \n",
    "        if 0 < n < 3:\n",
    "            answer += str(n)\n",
    "            \n",
    "    return answer.replace('3','4')[::-1]"
   ]
  },
  {
   "cell_type": "code",
   "execution_count": 2,
   "id": "9aae51fe",
   "metadata": {},
   "outputs": [],
   "source": [
    "# 2\n",
    "\n",
    "def solution(n):\n",
    "    num = ['4','1','2']\n",
    "    answer = \"\"\n",
    "    \n",
    "    if n < 4:\n",
    "        return num[n%3]\n",
    "    \n",
    "    while(n > 0):\n",
    "        answer += num[n%3]\n",
    "        n = (n-1) // 3\n",
    "        \n",
    "    return answer[::-1]"
   ]
  },
  {
   "cell_type": "code",
   "execution_count": 3,
   "id": "9e9a147f",
   "metadata": {},
   "outputs": [
    {
     "data": {
      "text/plain": [
       "'224'"
      ]
     },
     "execution_count": 3,
     "metadata": {},
     "output_type": "execute_result"
    }
   ],
   "source": [
    "n = 27\n",
    "\n",
    "solution(n)"
   ]
  }
 ],
 "metadata": {
  "kernelspec": {
   "display_name": "Python 3",
   "language": "python",
   "name": "python3"
  },
  "language_info": {
   "codemirror_mode": {
    "name": "ipython",
    "version": 3
   },
   "file_extension": ".py",
   "mimetype": "text/x-python",
   "name": "python",
   "nbconvert_exporter": "python",
   "pygments_lexer": "ipython3",
   "version": "3.8.8"
  }
 },
 "nbformat": 4,
 "nbformat_minor": 5
}
