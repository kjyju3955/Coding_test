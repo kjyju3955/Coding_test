{
 "cells": [
  {
   "cell_type": "markdown",
   "metadata": {},
   "source": [
    "# 메뉴 리뉴얼"
   ]
  },
  {
   "cell_type": "markdown",
   "metadata": {},
   "source": [
    "## 문제\n",
    "기존에는 단품으로만 제공하던 메뉴를 조합해서 코스요리 형태로 재구성해서 새로운 메뉴를 제공하기로 결정 <br>\n",
    "이전에 각 손님들이 주문할 때 가장 많이 함께 주문한 단품메뉴들을 코스요리 메뉴로 구성, 단, 코스요리 메뉴는 최소 2가지 이상의 단품메뉴로 구성 <br>\n",
    "또한, 최소 2명 이상의 손님으로부터 주문된 단품메뉴 조합에 대해서만 코스요리 메뉴 후보에 포함하기로 함 <br>\n",
    "각 손님들이 주문한 단품메뉴들이 문자열 형식으로 담긴 배열 orders, \"스카피\"가 추가하고 싶어하는 코스요리를 구성하는 단품메뉴들의 갯수가 <br>\n",
    "담긴 배열 course가 매개변수로 주어질 때, \"스카피\"가 새로 추가하게 될 코스요리의 메뉴 구성을 문자열 형태로 배열에 담아 return \n",
    "<br><br>\n",
    "input : orders = 문자열 배열, course = 정수 배열, output : 문자열 배열\n",
    "\n",
    "#### <조건>\n",
    " - orders 배열의 크기는 2 이상 20 이하\n",
    " - orders 배열의 각 원소는 크기가 2 이상 10 이하인 문자열\n",
    " - 각 문자열은 알파벳 대문자, 같은 알파벳이 중복해서 들어있지 않음\n",
    " - course 배열의 크기는 1 이상 10 이하\n",
    " - course 배열의 각 원소는 2 이상 10 이하인 자연수가 오름차순으로 정렬\n",
    " - course 배열에는 같은 값이 중복해서 들어있지 않음\n",
    " - 정답은 각 코스요리 메뉴의 구성을 문자열 형식으로 배열에 담아 사전 순으로 오름차순 정렬해서 return <br>\n",
    "   - 배열의 각 원소에 저장된 문자열 또한 알파벳 오름차순으로 정렬 \n",
    "   - 만약 가장 많이 함께 주문된 메뉴 구성이 여러 개라면, 모두 배열에 담아 return \n",
    "   - orders와 course 매개변수는 return 하는 배열의 길이가 1 이상이 되도록 주어짐\n",
    "   \n",
    "#### <예시>\n",
    "input : orders = [\"ABCDE\", \"AB\", \"CD\", \"ADE\", \"XYZ\", \"XYZ\", \"ACD\"], course = [2, 3, 5]\n",
    "<br><br>\n",
    "result : [\"ACD\", \"AD\", \"ADE\", \"CD\", \"XYZ\"]\n",
    "<br><br>\n",
    " - AD가 세 번, CD가 세 번, ACD가 두 번, ADE가 두 번, XYZ 가 두 번 주문\n",
    " - 요리 5개를 주문한 손님이 1명 있지만, 최소 2명 이상의 손님에게서 주문된 구성만 코스요리 후보에 들어가므로, <br>\n",
    "   요리 5개로 구성된 코스요리는 새로 추가하지 않음\n",
    "   \n",
    "https://programmers.co.kr/learn/courses/30/lessons/72411"
   ]
  },
  {
   "cell_type": "markdown",
   "metadata": {},
   "source": [
    "## 풀이\n",
    " - course의 숫자 별로 orders에서 해당 숫자의 길이보다 긴 orders를 order_list에 넣어줌\n",
    " - 구해준 order_list를 돌면서 만들 수 있는 모든 조합의 경우의 수를 comb_list에 넣어줌\n",
    " - set(comb_list)로 중복을 제거한 comb_list를 돌면서 comb_list안에 해당 요소의 개수를 count해 <br>\n",
    "   1보다 큰 경우에만 comb_count라는 딕셔너리에 저장\n",
    " - 딕셔너리를 돌면서 딕셔너리의 value값이 최대인 값을 찾아서 answer에 추가\n",
    " - 모든 course를 돌 때 까지 위의 과정을 반복\n",
    " - 반복이 끝나면 answer를 정렬해서 return"
   ]
  },
  {
   "cell_type": "code",
   "execution_count": 5,
   "metadata": {},
   "outputs": [],
   "source": [
    "from itertools import combinations\n",
    "\n",
    "def solution(orders, course):\n",
    "    answer = []\n",
    "    for num in course:\n",
    "        comb_list = []\n",
    "        order_list = list(sorted(i) for i in orders if len(i) >= num)\n",
    "        \n",
    "        for i in order_list:\n",
    "            comb_list.extend(list(combinations(i, num)))\n",
    "    \n",
    "        comb_count = {i:comb_list.count(i) for i in set(comb_list) if comb_list.count(i) > 1}\n",
    "        answer += list(''.join(idx) for idx, value in comb_count.items() if value == comb_count[max(comb_count, key=comb_count.get)])\n",
    "                \n",
    "    return sorted(answer)"
   ]
  },
  {
   "cell_type": "code",
   "execution_count": 6,
   "metadata": {},
   "outputs": [
    {
     "data": {
      "text/plain": [
       "['ACD', 'AD', 'ADE', 'CD', 'XYZ']"
      ]
     },
     "execution_count": 6,
     "metadata": {},
     "output_type": "execute_result"
    }
   ],
   "source": [
    "orders = [\"ABCDE\", \"AB\", \"CD\", \"ADE\", \"XYZ\", \"XYZ\", \"ACD\"]\n",
    "course = [2, 3, 5]\n",
    "\n",
    "solution(orders, course)"
   ]
  }
 ],
 "metadata": {
  "kernelspec": {
   "display_name": "Python 3",
   "language": "python",
   "name": "python3"
  },
  "language_info": {
   "codemirror_mode": {
    "name": "ipython",
    "version": 3
   },
   "file_extension": ".py",
   "mimetype": "text/x-python",
   "name": "python",
   "nbconvert_exporter": "python",
   "pygments_lexer": "ipython3",
   "version": "3.8.5"
  }
 },
 "nbformat": 4,
 "nbformat_minor": 4
}
