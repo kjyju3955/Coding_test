{
 "cells": [
  {
   "cell_type": "markdown",
   "metadata": {},
   "source": [
    "# 조이스틱"
   ]
  },
  {
   "cell_type": "markdown",
   "metadata": {},
   "source": [
    "## 문제\n",
    "만들고자 하는 이름 name이 매개변수로 주어질 때, 이름에 대해 조이스틱 조작 횟수의 최솟값을 return\n",
    "<br><br>\n",
    "input : 문자열, output : 정수\n",
    "\n",
    "#### <규칙>\n",
    " - ▲ - 다음 알파벳\n",
    " - ▼ - 이전 알파벳 (A에서 아래쪽으로 이동하면 Z로)\n",
    " - ◀ - 커서를 왼쪽으로 이동 (첫 번째 위치에서 왼쪽으로 이동하면 마지막 문자에 커서)\n",
    " - ▶ - 커서를 오른쪽으로 이동\n",
    " \n",
    "#### <조건>\n",
    " - 맨 처음엔 A로만 이루어져 있음\n",
    " - name은 알파벳 대문자로\n",
    " - name의 길이는 1 이상 20 이하\n",
    " \n",
    "#### <예시>\n",
    "input : \"JAZ\"\n",
    "<br><br>\n",
    "result : 23\n",
    "<br><br>\n",
    " - 첫 번째 위치에서 조이스틱을 위로 9번 조작하여 J를 완성\n",
    " - 조이스틱을 왼쪽으로 1번 조작하여 커서를 마지막 문자 위치로 이동\n",
    " - 마지막 위치에서 조이스틱을 아래로 1번 조작하여 Z를 완성\n",
    " - 따라서 11번 이동시켜 \"JAZ\"를 만들 수 있고, 이때가 최소 이동\n",
    " \n",
    "https://programmers.co.kr/learn/courses/30/lessons/42860"
   ]
  },
  {
   "cell_type": "markdown",
   "metadata": {},
   "source": [
    "## 풀이\n",
    " - 만약 입력받은 name이 모두 \"A\"이면 0을 return\n",
    " - name을 아스키 코드로 바꿔주고 알파벳 순으로 접근이 빠른지 역순으로 접근이 빠른지에 따라서 움직여야 하는 횟수를 구해 name에 다시 저장\n",
    " - 입력받은 name의 중간에 \"A\"가 있다면 처리 방향을 고려해 줘야 함\n",
    "   - 연속되는 A의 위치와 길이를 return 해주는 find_A함수를 통해 max_len_a 구함\n",
    "   - \"A\"의 최대 길이보다 그 위치가 더 작으면 최대 길이 전까지 알파벳을 바꿔주고 뒤쪽으로 돌아가는 것이 더 횟수가 적음\n",
    "   - 반대의 경우라면 name의 절반길이에서 앞쪽에 \"A\"가 있을 경우만 처리해줌\n",
    "     - name을 돌면서 만약 첫번 째가아닌 \"A\"가 나오면 반복문을 탈출하고\n",
    "     - 그게 아니라면 첫번쨰가 아닌 \"A\"가 나올떄 까지의 횟수를 구함\n",
    "     - 그 횟수만큼 순방향으로 진행했다가 역방향으로 진행하는 경우가 가장 최소 횟수가 됨\n",
    " - 그 외의 경우들은 앞에서 부터 순차적으로 진행\n",
    " - 각 상황에 맞는 순서를 만들었으면 최소한 이동하는 횟수를 담아놓은 answer에 상황에 맞는 순서를 더해줌\n",
    "   - 이때, 중복되는 방문으로 인해 먼저 \"A\"로 만든 곳은 카운트 해주지 않음\n",
    " - 누적된 answer를 return"
   ]
  },
  {
   "cell_type": "code",
   "execution_count": 10,
   "metadata": {},
   "outputs": [],
   "source": [
    "def solution(name): \n",
    "    answer = 0\n",
    "    if len(name)*\"A\" == name:\n",
    "        return answer\n",
    "    \n",
    "    name = list(ord(i) for i in name)\n",
    "\n",
    "    name = list(ord(\"Z\") + 1 - i if i >= ord(\"N\") else i - ord(\"A\") for i in name)\n",
    " \n",
    "    if int(0) in name:\n",
    "        max_len_a = find_A(name)\n",
    "    \n",
    "        if max_len_a[0] < max_len_a[1]:\n",
    "            rename = list(name[i] for i in range(max_len_a[0]))\n",
    "            rename = rename + list(int(0) for i in range(max_len_a[0]-2, -1, -1))  + list(name[i] for i in range(len(name)-1, max_len_a[1]+max_len_a[0]-1,-1))\n",
    "            name = rename\n",
    "        else:\n",
    "            count = 0\n",
    "            if int(0) in name[:round(len(name)/2)]:\n",
    "                for i in range(len(name)):\n",
    "                    if name[i] == int(0) and i != 0:\n",
    "                        break\n",
    "                    count += 1\n",
    "                rename = list(name.pop(0) for i in range(count))\n",
    "                rename = rename + list(int(0) for i in range(count-2, -1, -1)) \n",
    "                name = rename + list(name.pop() for i in range(len(name)))\n",
    "                \n",
    "    answer = len(name) - 1\n",
    "    \n",
    "    for i in range(len(name)-1, -1, -1):\n",
    "        if name[i] != int(0):\n",
    "            break\n",
    "        answer -= 1\n",
    "        del name[i]\n",
    "\n",
    "    for i in name:\n",
    "        answer += i\n",
    "        \n",
    "    return answer\n",
    "    \n",
    "def find_A(name):\n",
    "    a_index = list(i for i in range(len(name)) if name[i] == int(0))\n",
    "   \n",
    "    a_dict = dict()\n",
    "    count = 1\n",
    "    \n",
    "    for i in range(len(a_index)-1):\n",
    "        if a_index[i+1] - a_index[i] > 1 :\n",
    "            a_dict[a_index[i]-count + 1] = count\n",
    "            count = 1\n",
    "        else:\n",
    "            count += 1\n",
    "            \n",
    "    a_dict[a_index[-1]-count + 1] = count\n",
    "    \n",
    "    max_i = max(a_dict, key=a_dict.get)\n",
    "    \n",
    "    return [max_i, a_dict[max_i]]"
   ]
  },
  {
   "cell_type": "code",
   "execution_count": 11,
   "metadata": {},
   "outputs": [
    {
     "data": {
      "text/plain": [
       "25"
      ]
     },
     "execution_count": 11,
     "metadata": {},
     "output_type": "execute_result"
    }
   ],
   "source": [
    "name = \"JANAA\"\n",
    "\n",
    "solution(name)"
   ]
  }
 ],
 "metadata": {
  "kernelspec": {
   "display_name": "Python 3",
   "language": "python",
   "name": "python3"
  },
  "language_info": {
   "codemirror_mode": {
    "name": "ipython",
    "version": 3
   },
   "file_extension": ".py",
   "mimetype": "text/x-python",
   "name": "python",
   "nbconvert_exporter": "python",
   "pygments_lexer": "ipython3",
   "version": "3.8.5"
  }
 },
 "nbformat": 4,
 "nbformat_minor": 4
}
