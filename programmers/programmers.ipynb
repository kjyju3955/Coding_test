{
 "cells": [
  {
   "cell_type": "code",
   "execution_count": 1,
   "id": "036d8bd3",
   "metadata": {},
   "outputs": [],
   "source": [
    "# hash 1) 완주하지 못한 선수\n",
    "\n",
    "def solution(participant, completion):\n",
    "    answer = ''\n",
    "    \n",
    "    part = sorted(participant)\n",
    "    comp = sorted(completion)\n",
    "    \n",
    "    print(part, comp)\n",
    "    \n",
    "    '''for i in part:\n",
    "        if i not in comp:\n",
    "            answer = str(i)\n",
    "            break\n",
    "        else:\n",
    "            comp.remove(i)'''\n",
    "    num = len(comp)\n",
    "    \n",
    "    for i in range(num):\n",
    "        if part[i] != comp[i]:\n",
    "            answer = str(part[i])\n",
    "            break\n",
    "            \n",
    "    if not answer:\n",
    "        answer = str(part[-1])\n",
    "            \n",
    "    print(answer)"
   ]
  },
  {
   "cell_type": "code",
   "execution_count": 2,
   "id": "ea141430",
   "metadata": {},
   "outputs": [],
   "source": [
    "part = [\"mislav\", \"stanko\", \"mislav\", \"ana\"]\n",
    "comp = [\"stanko\", \"ana\", \"mislav\"]\n",
    "solution(part, comp)"
   ]
  },
  {
   "cell_type": "code",
   "execution_count": 3,
   "id": "3bfa796a",
   "metadata": {},
   "outputs": [],
   "source": [
    "# hash 2) 전화번호 목록\n",
    "\n",
    "def solution(phone_book):\n",
    "    answer = True\n",
    "    \n",
    "    phone_book.sort(key=lambda x: x)\n",
    "    \n",
    "    num = len(phone_book)\n",
    "    \n",
    "    num_len = set()\n",
    "    print(phone_book)\n",
    "    \n",
    "    for i in phone_book:\n",
    "        num_len.add(len(i))\n",
    "    \n",
    "    if len(num_len) == 1:\n",
    "        return answer\n",
    "    \n",
    "    for i in range(num-1):\n",
    "        if str(phone_book[i+1][:len(phone_book[i])]) == str(phone_book[i]):\n",
    "            answer = False\n",
    "            return answer\n",
    "    \n",
    "\n",
    "    return answer"
   ]
  },
  {
   "cell_type": "code",
   "execution_count": 4,
   "id": "b0479ac5",
   "metadata": {},
   "outputs": [],
   "source": [
    "phone_book = [\"119\", \"97674223\", \"1195524421\"]\n",
    "solution(phone_book)"
   ]
  },
  {
   "cell_type": "code",
   "execution_count": 5,
   "id": "9492c392",
   "metadata": {},
   "outputs": [],
   "source": [
    "# stack, queue 1) 기능개발\n",
    "\n",
    "import math\n",
    "\n",
    "def solution(progresses, speeds):\n",
    "    answer = []\n",
    "    \n",
    "    remain_day = []\n",
    "    count = 1\n",
    "    i = 1\n",
    "   \n",
    "    for i in range(len(progresses)):\n",
    "        remain_day.append(math.ceil((100-progresses[i])/speeds[i]))\n",
    "  \n",
    "    num = remain_day[0]\n",
    "    \n",
    "    while(len(remain_day)-1):   \n",
    "        print(remain_day)     \n",
    "        if num >= remain_day[1]:\n",
    "            count = count + 1\n",
    "        else:\n",
    "            num = remain_day[1]\n",
    "            answer.append(count)\n",
    "            count = 1\n",
    "        \n",
    "        if len(remain_day)-1 == 1:\n",
    "            answer.append(count)\n",
    "            \n",
    "        remain_day.pop(0)\n",
    "        \n",
    "        \n",
    "    return answer"
   ]
  },
  {
   "cell_type": "code",
   "execution_count": 6,
   "id": "3a2d3b6f",
   "metadata": {},
   "outputs": [],
   "source": [
    "progresses = [95, 90, 99, 99, 80, 99]\n",
    "speeds = [1, 1, 1, 1, 1, 1]\n",
    "\n",
    "solution(progresses, speeds)"
   ]
  },
  {
   "cell_type": "code",
   "execution_count": 7,
   "id": "2093664b",
   "metadata": {},
   "outputs": [],
   "source": [
    "# stack, queue 2) 프린트\n",
    "\n",
    "def solution(priorities, location):\n",
    "    answer = 0\n",
    "\n",
    "    index_num = list(range(len(priorities)))\n",
    "    index_list = []\n",
    "   \n",
    "    while(priorities):\n",
    "        max_num = max(priorities)\n",
    "        if priorities[0] >= max_num:\n",
    "            priorities.pop(0)\n",
    "            index_list.append(index_num.pop(0))\n",
    "        else:\n",
    "            num = priorities.pop(0)\n",
    "            priorities.append(num)\n",
    "            index = index_num.pop(0)\n",
    "            index_num.append(index)\n",
    "            \n",
    "    answer = index_list.index(location)+1    \n",
    "    \n",
    "    return answer"
   ]
  },
  {
   "cell_type": "code",
   "execution_count": 8,
   "id": "ef4d44d4",
   "metadata": {},
   "outputs": [],
   "source": [
    "priorities = [2, 1, 3, 2]\n",
    "location = 2\n",
    "\n",
    "solution(priorities, location)"
   ]
  },
  {
   "cell_type": "code",
   "execution_count": 9,
   "id": "b2e16d93",
   "metadata": {},
   "outputs": [],
   "source": [
    "# Heap 1) 더 맵게\n",
    "import heapq\n",
    "\n",
    "def solution(scoville, K):\n",
    "    answer = 0\n",
    "    count = 0\n",
    "    scoville.sort()\n",
    "    while(len(scoville) > 1):\n",
    "        if scoville[0] >= K:\n",
    "            answer = count\n",
    "            return answer\n",
    "        \n",
    "        num1 = heapq.heappop(scoville)\n",
    "        num2 = heapq.heappop(scoville)\n",
    "    \n",
    "        heapq.heappush(scoville, num1+(num2*2))\n",
    "        \n",
    "        print(scoville)\n",
    "        \n",
    "        count += 1\n",
    "        \n",
    "    if scoville[0] < K:\n",
    "        answer = -1\n",
    "    else:\n",
    "        answer = count\n",
    "        \n",
    "    return answer"
   ]
  },
  {
   "cell_type": "code",
   "execution_count": 10,
   "id": "24313db7",
   "metadata": {},
   "outputs": [],
   "source": [
    "scoville = [1, 3, 2, 9, 10, 12]\n",
    "K = 7\n",
    "\n",
    "solution(scoville, K)"
   ]
  },
  {
   "cell_type": "code",
   "execution_count": 11,
   "id": "4d9ebe73",
   "metadata": {},
   "outputs": [],
   "source": [
    "# Heap 2) 디스크 컨트롤러\n",
    "\n",
    "import heapq\n",
    "import math\n",
    "\n",
    "def solution(jobs):\n",
    "    answer = 0\n",
    "    \n",
    "    min_i = 0\n",
    "    time = 0\n",
    "    num = len(jobs)\n",
    "    sum_list = []\n",
    "   \n",
    "    for i in range(1, num):\n",
    "        if jobs[min_i][0]+jobs[min_i][1] > jobs[i][0]+jobs[i][1]:\n",
    "            min_i = i\n",
    "        elif jobs[min_i][0]+jobs[min_i][1] == jobs[i][0]+jobs[i][1]:\n",
    "            if jobs[min_i][0] > jobs[i][0]:\n",
    "                min_i = i\n",
    "    \n",
    "    first = jobs[min_i]\n",
    "    time = jobs[min_i][1]  # task 걸린 시간\n",
    "    total = time + jobs[min_i][0] # 총 시간\n",
    "    \n",
    "    print(total, time, first)\n",
    "    del jobs[min_i]\n",
    "    \n",
    "    while(jobs):\n",
    "        select_i = 0\n",
    "        for i in range(1, len(jobs)):\n",
    "            if jobs[select_i][1] - jobs[select_i][0] > jobs[i][1] - jobs[i][0]:\n",
    "                select_i = i\n",
    "            elif jobs[select_i][1] - jobs[select_i][0] == jobs[i][1] - jobs[i][0]:\n",
    "                if jobs[select_i][1] > jobs[i][1]:\n",
    "                    select_i = i\n",
    "        time = time + (total - jobs[select_i][0] + jobs[select_i][1])\n",
    "        total += jobs[select_i][1]\n",
    "        \n",
    "        del jobs[select_i]\n",
    "        \n",
    "    print(time // num)\n",
    "    \n",
    "    answer = time // num\n",
    "    \n",
    "    return answer"
   ]
  },
  {
   "cell_type": "code",
   "execution_count": 12,
   "id": "e8c8e303",
   "metadata": {},
   "outputs": [],
   "source": [
    "import heapq\n",
    "\n",
    "def solution(jobs):\n",
    "    answer = 0 \n",
    "    \n",
    "    num = len(jobs)\n",
    "    prev_time = 0\n",
    "    total = 0\n",
    "\n",
    "    while(jobs):\n",
    "        jobs.sort()\n",
    "        \n",
    "        time = 0\n",
    "        \n",
    "        same = []\n",
    "        heapq.heappush(same, heapq.heappop(jobs))\n",
    "        \n",
    "        for i in range(1, len(jobs)):\n",
    "            check = heapq.heappop(jobs)\n",
    "            if check[0] != same[0][0]:\n",
    "                heapq.heappush(jobs, check)\n",
    "                break\n",
    "            else:\n",
    "                same.append(check)\n",
    "                \n",
    "        same.sort(key=lambda x: x[1])\n",
    "        \n",
    "        if prev_time < same[0][0]:\n",
    "            prev_time = same[0][0]\n",
    "        \n",
    "        for i in range(len(same)):\n",
    "            time = time + (prev_time - same[i][0]) + same[i][1]\n",
    "            \n",
    "        prev_time = time\n",
    "        total += time\n",
    "    \n",
    "    answer = total // num    \n",
    "        \n",
    "    return answer"
   ]
  },
  {
   "cell_type": "code",
   "execution_count": 119,
   "id": "fdbcdebc",
   "metadata": {},
   "outputs": [],
   "source": [
    "def solution(jobs):\n",
    "    answer = 0\n",
    "    \n",
    "    num = len(jobs)\n",
    "    \n",
    "    first = jobs[0]\n",
    "    del jobs[0]\n",
    "    \n",
    "    work_time = first[1]\n",
    "    total_time = first[1]\n",
    "    count = 1\n",
    "    \n",
    "    while(count != num):\n",
    "        std = []\n",
    "        rem = []\n",
    "        count += 1\n",
    "        \n",
    "        for i in range(len(jobs)):\n",
    "            if total_time > jobs[i][0]:\n",
    "                std.append(jobs[i])\n",
    "            elif total_time < jobs[i][0]:\n",
    "                rem.append(jobs[i])\n",
    "        \n",
    "        if len(std):\n",
    "            std.sort(key=lambda x: x[1])\n",
    "            work_time = work_time + (total_time - std[0][0] + std[0][1])\n",
    "            total_time += std[0][1]\n",
    "            jobs.remove(std[0])\n",
    "            \n",
    "        print(work_time // num, count)\n",
    "        \n",
    "    answer = work_time // num\n",
    "    \n",
    "    return answer"
   ]
  },
  {
   "cell_type": "code",
   "execution_count": 120,
   "id": "61d2563e",
   "metadata": {},
   "outputs": [
    {
     "name": "stdout",
     "output_type": "stream",
     "text": [
      "2 2\n",
      "6 3\n",
      "6 4\n"
     ]
    },
    {
     "data": {
      "text/plain": [
       "6"
      ]
     },
     "execution_count": 120,
     "metadata": {},
     "output_type": "execute_result"
    }
   ],
   "source": [
    "jobs = [[0, 3], [1, 9], [2, 6], [30, 3]]\n",
    "solution(jobs)"
   ]
  },
  {
   "cell_type": "code",
   "execution_count": 47,
   "id": "c86ba7df",
   "metadata": {},
   "outputs": [],
   "source": [
    "# 정렬 1) K번째수\n",
    "\n",
    "def solution(array, commands):\n",
    "    answer = list(map(lambda x:sorted(array[x[0]-1:x[1]])[x[2]-1], commands))\n",
    "    '''\n",
    "    answer = []\n",
    "    \n",
    "    for command in commands:\n",
    "        cut_array = array[int(command[0])-1:int(command[1])]\n",
    "        cut_array.sort()\n",
    "        answer.append(cut_array[command[2]-1])'''\n",
    "    \n",
    "    return answer"
   ]
  },
  {
   "cell_type": "code",
   "execution_count": 48,
   "id": "282b23c0",
   "metadata": {},
   "outputs": [
    {
     "data": {
      "text/plain": [
       "[5, 6, 3]"
      ]
     },
     "execution_count": 48,
     "metadata": {},
     "output_type": "execute_result"
    }
   ],
   "source": [
    "array = [1, 5, 2, 6, 3, 7, 4]\n",
    "commands = [[2, 5, 3], [4, 4, 1], [1, 7, 3]]\n",
    "\n",
    "solution(array, commands)"
   ]
  },
  {
   "cell_type": "code",
   "execution_count": 75,
   "id": "f9084142",
   "metadata": {},
   "outputs": [],
   "source": [
    "# 정렬 2) 가장 큰 수\n",
    "\n",
    "def solution(numbers):\n",
    "    answer = ''\n",
    "    \n",
    "    if set(numbers) == {0}:\n",
    "        answer = '0'\n",
    "        return answer \n",
    "\n",
    "    numbers = [str(number) for number in numbers]\n",
    "    \n",
    "    number_len = [len(number) for number in numbers]\n",
    "    \n",
    "    lcm = find_lcm(number_len)\n",
    "    origin_list = numbers.copy()\n",
    "    \n",
    "    index_list = find_num(lcm, numbers)\n",
    "\n",
    "    for i in range(len(origin_list)):\n",
    "        answer += origin_list[index_list[i][0]]\n",
    "        \n",
    "    return answer \n",
    "\n",
    "def find_lcm(arr):\n",
    "    from math import gcd                            \n",
    "    answer = arr[0]                                 \n",
    "\n",
    "    for num in arr:                                \n",
    "        answer = answer*num // gcd(answer, num)     \n",
    "\n",
    "    return answer\n",
    "\n",
    "def find_num(lcm, numbers):\n",
    "    for i in range(len(numbers)):\n",
    "        if len(numbers[i]) <= lcm:\n",
    "            count = (lcm-len(numbers[i])) // len(numbers[i])\n",
    "            remain = (lcm-len(numbers[i])) % len(numbers[i])\n",
    "            numbers[i] = numbers[i] + (numbers[i] * count)\n",
    "            numbers[i] = numbers[i] + numbers[i][:remain]\n",
    "            \n",
    "\n",
    " \n",
    "    index_list = list(enumerate(numbers))\n",
    "    index_list.sort(key=lambda x: x[1], reverse=True)\n",
    "    \n",
    "    return index_list"
   ]
  },
  {
   "cell_type": "code",
   "execution_count": 89,
   "id": "e0836cf3",
   "metadata": {},
   "outputs": [],
   "source": [
    "def solution(numbers):\n",
    "    numbers = list(map(str, numbers))\n",
    "    numbers.sort(key=lambda x: x*3, reverse=True)\n",
    "    return str(int(''.join(numbers)))"
   ]
  },
  {
   "cell_type": "code",
   "execution_count": 90,
   "id": "478f58a5",
   "metadata": {},
   "outputs": [
    {
     "data": {
      "text/plain": [
       "'6210'"
      ]
     },
     "execution_count": 90,
     "metadata": {},
     "output_type": "execute_result"
    }
   ],
   "source": [
    "numbers = [6, 10, 2]\n",
    "solution(numbers)"
   ]
  },
  {
   "cell_type": "code",
   "execution_count": 159,
   "id": "f1f526f9",
   "metadata": {},
   "outputs": [],
   "source": [
    "# 완전탐색 1) 모의 고사\n",
    "\n",
    "def solution(answers):\n",
    "    ans_len = len(answers)\n",
    "    \n",
    "    num_list = list(make_list(ans_len))\n",
    "    \n",
    "    score = [key for key in enumerate(list(com_score(num, answers) for num in num_list))]\n",
    "    \n",
    "    score.sort(key=lambda x: x[1], reverse=True)\n",
    "    \n",
    "    best_score = score[0][1]\n",
    "            \n",
    "    answer = list(i[0]+1 for i in score if i[1]==best_score)\n",
    "    \n",
    "    return sorted(answer)\n",
    "        \n",
    "    \n",
    "def make_list(ans_len):\n",
    "    num1 = [1,2,3,4,5] \n",
    "    num2 = [2,1,2,3,2,4,2,5] \n",
    "    num3 = [3,3,1,1,2,2,4,4,5,5] \n",
    " \n",
    "    return num1, num2, num3\n",
    "\n",
    "def com_score(arr, answers):\n",
    "    score = 0\n",
    "    \n",
    "    for i in range(len(answers)):\n",
    "        if arr[i%len(arr)] == answers[i]:\n",
    "            score += 1\n",
    "            \n",
    "    return score"
   ]
  },
  {
   "cell_type": "code",
   "execution_count": 160,
   "id": "909954f0",
   "metadata": {},
   "outputs": [
    {
     "data": {
      "text/plain": [
       "[1, 2, 3]"
      ]
     },
     "execution_count": 160,
     "metadata": {},
     "output_type": "execute_result"
    }
   ],
   "source": [
    "answers = [1,3,2,4,2]\n",
    "\n",
    "solution(answers)"
   ]
  },
  {
   "cell_type": "code",
   "execution_count": 301,
   "id": "a16f0a92",
   "metadata": {},
   "outputs": [],
   "source": [
    "# 완전탐색 2) 소수 찾기\n",
    "import itertools\n",
    "\n",
    "\n",
    "def solution(numbers):\n",
    "    answer = 0\n",
    "    number_list = list(number for number in numbers)\n",
    "\n",
    "    results = [list(set(itertools.permutations(number_list, i+1))) for i in range(len(numbers))]\n",
    "    \n",
    "    test = []\n",
    "    for result in results:\n",
    "        test = test + list(int(''.join(num)) for num in result)\n",
    "\n",
    "    test = list(set(test)-set(range(0,2)))\n",
    "    \n",
    "    for i in test:\n",
    "        if find_prime(i):\n",
    "            answer += 1\n",
    "    \n",
    "    return answer\n",
    "\n",
    "        \n",
    "def find_prime(number):\n",
    "    for i in range(2, number):\n",
    "        if number % i == 0:\n",
    "            \n",
    "            return False\n",
    "   \n",
    "    return True"
   ]
  },
  {
   "cell_type": "code",
   "execution_count": 326,
   "id": "7649a686",
   "metadata": {},
   "outputs": [],
   "source": [
    "primeSet = set()\n",
    "\n",
    "\n",
    "def isPrime(number):\n",
    "    if number in (0, 1):\n",
    "        return False\n",
    "    for i in range(2, number):\n",
    "        if number % i == 0:\n",
    "            return False\n",
    "\n",
    "    return True\n",
    "\n",
    "\n",
    "def makeCombinations(str1, str2):\n",
    "    if str1 != \"\":\n",
    "        if isPrime(int(str1)):\n",
    "            primeSet.add(int(str1))\n",
    "            \n",
    "    print(str1,\",\",str2)\n",
    "\n",
    "    for i in range(len(str2)):\n",
    "        makeCombinations(str1 + str2[i], str2[:i] + str2[i + 1:])\n",
    "\n",
    "\n",
    "def solution(numbers):\n",
    "    makeCombinations(\"\", numbers)\n",
    "\n",
    "    answer = len(primeSet)\n",
    "\n",
    "    return answer"
   ]
  },
  {
   "cell_type": "code",
   "execution_count": 302,
   "id": "f957a086",
   "metadata": {},
   "outputs": [
    {
     "data": {
      "text/plain": [
       "3"
      ]
     },
     "execution_count": 302,
     "metadata": {},
     "output_type": "execute_result"
    }
   ],
   "source": [
    "numbers = \"17\"\n",
    "\n",
    "solution(numbers)"
   ]
  },
  {
   "cell_type": "code",
   "execution_count": 169,
   "id": "9ca2c2eb",
   "metadata": {},
   "outputs": [],
   "source": [
    "# 탐욕법 3) 큰 수 만들기\n",
    "\n",
    "def solution(number, k):\n",
    "    answer = ''\n",
    "    j = 0\n",
    "    num = number\n",
    "    \n",
    "    for i in range(k, len(number)):\n",
    "        num = num[j:i] + number[i]\n",
    "        \n",
    "        max_index = 0\n",
    "        for i in range(len(num)):\n",
    "            if num[i] > num[max_index]:\n",
    "                max_index = i\n",
    "            if num[max_index] == \"9\":\n",
    "                break\n",
    "                \n",
    "        j = max_index + 1\n",
    "        answer += num[max_index]\n",
    "    \n",
    "    return answer"
   ]
  },
  {
   "cell_type": "code",
   "execution_count": 170,
   "id": "09d86212",
   "metadata": {},
   "outputs": [],
   "source": [
    "def solution(number, k):\n",
    "    stack = []\n",
    "    \n",
    "    for num in number:\n",
    "        while stack and stack[-1] < num and k > 0:\n",
    "            k -= 1\n",
    "            stack.pop()\n",
    "        stack.append(num)\n",
    "    \n",
    "    if k != 0:\n",
    "        stack = stack[:-k]\n",
    "        \n",
    "    return ''.join(stack)"
   ]
  },
  {
   "cell_type": "code",
   "execution_count": 171,
   "id": "f692f2b5",
   "metadata": {},
   "outputs": [
    {
     "data": {
      "text/plain": [
       "'775841'"
      ]
     },
     "execution_count": 171,
     "metadata": {},
     "output_type": "execute_result"
    }
   ],
   "source": [
    "number = \"4177252841\"\n",
    "k = 4\n",
    "solution(number, k)"
   ]
  },
  {
   "cell_type": "code",
   "execution_count": 136,
   "id": "b5171b0b",
   "metadata": {},
   "outputs": [],
   "source": [
    "# 탐욕법 2) 조이스틱\n",
    "\n",
    "def solution(name): \n",
    "    answer = 0\n",
    "    if len(name)*\"A\" == name:\n",
    "        return answer\n",
    "    \n",
    "    name = list(ord(i) for i in name)\n",
    "\n",
    "    name = list(ord(\"Z\") + 1 - i if i >= ord(\"N\") else i - ord(\"A\") for i in name)\n",
    "    \n",
    "    count = 0\n",
    "    \n",
    "    if int(0) in name[:round(len(name)/2)]:\n",
    "        for i in range(len(name)):\n",
    "            if name[i] == int(0) and i != 0:\n",
    "                break\n",
    "            count += 1\n",
    "        rename = list(name.pop(0) for i in range(count))\n",
    "        rename = rename + list(int(0) for i in range(count-2, -1, -1)) \n",
    "        name = rename + list(name.pop() for i in range(len(name)))\n",
    "        \n",
    "    print(name)\n",
    "\n",
    "    answer = len(name) - 1\n",
    "\n",
    "    for i in range(len(name)-1, -1, -1):\n",
    "        if name[i] != int(0):\n",
    "            break\n",
    "        answer -= 1\n",
    "        del name[i]\n",
    "\n",
    "    for i in name:\n",
    "        answer += i\n",
    "        \n",
    "    return answer"
   ]
  },
  {
   "cell_type": "code",
   "execution_count": 138,
   "id": "00f166ec",
   "metadata": {},
   "outputs": [],
   "source": [
    "def solution(name): \n",
    "    answer = 0\n",
    "    if len(name)*\"A\" == name:\n",
    "        return answer\n",
    "    \n",
    "    name = list(ord(i) for i in name)\n",
    "\n",
    "    name = list(ord(\"Z\") + 1 - i if i >= ord(\"N\") else i - ord(\"A\") for i in name)\n",
    "    \n",
    "    print(name)\n",
    "    \n",
    "    if int(0) in name:\n",
    "        max_len_a = find_A(name)\n",
    "    \n",
    "        if max_len_a[0] < max_len_a[1]:\n",
    "            rename = list(name[i] for i in range(max_len_a[0]))\n",
    "            rename = rename + list(int(0) for i in range(max_len_a[0]-2, -1, -1))  + list(name[i] for i in range(len(name)-1, max_len_a[1]+max_len_a[0]-1,-1))\n",
    "            name = rename\n",
    "        else:\n",
    "            count = 0\n",
    "            if int(0) in name[:round(len(name)/2)]:\n",
    "                for i in range(len(name)):\n",
    "                    if name[i] == int(0) and i != 0:\n",
    "                        break\n",
    "                    count += 1\n",
    "                rename = list(name.pop(0) for i in range(count))\n",
    "                rename = rename + list(int(0) for i in range(count-2, -1, -1)) \n",
    "                name = rename + list(name.pop() for i in range(len(name)))\n",
    "                \n",
    "    answer = len(name) - 1\n",
    "    \n",
    "    for i in range(len(name)-1, -1, -1):\n",
    "        if name[i] != int(0):\n",
    "            break\n",
    "        answer -= 1\n",
    "        del name[i]\n",
    "\n",
    "    for i in name:\n",
    "        answer += i\n",
    "        \n",
    "    return answer\n",
    "    \n",
    "def find_A(name):\n",
    "    a_index = list(i for i in range(len(name)) if name[i] == int(0))\n",
    "    \n",
    "    a_dict = dict()\n",
    "    count = 1\n",
    "    \n",
    "    for i in range(len(a_index)-1):\n",
    "        if a_index[i+1] - a_index[i] > 1 :\n",
    "            a_dict[a_index[i]-count + 1] = count\n",
    "            count = 1\n",
    "        else:\n",
    "            count += 1\n",
    "            \n",
    "    a_dict[a_index[-1]-count + 1] = count\n",
    "    \n",
    "    max_i = max(a_dict, key=a_dict.get)\n",
    "    \n",
    "    return [max_i, a_dict[max_i]]"
   ]
  },
  {
   "cell_type": "code",
   "execution_count": 137,
   "id": "66674992",
   "metadata": {},
   "outputs": [
    {
     "name": "stdout",
     "output_type": "stream",
     "text": [
      "[9, 13, 0]\n"
     ]
    },
    {
     "data": {
      "text/plain": [
       "23"
      ]
     },
     "execution_count": 137,
     "metadata": {},
     "output_type": "execute_result"
    }
   ],
   "source": [
    "name = \"JAN\"\n",
    "\n",
    "solution(name)"
   ]
  },
  {
   "cell_type": "code",
   "execution_count": 164,
   "id": "2e2301b3",
   "metadata": {},
   "outputs": [],
   "source": [
    "# 탐욕법 3) 큰 수 만들기\n",
    "\n",
    "def solution(new_id):\n",
    "    no_input = \"~!@#$%^&*()=+[{]}:?,<>/\"\n",
    "    \n",
    "    new_id = list(i.lower() for i in new_id if i not in no_input)\n",
    "    \n",
    "    if new_id:\n",
    "        renew_id = list(new_id[0])\n",
    "        \n",
    "        for i in range(1, len(new_id)):\n",
    "            if renew_id[-1] == '.' and renew_id[-1] == new_id[i]:\n",
    "                continue\n",
    "            renew_id.append(new_id[i])\n",
    "                \n",
    "        if renew_id and renew_id[0] == '.':\n",
    "            renew_id.pop(0)\n",
    "       \n",
    "        if len(renew_id) == 0:\n",
    "            renew_id = list('a')\n",
    "            \n",
    "        if len(renew_id) > 15:\n",
    "            renew_id = renew_id[:15]\n",
    "            \n",
    "        if renew_id[-1] == '.':\n",
    "            renew_id.pop()\n",
    "            \n",
    "        new_id = renew_id\n",
    "    else:\n",
    "        new_id = list('a')\n",
    "    \n",
    "    while(len(new_id) <= 2):\n",
    "        new_id += list(new_id[-1])\n",
    "        \n",
    "    return ''.join(new_id)"
   ]
  },
  {
   "cell_type": "code",
   "execution_count": 159,
   "id": "238d509d",
   "metadata": {},
   "outputs": [],
   "source": [
    "import re\n",
    "\n",
    "def solution(new_id):\n",
    "    no_input = \"~!@#$%^&*()=+[{]}:?,<>/\"\n",
    "    new_id = ''.join(list(i.lower() for i in new_id if i not in no_input))\n",
    "    new_id = re.sub('\\.+','.',new_id)\n",
    "    new_id = re.sub('^[.]|[.]$','',new_id)\n",
    "    new_id = 'a' if not new_id else new_id[:15]\n",
    "    new_id = re.sub('[.]$','',new_id)\n",
    "    new_id = new_id if len(new_id) > 2 else new_id + new_id[-1]*(3-len(new_id))\n",
    "    \n",
    "    return new_id"
   ]
  },
  {
   "cell_type": "code",
   "execution_count": 165,
   "id": "6d902a9e",
   "metadata": {},
   "outputs": [
    {
     "data": {
      "text/plain": [
       "'aaab'"
      ]
     },
     "execution_count": 165,
     "metadata": {},
     "output_type": "execute_result"
    }
   ],
   "source": [
    "new_id = \"aaab\"\n",
    "\n",
    "solution(new_id)"
   ]
  },
  {
   "cell_type": "code",
   "execution_count": 3,
   "id": "2d6b8629",
   "metadata": {},
   "outputs": [],
   "source": [
    "# 동적계획법 1) N으로 표현\n",
    "\n",
    "def solution(N, number):\n",
    "    num_list = list([int(str(N)*i)] for i in range(1, 9))\n",
    "    \n",
    "    if [number] in num_list:\n",
    "        return len(str(number))\n",
    "        \n",
    "    for i in range(1, 8):\n",
    "        for j in range(i):\n",
    "            for a in num_list[j]:\n",
    "                for b in num_list[i-j-1]:\n",
    "                    num_list[i].append(a+b)\n",
    "                    num_list[i].append(a-b)\n",
    "                    num_list[i].append(a*b)\n",
    "                    if b != 0:\n",
    "                        num_list[i].append(a//b)\n",
    "                    \n",
    "        if number in num_list[i]:\n",
    "            return i+1\n",
    "        num_list[i] = list(set(num_list[i]))\n",
    "    \n",
    "    return -1"
   ]
  },
  {
   "cell_type": "code",
   "execution_count": 4,
   "id": "e4f1aaf5",
   "metadata": {},
   "outputs": [
    {
     "data": {
      "text/plain": [
       "4"
      ]
     },
     "execution_count": 4,
     "metadata": {},
     "output_type": "execute_result"
    }
   ],
   "source": [
    "N = 5\n",
    "number = 12\n",
    "\n",
    "solution(N, number)"
   ]
  },
  {
   "cell_type": "code",
   "execution_count": 76,
   "id": "5104a484",
   "metadata": {},
   "outputs": [],
   "source": [
    "# 동적계획법 2) 정수 삼각형\n",
    "\n",
    "def solution(triangle):\n",
    "    triangle = list([0] + i + [0] for i in triangle)\n",
    "   \n",
    "    for i in range(len(triangle)-1):\n",
    "        for j in range(len(triangle[i])-1):\n",
    "            triangle[i+1][j+1] += max(triangle[i][j], triangle[i][j+1])\n",
    "            \n",
    "    return max(triangle[-1])"
   ]
  },
  {
   "cell_type": "code",
   "execution_count": 77,
   "id": "a0b1035c",
   "metadata": {},
   "outputs": [
    {
     "name": "stdout",
     "output_type": "stream",
     "text": [
      "[[0, 7, 0], [0, 3, 8, 0], [0, 8, 1, 0, 0], [0, 2, 7, 4, 4, 0], [0, 4, 5, 2, 6, 5, 0]]\n"
     ]
    },
    {
     "data": {
      "text/plain": [
       "30"
      ]
     },
     "execution_count": 77,
     "metadata": {},
     "output_type": "execute_result"
    }
   ],
   "source": [
    "triangle = [[7], [3, 8], [8, 1, 0], [2, 7, 4, 4], [4, 5, 2, 6, 5]]\n",
    "\n",
    "solution(triangle)"
   ]
  },
  {
   "cell_type": "code",
   "execution_count": 47,
   "id": "c724e7e6",
   "metadata": {},
   "outputs": [],
   "source": [
    "# 로또 최고 순위와 최저 순위\n",
    "\n",
    "def solution(lottos, win_nums):\n",
    "    zero_num = len(list(i for i in lottos if i == 0))\n",
    "    \n",
    "    if set(lottos) == {0}:\n",
    "        return [1, 6]\n",
    "    \n",
    "    score = (6 - len(set(win_nums) - set(lottos))) if (6 - len(set(win_nums) - set(lottos))) >= 2 else 1\n",
    "    \n",
    "    return [7 - (score + zero_num), 7 - score]"
   ]
  },
  {
   "cell_type": "code",
   "execution_count": 48,
   "id": "087a0bd9",
   "metadata": {},
   "outputs": [
    {
     "data": {
      "text/plain": [
       "[1, 6]"
      ]
     },
     "execution_count": 48,
     "metadata": {},
     "output_type": "execute_result"
    }
   ],
   "source": [
    "lottos = [0, 0, 0, 0, 0, 0]\n",
    "win_nums = [31, 10, 45, 1, 6, 19]\n",
    "\n",
    "solution(lottos, win_nums)"
   ]
  },
  {
   "cell_type": "code",
   "execution_count": 1,
   "id": "1a2533a7",
   "metadata": {},
   "outputs": [],
   "source": [
    "# 숫자 문자열과 영단어\n",
    "\n",
    "def solution(s):\n",
    "    answer = ''\n",
    "    alpha_dict = {\"zero\":0, \"one\":1, \"two\":2, \"three\":3, \"four\":4, \"five\":5, \"six\":6, \"seven\":7, \"eight\":8, \"nine\":9}\n",
    "\n",
    "    alpha = ''\n",
    "    for i in s:\n",
    "        if i.isdigit():\n",
    "            answer += i\n",
    "            continue\n",
    "        alpha += i\n",
    "        if alpha in alpha_dict:\n",
    "            answer += str(alpha_dict[alpha])\n",
    "            alpha = ''\n",
    "\n",
    "\n",
    "    return int(answer)"
   ]
  },
  {
   "cell_type": "code",
   "execution_count": 2,
   "id": "43733882",
   "metadata": {},
   "outputs": [],
   "source": [
    "def solution(s):\n",
    "    answer = s\n",
    "    alpha_dict = {\"zero\":0, \"one\":1, \"two\":2, \"three\":3, \"four\":4, \"five\":5, \"six\":6, \"seven\":7, \"eight\":8, \"nine\":9}\n",
    "\n",
    "    for idx, value in alpha_dict.items():\n",
    "        answer = answer.replace(idx, str(value))\n",
    "      \n",
    "    return int(answer)"
   ]
  },
  {
   "cell_type": "code",
   "execution_count": 3,
   "id": "b3bb8589",
   "metadata": {},
   "outputs": [
    {
     "data": {
      "text/plain": [
       "1478"
      ]
     },
     "execution_count": 3,
     "metadata": {},
     "output_type": "execute_result"
    }
   ],
   "source": [
    "s = \"one4seveneight\"\n",
    "\n",
    "solution(s)"
   ]
  },
  {
   "cell_type": "code",
   "execution_count": 6,
   "id": "f6897a75",
   "metadata": {},
   "outputs": [],
   "source": [
    "# 키패드 누르기\n",
    "\n",
    "def solution(numbers, hand):\n",
    "    numbers = list([(i-1)//3, (i-1)%3] if i != 0 else [3,1] for i in numbers)\n",
    "    left = list([(i-1)//3, (i-1)%3] for i in [1,4,7])\n",
    "    right = list([(i-1)//3, (i-1)%3] for i in [3,6,9])\n",
    "    hand_loc = {\"L\": [3,0], \"R\": [3,2]} # left, right\n",
    "    \n",
    "    answer = \"\"\n",
    "    path = \"\"\n",
    "    \n",
    "    for i in numbers:\n",
    "        if i in left:\n",
    "            answer += \"L\"\n",
    "            hand_loc[\"L\"] = i\n",
    "        elif i in right:\n",
    "            answer += \"R\"\n",
    "            hand_loc[\"R\"] = i\n",
    "        else:\n",
    "            hand_loc, path = find_next_path(hand_loc, i, hand)\n",
    "            answer += path\n",
    "                 \n",
    "    return answer\n",
    "            \n",
    "def find_next_path(hand_loc, i, hand):\n",
    "    l = abs(hand_loc[\"L\"][0] - i[0]) + abs(hand_loc[\"L\"][1] - i[1])\n",
    "    r = abs(hand_loc[\"R\"][0] - i[0]) + abs(hand_loc[\"R\"][1] - i[1])\n",
    "    \n",
    "    if l > r:\n",
    "        hand_loc[\"R\"] = i\n",
    "        return hand_loc, \"R\"\n",
    "    if l < r:\n",
    "        hand_loc[\"L\"] = i\n",
    "        return hand_loc, \"L\"\n",
    "    if l == r:\n",
    "        hand_loc[hand[0].upper()] = i\n",
    "        return hand_loc, hand[0].upper()"
   ]
  },
  {
   "cell_type": "code",
   "execution_count": 7,
   "id": "3dd404ad",
   "metadata": {},
   "outputs": [
    {
     "data": {
      "text/plain": [
       "'LRLLLRLLRRL'"
      ]
     },
     "execution_count": 7,
     "metadata": {},
     "output_type": "execute_result"
    }
   ],
   "source": [
    "numbers = [1, 3, 4, 5, 8, 2, 1, 4, 5, 9, 5]\n",
    "hands = \"right\"\n",
    "\n",
    "solution(numbers, hands)"
   ]
  },
  {
   "cell_type": "code",
   "execution_count": 142,
   "id": "85de5b32",
   "metadata": {},
   "outputs": [],
   "source": [
    "# 크레인 인형뽑기\n",
    "\n",
    "def solution(board, moves):\n",
    "    answer = 0\n",
    "    new_board = board.copy()\n",
    "    \n",
    "    for i in range(len(board)):\n",
    "        new_board[i] = list(board[j][i] for j in range(len(board[i])) if board[j][i] != 0)\n",
    "    \n",
    "    box = [new_board[moves[0]-1].pop(0)]\n",
    "    \n",
    "    for i in range(1, len(moves)):\n",
    "        if new_board[moves[i]-1]:\n",
    "            input_box = new_board[moves[i]-1].pop(0)\n",
    "            if box and input_box == box[-1]:\n",
    "                answer += 2\n",
    "                box.pop()\n",
    "                continue\n",
    "            box += [input_box]\n",
    "            \n",
    "    return answer"
   ]
  },
  {
   "cell_type": "code",
   "execution_count": 143,
   "id": "2bd9bdc9",
   "metadata": {},
   "outputs": [
    {
     "name": "stdout",
     "output_type": "stream",
     "text": [
      "[[4, 3], [2, 2, 5], [1, 5, 4, 1], [4, 3], [3, 1, 2, 1]]\n",
      "4\n"
     ]
    }
   ],
   "source": [
    "board = [[0,0,0,0,0],[0,0,1,0,3],[0,2,5,0,1],[4,2,4,4,2],[3,5,1,3,1]]\n",
    "moves = [1,5,3,5,1,2,1,4]\n",
    "\n",
    "solution(board, moves)"
   ]
  },
  {
   "cell_type": "code",
   "execution_count": 158,
   "id": "3c248b83",
   "metadata": {},
   "outputs": [],
   "source": [
    "# 없는 숫자 더하기\n",
    "\n",
    "def solution(numbers):\n",
    "    return sum(set(range(0, 10)) - set(numbers))"
   ]
  },
  {
   "cell_type": "code",
   "execution_count": 159,
   "id": "94229b46",
   "metadata": {},
   "outputs": [
    {
     "data": {
      "text/plain": [
       "14"
      ]
     },
     "execution_count": 159,
     "metadata": {},
     "output_type": "execute_result"
    }
   ],
   "source": [
    "numbers = [1,2,3,4,6,7,8,0]\n",
    "\n",
    "solution(numbers)"
   ]
  },
  {
   "cell_type": "code",
   "execution_count": 172,
   "id": "bc0a7e28",
   "metadata": {},
   "outputs": [],
   "source": [
    "# 음양 더하기\n",
    "\n",
    "def solution(absolutes, signs):\n",
    "    signs = list(1 if i == True else -1 for i in signs)\n",
    "    \n",
    "    return sum(list(a * b for a, b in zip(absolutes, signs)))"
   ]
  },
  {
   "cell_type": "code",
   "execution_count": 173,
   "id": "d80e9cf0",
   "metadata": {},
   "outputs": [
    {
     "data": {
      "text/plain": [
       "9"
      ]
     },
     "execution_count": 173,
     "metadata": {},
     "output_type": "execute_result"
    }
   ],
   "source": [
    "absolutes = [4,7,12]\n",
    "signs = [True,False,True]\n",
    "\n",
    "solution(absolutes, signs)"
   ]
  },
  {
   "cell_type": "code",
   "execution_count": 1,
   "id": "a5b31730",
   "metadata": {},
   "outputs": [],
   "source": [
    "# 내적\n",
    "\n",
    "def solution(a, b):\n",
    "    return sum(list(x*y for x,y in zip(a,b)))"
   ]
  },
  {
   "cell_type": "code",
   "execution_count": 2,
   "id": "fc1e8463",
   "metadata": {},
   "outputs": [
    {
     "data": {
      "text/plain": [
       "3"
      ]
     },
     "execution_count": 2,
     "metadata": {},
     "output_type": "execute_result"
    }
   ],
   "source": [
    "a = [1,2,3,4]\n",
    "b = [-3,-1,0,2]\n",
    "\n",
    "solution(a,b)"
   ]
  },
  {
   "cell_type": "code",
   "execution_count": 3,
   "id": "a673ecac",
   "metadata": {},
   "outputs": [],
   "source": [
    "# 문자열 압축\n",
    "\n",
    "import math\n",
    "\n",
    "def solution(s):\n",
    "    pattern = find_pattern(s)\n",
    "    \n",
    "    if not pattern:\n",
    "        return len(s)\n",
    "    \n",
    "    count = 1\n",
    "    s_list = list()\n",
    "    \n",
    "    for i in pattern:\n",
    "        result_s = \"\"\n",
    "        cmp_s = \"\"\n",
    "        for j in range(0, len(s), i):\n",
    "            if cmp_s != s[j:j+i]:\n",
    "                result_s += cmp_s\n",
    "                if count > 1:\n",
    "                    result_s += str(count)\n",
    "                    count = 1\n",
    "            else:\n",
    "                count += 1\n",
    "            cmp_s = s[j:j+i]  \n",
    "        result_s += cmp_s \n",
    "        if count > 1:\n",
    "            result_s += str(count)\n",
    "            count = 1\n",
    "        s_list.append(len(result_s))\n",
    "        \n",
    "    return min(s_list)\n",
    "        \n",
    "def find_pattern(s):\n",
    "    length = list()\n",
    "    \n",
    "    for i in range(len(s)):\n",
    "        length += list(i for i in range(1, math.ceil(len(s)/2+1)) if s[:i] == s[i:2*i])\n",
    "        s = s[1:]\n",
    "    \n",
    "    return list(set(length))"
   ]
  },
  {
   "cell_type": "code",
   "execution_count": 4,
   "id": "773cdbd4",
   "metadata": {},
   "outputs": [
    {
     "data": {
      "text/plain": [
       "14"
      ]
     },
     "execution_count": 4,
     "metadata": {},
     "output_type": "execute_result"
    }
   ],
   "source": [
    "s = \"abcabcabcabcdededededede\"\n",
    "\n",
    "solution(s)"
   ]
  },
  {
   "cell_type": "code",
   "execution_count": 1,
   "id": "8f3ef89c",
   "metadata": {},
   "outputs": [],
   "source": [
    "# 소수 만들기\n",
    "\n",
    "from itertools import combinations\n",
    " \n",
    "def solution(nums):\n",
    "    return len(list(i for i in combinations(nums, 3) if is_prime_number(i)))\n",
    "    \n",
    "def is_prime_number(x):\n",
    "    x = sum(x)\n",
    "    for i in range(2, x):\n",
    "        if x%i == 0:\n",
    "            return False\n",
    "    \n",
    "    return True"
   ]
  },
  {
   "cell_type": "code",
   "execution_count": 2,
   "id": "a68ba529",
   "metadata": {},
   "outputs": [
    {
     "data": {
      "text/plain": [
       "1"
      ]
     },
     "execution_count": 2,
     "metadata": {},
     "output_type": "execute_result"
    }
   ],
   "source": [
    "nums = [1,2,3,4]\n",
    "\n",
    "solution(nums)"
   ]
  },
  {
   "cell_type": "code",
   "execution_count": 24,
   "id": "8989c98a",
   "metadata": {},
   "outputs": [],
   "source": [
    "# 포켓몬\n",
    "\n",
    "def solution(nums):\n",
    "    if len(set(nums)) < len(nums)//2:\n",
    "        return len(set(nums))\n",
    "    return len(nums)//2\n",
    "\n",
    "    # return min(len(set(mums)), len(nums)//2)"
   ]
  },
  {
   "cell_type": "code",
   "execution_count": 25,
   "id": "45f30585",
   "metadata": {},
   "outputs": [
    {
     "data": {
      "text/plain": [
       "2"
      ]
     },
     "execution_count": 25,
     "metadata": {},
     "output_type": "execute_result"
    }
   ],
   "source": [
    "nums = [3,1,2,3]\n",
    "\n",
    "solution(nums)"
   ]
  },
  {
   "cell_type": "code",
   "execution_count": 61,
   "id": "4de7a968",
   "metadata": {},
   "outputs": [],
   "source": [
    "# 멀쩡한 사각형\n",
    "\n",
    "def solution(w,h):\n",
    "    return w*h-(w+h-find_num(w,h))\n",
    "    \n",
    "    \n",
    "def find_num(w,h):\n",
    "    if h > w:\n",
    "        w,h = h,w\n",
    "        \n",
    "    while(h!=0):\n",
    "        w = w % h\n",
    "        w,h = h,w\n",
    "    \n",
    "    return w"
   ]
  },
  {
   "cell_type": "code",
   "execution_count": 69,
   "id": "5506cf73",
   "metadata": {},
   "outputs": [
    {
     "name": "stdout",
     "output_type": "stream",
     "text": [
      "2 3\n"
     ]
    },
    {
     "data": {
      "text/plain": [
       "80"
      ]
     },
     "execution_count": 69,
     "metadata": {},
     "output_type": "execute_result"
    }
   ],
   "source": [
    "w = 8\n",
    "h = 12\n",
    "\n",
    "solution(w,h)"
   ]
  },
  {
   "cell_type": "code",
   "execution_count": 28,
   "id": "d769205e",
   "metadata": {},
   "outputs": [
    {
     "data": {
      "text/plain": [
       "112579511"
      ]
     },
     "execution_count": 28,
     "metadata": {},
     "output_type": "execute_result"
    }
   ],
   "source": [
    "500000000-(3**18)"
   ]
  },
  {
   "cell_type": "code",
   "execution_count": 183,
   "id": "6da55ce7",
   "metadata": {},
   "outputs": [],
   "source": [
    "# 123나라의 숫자\n",
    "\n",
    "def solution(n):\n",
    "    answer = ''\n",
    "    \n",
    "    if n // 3 == 0:\n",
    "        answer += str(n)\n",
    "    \n",
    "    while n // 3 >= 1:\n",
    "        if n % 3 == 0:\n",
    "            remain = 3\n",
    "            n = n // 3 - 1\n",
    "        else:\n",
    "            remain = n % 3\n",
    "            n = n // 3\n",
    "        answer += str(remain)\n",
    "        \n",
    "        if 0 < n < 3:\n",
    "            answer += str(n)\n",
    "            \n",
    "    return answer.replace('3','4')[::-1]"
   ]
  },
  {
   "cell_type": "code",
   "execution_count": 214,
   "id": "62f4003b",
   "metadata": {},
   "outputs": [],
   "source": [
    "def solution(n):\n",
    "    num = ['4','1','2']\n",
    "    answer = \"\"\n",
    "    \n",
    "    if n < 4:\n",
    "        return num[n%3]\n",
    "    \n",
    "    while(n > 0):\n",
    "        answer += num[n%3]\n",
    "        n = (n-1) // 3\n",
    "        \n",
    "    return answer[::-1]"
   ]
  },
  {
   "cell_type": "code",
   "execution_count": 215,
   "id": "fe6b5108",
   "metadata": {},
   "outputs": [
    {
     "data": {
      "text/plain": [
       "'224'"
      ]
     },
     "execution_count": 215,
     "metadata": {},
     "output_type": "execute_result"
    }
   ],
   "source": [
    "n = 27\n",
    "\n",
    "solution(n)"
   ]
  },
  {
   "cell_type": "code",
   "execution_count": 244,
   "id": "e76cfe93",
   "metadata": {},
   "outputs": [],
   "source": [
    "# 티켓 넘버\n",
    "\n",
    "from itertools import combinations\n",
    "\n",
    "def solution(numbers, target):\n",
    "    target = (sum(numbers) - target)//2\n",
    "    answer = 0\n",
    "    \n",
    "    for i in range(len(numbers)):\n",
    "        for j in combinations(numbers, i):\n",
    "            if sum(j) == target:\n",
    "                answer += 1\n",
    "    \n",
    "    return answer"
   ]
  },
  {
   "cell_type": "code",
   "execution_count": 277,
   "id": "33bf9f51",
   "metadata": {},
   "outputs": [],
   "source": [
    "from itertools import product\n",
    "\n",
    "def solution(numbers, target):\n",
    "    return list(map(sum, product(*(list((i, -i) for i in numbers))))).count(target)"
   ]
  },
  {
   "cell_type": "code",
   "execution_count": 283,
   "id": "72a5098d",
   "metadata": {},
   "outputs": [],
   "source": [
    "def solution(numbers, target):\n",
    "    if not numbers and target == 0:\n",
    "        return 1\n",
    "    elif not numbers:\n",
    "        return 0\n",
    "    \n",
    "    return solution(numbers[1:], target + numbers[0]) + solution(numbers[1:], target - numbers[0])"
   ]
  },
  {
   "cell_type": "code",
   "execution_count": 284,
   "id": "1da3adb9",
   "metadata": {},
   "outputs": [
    {
     "data": {
      "text/plain": [
       "2"
      ]
     },
     "execution_count": 284,
     "metadata": {},
     "output_type": "execute_result"
    }
   ],
   "source": [
    "numbers = [1,1,2,4]\n",
    "target = 4\n",
    "\n",
    "solution(numbers, target)"
   ]
  }
 ],
 "metadata": {
  "kernelspec": {
   "display_name": "Python 3",
   "language": "python",
   "name": "python3"
  },
  "language_info": {
   "codemirror_mode": {
    "name": "ipython",
    "version": 3
   },
   "file_extension": ".py",
   "mimetype": "text/x-python",
   "name": "python",
   "nbconvert_exporter": "python",
   "pygments_lexer": "ipython3",
   "version": "3.8.8"
  }
 },
 "nbformat": 4,
 "nbformat_minor": 5
}
