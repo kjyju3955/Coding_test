{
 "cells": [
  {
   "cell_type": "markdown",
   "metadata": {},
   "source": [
    "# 구명보트"
   ]
  },
  {
   "cell_type": "markdown",
   "metadata": {},
   "source": [
    "## 문제\n",
    "구명보트는 작아서 한 번에 최대 2명씩 밖에 탈 수 없고, 무게 제한 존재. 구명보트를 최대한 적게 사용하여 모든 사람을 구출하려고 함. 사람들의 몸무게를 담은 배열 people과 구명보트의 무게 제한 limit가 매개변수로 주어질 때, 모든 사람을 구출하기 위해 필요한 구명보트 개수의 최솟값을 return\n",
    "<br><br>\n",
    "input : people = 정수 배열, limit = 정수, output : 정수\n",
    "\n",
    "#### <조건>\n",
    " - 무인도에 갇힌 사람은 1명 이상 50,000명 이하\n",
    " - 각 사람의 몸무게는 40kg 이상 240kg 이하\n",
    " - 구명보트의 무게 제한은 40kg 이상 240kg 이하\n",
    " - 구명보트의 무게 제한은 항상 사람들의 몸무게 중 최댓값보다 크게 주어지므로 사람들을 구출할 수 없는 경우는 없음\n",
    " \n",
    "#### <예시>\n",
    "input : people = [70, 50, 80, 50], limit = 100\n",
    "<br><br>\n",
    "result : 3\n",
    "<br><br>\n",
    " - 2번째 사람과 4번째 사람은 같이 탈 수 있음\n",
    " - 1번째 사람과 3번째 사람의 무게의 합은 150kg이므로 구명보트의 무게 제한을 초과\n",
    " - 따라서, 3번으로 모든 사람이 구명보트를 탈 수 있음\n",
    " \n",
    "https://programmers.co.kr/learn/courses/30/lessons/42885"
   ]
  },
  {
   "cell_type": "markdown",
   "metadata": {},
   "source": [
    "## 풀이\n",
    " - 실행 시간을 줄이기 위해서 데크 사용\n",
    " - 구명보트의 무게를 정렬하고, 구명보트의 횟수를 저장할 count 선언\n",
    " - people을 돌면서 조건이 맞을 때마다 pop을 시켜주고 모든 people이 다 pop되면 반복문을 멈춤\n",
    "   - 반복문을 돌 때마다 count에 1을 더해줌\n",
    "   - 만약 people에 사람이 1명이되면 구명보트에 혼자 타야 하기에 반복문 탈출\n",
    "   - 그 외의 경우에는 무게가 가장 많이 나가는 사람과 적게 나가는 사람의 무게를 계산해서 두명을 태울 수 있는 경우 people에서 pop시켜줌\n",
    " - 반복문을 종료하고 나서 누적된 count를 return"
   ]
  },
  {
   "cell_type": "code",
   "execution_count": 1,
   "metadata": {},
   "outputs": [],
   "source": [
    "from collections import deque\n",
    "\n",
    "def solution(people, limit):\n",
    "    people = deque(sorted(people))\n",
    "    count = 0\n",
    "    \n",
    "    while people:\n",
    "        count += 1\n",
    "        \n",
    "        if len(people) == 1: break\n",
    "        if limit - people.pop() >= people[0]: people.popleft()\n",
    "            \n",
    "    return count"
   ]
  },
  {
   "cell_type": "code",
   "execution_count": 2,
   "metadata": {},
   "outputs": [
    {
     "data": {
      "text/plain": [
       "3"
      ]
     },
     "execution_count": 2,
     "metadata": {},
     "output_type": "execute_result"
    }
   ],
   "source": [
    "people = [70, 80, 50]\n",
    "limit = 100\n",
    "\n",
    "solution(people, limit)"
   ]
  }
 ],
 "metadata": {
  "kernelspec": {
   "display_name": "Python 3",
   "language": "python",
   "name": "python3"
  },
  "language_info": {
   "codemirror_mode": {
    "name": "ipython",
    "version": 3
   },
   "file_extension": ".py",
   "mimetype": "text/x-python",
   "name": "python",
   "nbconvert_exporter": "python",
   "pygments_lexer": "ipython3",
   "version": "3.8.5"
  }
 },
 "nbformat": 4,
 "nbformat_minor": 4
}
